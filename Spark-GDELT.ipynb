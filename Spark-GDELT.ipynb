{
 "cells": [
  {
   "cell_type": "markdown",
   "metadata": {},
   "source": [
    "# Schema"
   ]
  },
  {
   "cell_type": "code",
   "execution_count": 55,
   "metadata": {},
   "outputs": [
    {
     "data": {
      "text/plain": [
       "[StructField(GLOBALEVENTID,LongType,true),\n",
       " StructField(SQLDATE,LongType,true),\n",
       " StructField(MonthYear,LongType,true),\n",
       " StructField(Year,LongType,true),\n",
       " StructField(FractionDate,FloatType,true),\n",
       " StructField(Actor1Code,StringType,true),\n",
       " StructField(Actor1Name,StringType,true),\n",
       " StructField(Actor1CountryCode,StringType,true),\n",
       " StructField(Actor1KnownGroupCode,StringType,true),\n",
       " StructField(Actor1EthnicCode,StringType,true),\n",
       " StructField(Actor1Religion1Code,StringType,true),\n",
       " StructField(Actor1Religion2Code,StringType,true),\n",
       " StructField(Actor1Type1Code,StringType,true),\n",
       " StructField(Actor1Type2Code,StringType,true),\n",
       " StructField(Actor1Type3Code,StringType,true),\n",
       " StructField(Actor2Code,StringType,true),\n",
       " StructField(Actor2Name,StringType,true),\n",
       " StructField(Actor2CountryCode,StringType,true),\n",
       " StructField(Actor2KnownGroupCode,StringType,true),\n",
       " StructField(Actor2EthnicCode,StringType,true),\n",
       " StructField(Actor2Religion1Code,StringType,true),\n",
       " StructField(Actor2Religion2Code,StringType,true),\n",
       " StructField(Actor2Type1Code,StringType,true),\n",
       " StructField(Actor2Type2Code,StringType,true),\n",
       " StructField(Actor2Type3Code,StringType,true),\n",
       " StructField(IsRootEvent,IntegerType,true),\n",
       " StructField(EventCode,StringType,true),\n",
       " StructField(EventBaseCode,StringType,true),\n",
       " StructField(EventRootCode,StringType,true),\n",
       " StructField(QuadClass,LongType,true),\n",
       " StructField(GoldsteinScale,FloatType,true),\n",
       " StructField(NumMentions,LongType,true),\n",
       " StructField(NumSources,LongType,true),\n",
       " StructField(NumArticles,LongType,true),\n",
       " StructField(AvgTone,FloatType,true),\n",
       " StructField(Actor1Geo_Type,LongType,true),\n",
       " StructField(Actor1Geo_FullName,StringType,true),\n",
       " StructField(Actor1Geo_CountryCode,StringType,true),\n",
       " StructField(Actor1Geo_ADM1Code,StringType,true),\n",
       " StructField(Actor1Geo_Lat,FloatType,true),\n",
       " StructField(Actor1Geo_Long,FloatType,true),\n",
       " StructField(Actor1Geo_FeatureID,LongType,true),\n",
       " StructField(Actor2Geo_Type,LongType,true),\n",
       " StructField(Actor2Geo_FullName,StringType,true),\n",
       " StructField(Actor2Geo_CountryCode,StringType,true),\n",
       " StructField(Actor2Geo_ADM1Code,StringType,true),\n",
       " StructField(Actor2Geo_Lat,FloatType,true),\n",
       " StructField(Actor2Geo_Long,FloatType,true),\n",
       " StructField(Actor2Geo_FeatureID,LongType,true),\n",
       " StructField(ActionGeo_Type,LongType,true),\n",
       " StructField(ActionGeo_FullName,StringType,true),\n",
       " StructField(ActionGeo_CountryCode,StringType,true),\n",
       " StructField(ActionGeo_ADM1Code,StringType,true),\n",
       " StructField(ActionGeo_Lat,FloatType,true),\n",
       " StructField(ActionGeo_Long,FloatType,true),\n",
       " StructField(ActionGeo_FeatureID,LongType,true),\n",
       " StructField(DATEADDED,LongType,true),\n",
       " StructField(SOURCEURL,StringType,true)]"
      ]
     },
     "execution_count": 55,
     "metadata": {},
     "output_type": "execute_result"
    }
   ],
   "source": [
    "from pyspark.sql.types import StructType, StructField, StringType, FloatType, LongType, IntegerType, BooleanType\n",
    "\n",
    "types = {\n",
    "    'Float': lambda: FloatType(),\n",
    "    'Integer': lambda: LongType(),\n",
    "    'Long': lambda: LongType(),\n",
    "    'Bool': lambda: IntegerType()\n",
    "}\n",
    "\n",
    "feats = []\n",
    "with open('CSV.header.txt') as header_file:\n",
    "    for lineno, line in enumerate(header_file):\n",
    "        line = line.strip()\n",
    "        if ':' in line:\n",
    "            feat_name, type_name = line.split(':')\n",
    "            feats.append(StructField(feat_name, types[type_name](), True))\n",
    "        else:\n",
    "            feats.append(StructField(line, StringType(), True))\n",
    "            \n",
    "schema = StructType(feats)\n",
    "feats"
   ]
  },
  {
   "cell_type": "markdown",
   "metadata": {},
   "source": [
    "# Dataframe"
   ]
  },
  {
   "cell_type": "code",
   "execution_count": 56,
   "metadata": {},
   "outputs": [
    {
     "data": {
      "text/plain": [
       "[Row(GLOBALEVENTID=597122373, SQLDATE=20151110, MonthYear=201511, Year=2015, FractionDate=2015.8492431640625, Actor1Code=None, Actor1Name=None, Actor1CountryCode=None, Actor1KnownGroupCode=None, Actor1EthnicCode=None, Actor1Religion1Code=None, Actor1Religion2Code=None, Actor1Type1Code=None, Actor1Type2Code=None, Actor1Type3Code=None, Actor2Code='BUS', Actor2Name='BOSS', Actor2CountryCode=None, Actor2KnownGroupCode=None, Actor2EthnicCode=None, Actor2Religion1Code=None, Actor2Religion2Code=None, Actor2Type1Code='BUS', Actor2Type2Code=None, Actor2Type3Code=None, IsRootEvent=1, EventCode='042', EventBaseCode='042', EventRootCode='04', QuadClass=1, GoldsteinScale=1.899999976158142, NumMentions=6, NumSources=1, NumArticles=6, AvgTone=0.8064516186714172, Actor1Geo_Type=0, Actor1Geo_FullName=None, Actor1Geo_CountryCode=None, Actor1Geo_ADM1Code=None, Actor1Geo_Lat=None, Actor1Geo_Long=None, Actor1Geo_FeatureID=None, Actor2Geo_Type=4, Actor2Geo_FullName='Sunshine Coast, Queensland, Australia', Actor2Geo_CountryCode='AS', Actor2Geo_ADM1Code='AS04', Actor2Geo_Lat=-26.5, Actor2Geo_Long=153.0, Actor2Geo_FeatureID=-1602923, ActionGeo_Type=4, ActionGeo_FullName='Sunshine Coast, Queensland, Australia', ActionGeo_CountryCode='AS', ActionGeo_ADM1Code='AS04', ActionGeo_Lat=-26.5, ActionGeo_Long=153.0, ActionGeo_FeatureID=-1602923, DATEADDED=20161109, SOURCEURL='http://www.sunshinecoastdaily.com.au/news/karl-stefanovic-forced-tv-after-marriage-split/3109758/')]"
      ]
     },
     "execution_count": 56,
     "metadata": {},
     "output_type": "execute_result"
    }
   ],
   "source": [
    "df = spark.read.csv('/Users/mathieuclement/Downloads/gdelt/2015-2016/2016*.gz', sep = '\\t', schema=schema)\n",
    "df.take(1)"
   ]
  },
  {
   "cell_type": "code",
   "execution_count": 27,
   "metadata": {},
   "outputs": [
    {
     "data": {
      "text/plain": [
       "139756517"
      ]
     },
     "execution_count": 27,
     "metadata": {},
     "output_type": "execute_result"
    }
   ],
   "source": [
    "df.count()"
   ]
  },
  {
   "cell_type": "code",
   "execution_count": 28,
   "metadata": {},
   "outputs": [],
   "source": [
    "df.createOrReplaceTempView(\"V_GDELT\")"
   ]
  },
  {
   "cell_type": "code",
   "execution_count": 61,
   "metadata": {},
   "outputs": [
    {
     "data": {
      "text/plain": [
       "[Row(count(ActionGeo_CountryCode)=5161731)]"
      ]
     },
     "execution_count": 61,
     "metadata": {},
     "output_type": "execute_result"
    }
   ],
   "source": [
    "us_events = spark.sql('SELECT COUNT(ActionGeo_CountryCode) FROM V_GDELT WHERE ActionGeo_CountryCode=\"US\"').collect()\n",
    "us_events"
   ]
  },
  {
   "cell_type": "code",
   "execution_count": 30,
   "metadata": {},
   "outputs": [
    {
     "data": {
      "text/plain": [
       "[Row(GLOBALEVENTID='597123443', SQLDATE='20161109', MonthYear='201611', Year='2016', FractionDate='2016.8466', Actor1Code='CHE', Actor1Name='GENEVA', Actor1CountryCode='CHE', Actor1KnownGroupCode=None, Actor1EthnicCode=None, Actor1Religion1Code=None, Actor1Religion2Code=None, Actor1Type1Code=None, Actor1Type2Code=None, Actor1Type3Code=None, Actor2Code='COP', Actor2Name='POLICE', Actor2CountryCode=None, Actor2KnownGroupCode=None, Actor2EthnicCode=None, Actor2Religion1Code=None, Actor2Religion2Code=None, Actor2Type1Code='COP', Actor2Type2Code=None, Actor2Type3Code=None, IsRootEvent='1', EventCode='090', EventBaseCode='090', EventRootCode='09', QuadClass='2', GoldsteinScale='-2.0', NumMentions='170', NumSources='16', NumArticles='170', AvgTone='-8.39536459861583', Actor1Geo_Type='4', Actor1Geo_FullName='Baghdad, Baghdad, Iraq', Actor1Geo_CountryCode='IZ', Actor1Geo_ADM1Code='IZ07', Actor1Geo_Lat='33.3386', Actor1Geo_Long='44.3939', Actor1Geo_FeatureID='-3103581', Actor2Geo_Type='4', Actor2Geo_FullName='Baghdad, Baghdad, Iraq', Actor2Geo_CountryCode='IZ', Actor2Geo_ADM1Code='IZ07', Actor2Geo_Lat='33.3386', Actor2Geo_Long='44.3939', Actor2Geo_FeatureID='-3103581', ActionGeo_Type='4', ActionGeo_FullName='Baghdad, Baghdad, Iraq', ActionGeo_CountryCode='IZ', ActionGeo_ADM1Code='IZ07', ActionGeo_Lat='33.3386', ActionGeo_Long='44.3939', ActionGeo_FeatureID='-3103581', DATEADDED='20161109', SOURCEURL='http://www.1310news.com/2016/11/08/in-a-field-south-of-mosul-investigators-probe-mass-grave/'),\n",
       " Row(GLOBALEVENTID='597130162', SQLDATE='20161109', MonthYear='201611', Year='2016', FractionDate='2016.8466', Actor1Code='CHE', Actor1Name='SWITZERLAND', Actor1CountryCode='CHE', Actor1KnownGroupCode=None, Actor1EthnicCode=None, Actor1Religion1Code=None, Actor1Religion2Code=None, Actor1Type1Code=None, Actor1Type2Code=None, Actor1Type3Code=None, Actor2Code='DEU', Actor2Name='GERMAN', Actor2CountryCode='DEU', Actor2KnownGroupCode=None, Actor2EthnicCode=None, Actor2Religion1Code=None, Actor2Religion2Code=None, Actor2Type1Code=None, Actor2Type2Code=None, Actor2Type3Code=None, IsRootEvent='0', EventCode='110', EventBaseCode='110', EventRootCode='11', QuadClass='3', GoldsteinScale='-2.0', NumMentions='18', NumSources='5', NumArticles='18', AvgTone='2.21791957452805', Actor1Geo_Type='1', Actor1Geo_FullName='Netherlands', Actor1Geo_CountryCode='NL', Actor1Geo_ADM1Code='NL', Actor1Geo_Lat='52.5', Actor1Geo_Long='5.75', Actor1Geo_FeatureID='NL', Actor2Geo_Type='1', Actor2Geo_FullName='Switzerland', Actor2Geo_CountryCode='SZ', Actor2Geo_ADM1Code='SZ', Actor2Geo_Lat='47', Actor2Geo_Long='8', Actor2Geo_FeatureID='SZ', ActionGeo_Type='1', ActionGeo_FullName='Switzerland', ActionGeo_CountryCode='SZ', ActionGeo_ADM1Code='SZ', ActionGeo_Lat='47', ActionGeo_Long='8', ActionGeo_FeatureID='SZ', DATEADDED='20161109', SOURCEURL='http://www.montrealgazette.com/opinion/columnists/mulgrew+27universality+sort+else+does+medicare/12366199/story.html'),\n",
       " Row(GLOBALEVENTID='597146509', SQLDATE='20161109', MonthYear='201611', Year='2016', FractionDate='2016.8466', Actor1Code='CHE', Actor1Name='SWITZERLAND', Actor1CountryCode='CHE', Actor1KnownGroupCode=None, Actor1EthnicCode=None, Actor1Religion1Code=None, Actor1Religion2Code=None, Actor1Type1Code=None, Actor1Type2Code=None, Actor1Type3Code=None, Actor2Code='BUS', Actor2Name='COMPANY', Actor2CountryCode=None, Actor2KnownGroupCode=None, Actor2EthnicCode=None, Actor2Religion1Code=None, Actor2Religion2Code=None, Actor2Type1Code='BUS', Actor2Type2Code=None, Actor2Type3Code=None, IsRootEvent='1', EventCode='061', EventBaseCode='061', EventRootCode='06', QuadClass='2', GoldsteinScale='6.4', NumMentions='1', NumSources='1', NumArticles='1', AvgTone='0.88105726872247', Actor1Geo_Type='1', Actor1Geo_FullName='Switzerland', Actor1Geo_CountryCode='SZ', Actor1Geo_ADM1Code='SZ', Actor1Geo_Lat='47', Actor1Geo_Long='8', Actor1Geo_FeatureID='SZ', Actor2Geo_Type='1', Actor2Geo_FullName='Finland', Actor2Geo_CountryCode='FI', Actor2Geo_ADM1Code='FI', Actor2Geo_Lat='64', Actor2Geo_Long='26', Actor2Geo_FeatureID='FI', ActionGeo_Type='1', ActionGeo_FullName='Lithuania', ActionGeo_CountryCode='LH', ActionGeo_ADM1Code='LH', ActionGeo_Lat='56', ActionGeo_Long='24', ActionGeo_FeatureID='LH', DATEADDED='20161109', SOURCEURL='http://www.baltic-course.com/eng/good_for_business/?doc=125360'),\n",
       " Row(GLOBALEVENTID='597146510', SQLDATE='20161109', MonthYear='201611', Year='2016', FractionDate='2016.8466', Actor1Code='CHE', Actor1Name='SWITZERLAND', Actor1CountryCode='CHE', Actor1KnownGroupCode=None, Actor1EthnicCode=None, Actor1Religion1Code=None, Actor1Religion2Code=None, Actor1Type1Code=None, Actor1Type2Code=None, Actor1Type3Code=None, Actor2Code='BUS', Actor2Name='EMPLOYER', Actor2CountryCode=None, Actor2KnownGroupCode=None, Actor2EthnicCode=None, Actor2Religion1Code=None, Actor2Religion2Code=None, Actor2Type1Code='BUS', Actor2Type2Code=None, Actor2Type3Code=None, IsRootEvent='0', EventCode='071', EventBaseCode='071', EventRootCode='07', QuadClass='2', GoldsteinScale='7.4', NumMentions='2', NumSources='1', NumArticles='2', AvgTone='2.24438902743142', Actor1Geo_Type='1', Actor1Geo_FullName='Canada', Actor1Geo_CountryCode='CA', Actor1Geo_ADM1Code='CA', Actor1Geo_Lat='60', Actor1Geo_Long='-95', Actor1Geo_FeatureID='CA', Actor2Geo_Type='1', Actor2Geo_FullName='Switzerland', Actor2Geo_CountryCode='SZ', Actor2Geo_ADM1Code='SZ', Actor2Geo_Lat='47', Actor2Geo_Long='8', Actor2Geo_FeatureID='SZ', ActionGeo_Type='1', ActionGeo_FullName='Switzerland', ActionGeo_CountryCode='SZ', ActionGeo_ADM1Code='SZ', ActionGeo_Lat='47', ActionGeo_Long='8', ActionGeo_FeatureID='SZ', DATEADDED='20161109', SOURCEURL='http://vancouversun.com/opinion/columnists/universality-sort-of-no-one-else-does-medicare-this-way'),\n",
       " Row(GLOBALEVENTID='597146518', SQLDATE='20161109', MonthYear='201611', Year='2016', FractionDate='2016.8466', Actor1Code='CHEBUS', Actor1Name='BALE', Actor1CountryCode='CHE', Actor1KnownGroupCode=None, Actor1EthnicCode=None, Actor1Religion1Code=None, Actor1Religion2Code=None, Actor1Type1Code='BUS', Actor1Type2Code=None, Actor1Type3Code=None, Actor2Code=None, Actor2Name=None, Actor2CountryCode=None, Actor2KnownGroupCode=None, Actor2EthnicCode=None, Actor2Religion1Code=None, Actor2Religion2Code=None, Actor2Type1Code=None, Actor2Type2Code=None, Actor2Type3Code=None, IsRootEvent='1', EventCode='051', EventBaseCode='051', EventRootCode='05', QuadClass='1', GoldsteinScale='3.4', NumMentions='20', NumSources='1', NumArticles='20', AvgTone='2.74494224968735', Actor1Geo_Type='2', Actor1Geo_FullName='Illinois, United States', Actor1Geo_CountryCode='US', Actor1Geo_ADM1Code='USIL', Actor1Geo_Lat='40.3363', Actor1Geo_Long='-89.0022', Actor1Geo_FeatureID='IL', Actor2Geo_Type='0', Actor2Geo_FullName=None, Actor2Geo_CountryCode=None, Actor2Geo_ADM1Code=None, Actor2Geo_Lat=None, Actor2Geo_Long=None, Actor2Geo_FeatureID=None, ActionGeo_Type='2', ActionGeo_FullName='Illinois, United States', ActionGeo_CountryCode='US', ActionGeo_ADM1Code='USIL', ActionGeo_Lat='40.3363', ActionGeo_Long='-89.0022', ActionGeo_FeatureID='IL', DATEADDED='20161109', SOURCEURL='http://agrinews-pubs.com/Content/News/Latest-News/Article/Case-IH-offers-new-square-baler-/8/6/16424'),\n",
       " Row(GLOBALEVENTID='597147147', SQLDATE='20161109', MonthYear='201611', Year='2016', FractionDate='2016.8466', Actor1Code='FRA', Actor1Name='FRANCE', Actor1CountryCode='FRA', Actor1KnownGroupCode=None, Actor1EthnicCode=None, Actor1Religion1Code=None, Actor1Religion2Code=None, Actor1Type1Code=None, Actor1Type2Code=None, Actor1Type3Code=None, Actor2Code='USA', Actor2Name='UNITED STATES', Actor2CountryCode='USA', Actor2KnownGroupCode=None, Actor2EthnicCode=None, Actor2Religion1Code=None, Actor2Religion2Code=None, Actor2Type1Code=None, Actor2Type2Code=None, Actor2Type3Code=None, IsRootEvent='0', EventCode='046', EventBaseCode='046', EventRootCode='04', QuadClass='1', GoldsteinScale='7.0', NumMentions='2', NumSources='1', NumArticles='2', AvgTone='3.3231474407945', Actor1Geo_Type='3', Actor1Geo_FullName='Monte Cristo, Washington, United States', Actor1Geo_CountryCode='US', Actor1Geo_ADM1Code='USWA', Actor1Geo_Lat='47.9857', Actor1Geo_Long='-121.394', Actor1Geo_FeatureID='1523329', Actor2Geo_Type='3', Actor2Geo_FullName='Monte Cristo, Washington, United States', Actor2Geo_CountryCode='US', Actor2Geo_ADM1Code='USWA', Actor2Geo_Lat='47.9857', Actor2Geo_Long='-121.394', Actor2Geo_FeatureID='1523329', ActionGeo_Type='4', ActionGeo_FullName='Bern, Bern, Switzerland', ActionGeo_CountryCode='SZ', ActionGeo_ADM1Code='SZ05', ActionGeo_Lat='46.9167', ActionGeo_Long='7.46667', ActionGeo_FeatureID='-2551235', DATEADDED='20161109', SOURCEURL='https://wn.com/Swiss_chocolate'),\n",
       " Row(GLOBALEVENTID='597147675', SQLDATE='20161109', MonthYear='201611', Year='2016', FractionDate='2016.8466', Actor1Code='IGOUNO', Actor1Name='UNITED NATIONS', Actor1CountryCode=None, Actor1KnownGroupCode='UNO', Actor1EthnicCode=None, Actor1Religion1Code=None, Actor1Religion2Code=None, Actor1Type1Code='IGO', Actor1Type2Code=None, Actor1Type3Code=None, Actor2Code='IRQ', Actor2Name='IRAQ', Actor2CountryCode='IRQ', Actor2KnownGroupCode=None, Actor2EthnicCode=None, Actor2Religion1Code=None, Actor2Religion2Code=None, Actor2Type1Code=None, Actor2Type2Code=None, Actor2Type3Code=None, IsRootEvent='0', EventCode='181', EventBaseCode='181', EventRootCode='18', QuadClass='4', GoldsteinScale='-9.0', NumMentions='14', NumSources='7', NumArticles='14', AvgTone='-4.5259764597579', Actor1Geo_Type='4', Actor1Geo_FullName='Geneva, Genè, Switzerland', Actor1Geo_CountryCode='SZ', Actor1Geo_ADM1Code='SZ07', Actor1Geo_Lat='46.1956', Actor1Geo_Long='6.14811', Actor1Geo_FeatureID='-2552151', Actor2Geo_Type='4', Actor2Geo_FullName='Sinjar, Babil, Iraq', Actor2Geo_CountryCode='IZ', Actor2Geo_ADM1Code='IZ06', Actor2Geo_Lat='32.5312', Actor2Geo_Long='44.4116', Actor2Geo_FeatureID='-3111328', ActionGeo_Type='4', ActionGeo_FullName='Geneva, Genè, Switzerland', ActionGeo_CountryCode='SZ', ActionGeo_ADM1Code='SZ07', ActionGeo_Lat='46.1956', ActionGeo_Long='6.14811', ActionGeo_FeatureID='-2552151', DATEADDED='20161109', SOURCEURL='http://www.thegazette.com/subject/news/nation-and-world/islamic-state-abducts-more-than-200-near-mosul-retreats-with-thousands-un-20161108'),\n",
       " Row(GLOBALEVENTID='597151668', SQLDATE='20161109', MonthYear='201611', Year='2016', FractionDate='2016.8466', Actor1Code='CHE', Actor1Name='SWITZERLAND', Actor1CountryCode='CHE', Actor1KnownGroupCode=None, Actor1EthnicCode=None, Actor1Religion1Code=None, Actor1Religion2Code=None, Actor1Type1Code=None, Actor1Type2Code=None, Actor1Type3Code=None, Actor2Code='LEG', Actor2Name='DELEGATE', Actor2CountryCode=None, Actor2KnownGroupCode=None, Actor2EthnicCode=None, Actor2Religion1Code=None, Actor2Religion2Code=None, Actor2Type1Code='LEG', Actor2Type2Code=None, Actor2Type3Code=None, IsRootEvent='0', EventCode='046', EventBaseCode='046', EventRootCode='04', QuadClass='1', GoldsteinScale='7.0', NumMentions='6', NumSources='1', NumArticles='6', AvgTone='1.40405616224649', Actor1Geo_Type='1', Actor1Geo_FullName='Switzerland', Actor1Geo_CountryCode='SZ', Actor1Geo_ADM1Code='SZ', Actor1Geo_Lat='47', Actor1Geo_Long='8', Actor1Geo_FeatureID='SZ', Actor2Geo_Type='1', Actor2Geo_FullName='Austria', Actor2Geo_CountryCode='AU', Actor2Geo_ADM1Code='AU', Actor2Geo_Lat='47.3333', Actor2Geo_Long='13.3333', Actor2Geo_FeatureID='AU', ActionGeo_Type='1', ActionGeo_FullName='United Kingdom', ActionGeo_CountryCode='UK', ActionGeo_ADM1Code='UK', ActionGeo_Lat='54', ActionGeo_Long='-2', ActionGeo_FeatureID='UK', DATEADDED='20161109', SOURCEURL='http://www.ecogeneration.com.au/biogas-experts-gather-in-australia-to-share-global-best-practice/'),\n",
       " Row(GLOBALEVENTID='597151877', SQLDATE='20161109', MonthYear='201611', Year='2016', FractionDate='2016.8466', Actor1Code='CRM', Actor1Name='CRIMINAL', Actor1CountryCode=None, Actor1KnownGroupCode=None, Actor1EthnicCode=None, Actor1Religion1Code=None, Actor1Religion2Code=None, Actor1Type1Code='CRM', Actor1Type2Code=None, Actor1Type3Code=None, Actor2Code='CHE', Actor2Name='BERNE', Actor2CountryCode='CHE', Actor2KnownGroupCode=None, Actor2EthnicCode=None, Actor2Religion1Code=None, Actor2Religion2Code=None, Actor2Type1Code=None, Actor2Type2Code=None, Actor2Type3Code=None, IsRootEvent='1', EventCode='173', EventBaseCode='173', EventRootCode='17', QuadClass='4', GoldsteinScale='-5.0', NumMentions='10', NumSources='1', NumArticles='7', AvgTone='-14.2394822006472', Actor1Geo_Type='4', Actor1Geo_FullName='Berne, Bern, Switzerland', Actor1Geo_CountryCode='SZ', Actor1Geo_ADM1Code='SZ05', Actor1Geo_Lat='46.9167', Actor1Geo_Long='7.46667', Actor1Geo_FeatureID='-2551235', Actor2Geo_Type='4', Actor2Geo_FullName='Berne, Bern, Switzerland', Actor2Geo_CountryCode='SZ', Actor2Geo_ADM1Code='SZ05', Actor2Geo_Lat='46.9167', Actor2Geo_Long='7.46667', Actor2Geo_FeatureID='-2551235', ActionGeo_Type='4', ActionGeo_FullName='Berne, Bern, Switzerland', ActionGeo_CountryCode='SZ', ActionGeo_ADM1Code='SZ05', ActionGeo_Lat='46.9167', ActionGeo_Long='7.46667', ActionGeo_FeatureID='-2551235', DATEADDED='20161109', SOURCEURL='http://www.troyrecord.com/general-news/20161108/police-courts-nov-8-2016'),\n",
       " Row(GLOBALEVENTID='597175226', SQLDATE='20161109', MonthYear='201611', Year='2016', FractionDate='2016.8466', Actor1Code=None, Actor1Name=None, Actor1CountryCode=None, Actor1KnownGroupCode=None, Actor1EthnicCode=None, Actor1Religion1Code=None, Actor1Religion2Code=None, Actor1Type1Code=None, Actor1Type2Code=None, Actor1Type3Code=None, Actor2Code='GOV', Actor2Name='GOVERNMENT', Actor2CountryCode=None, Actor2KnownGroupCode=None, Actor2EthnicCode=None, Actor2Religion1Code=None, Actor2Religion2Code=None, Actor2Type1Code='GOV', Actor2Type2Code=None, Actor2Type3Code=None, IsRootEvent='1', EventCode='112', EventBaseCode='112', EventRootCode='11', QuadClass='3', GoldsteinScale='-2.0', NumMentions='23', NumSources='3', NumArticles='23', AvgTone='-2.93888707867202', Actor1Geo_Type='0', Actor1Geo_FullName=None, Actor1Geo_CountryCode=None, Actor1Geo_ADM1Code=None, Actor1Geo_Lat=None, Actor1Geo_Long=None, Actor1Geo_FeatureID=None, Actor2Geo_Type='1', Actor2Geo_FullName='Switzerland', Actor2Geo_CountryCode='SZ', Actor2Geo_ADM1Code='SZ', Actor2Geo_Lat='47', Actor2Geo_Long='8', Actor2Geo_FeatureID='SZ', ActionGeo_Type='1', ActionGeo_FullName='Switzerland', ActionGeo_CountryCode='SZ', ActionGeo_ADM1Code='SZ', ActionGeo_Lat='47', ActionGeo_Long='8', ActionGeo_FeatureID='SZ', DATEADDED='20161109', SOURCEURL='http://qz.com/831674/rupee-currency-demonetization-a-brief-history-of-india-pulling-bank-notes-from-circulation/')]"
      ]
     },
     "execution_count": 30,
     "metadata": {},
     "output_type": "execute_result"
    }
   ],
   "source": [
    "df\\\n",
    "    .sample(False, .1)\\\n",
    "    .rdd\\\n",
    "    .filter(lambda row: row.ActionGeo_CountryCode == 'SZ' or row.Actor1CountryCode == 'CHE')\\\n",
    "    .take(10)"
   ]
  },
  {
   "cell_type": "code",
   "execution_count": 59,
   "metadata": {},
   "outputs": [
    {
     "data": {
      "text/plain": [
       "[Row(GLOBALEVENTID=576531412, SQLDATE=20160907, MonthYear=201609, Year=2016, FractionDate=2016.6767578125, Actor1Code='USAMED', Actor1Name='ASSOCIATED PRESS', Actor1CountryCode='USA', Actor1KnownGroupCode=None, Actor1EthnicCode=None, Actor1Religion1Code=None, Actor1Religion2Code=None, Actor1Type1Code='MED', Actor1Type2Code=None, Actor1Type3Code=None, Actor2Code='CHE', Actor2Name='GENEVA', Actor2CountryCode='CHE', Actor2KnownGroupCode=None, Actor2EthnicCode=None, Actor2Religion1Code=None, Actor2Religion2Code=None, Actor2Type1Code=None, Actor2Type2Code=None, Actor2Type3Code=None, IsRootEvent=0, EventCode='070', EventBaseCode='070', EventRootCode='07', QuadClass=2, GoldsteinScale=7.0, NumMentions=1528, NumSources=136, NumArticles=1528, AvgTone=-9.177913665771484, Actor1Geo_Type=4, Actor1Geo_FullName='Geneva, Genè, Switzerland', Actor1Geo_CountryCode='SZ', Actor1Geo_ADM1Code='SZ07', Actor1Geo_Lat=46.19559860229492, Actor1Geo_Long=6.1481099128723145, Actor1Geo_FeatureID=-2552151, Actor2Geo_Type=4, Actor2Geo_FullName='Geneva, Genè, Switzerland', Actor2Geo_CountryCode='SZ', Actor2Geo_ADM1Code='SZ07', Actor2Geo_Lat=46.19559860229492, Actor2Geo_Long=6.1481099128723145, Actor2Geo_FeatureID=-2552151, ActionGeo_Type=4, ActionGeo_FullName='Geneva, Genè, Switzerland', ActionGeo_CountryCode='SZ', ActionGeo_ADM1Code='SZ07', ActionGeo_Lat=46.19559860229492, ActionGeo_Long=6.1481099128723145, ActionGeo_FeatureID=-2552151, DATEADDED=20160907, SOURCEURL='http://www.sfgate.com/news/us/article/UNICEF-says-28-million-children-uprooted-by-9206284.php'),\n",
       " Row(GLOBALEVENTID=502562197, SQLDATE=20160115, MonthYear=201601, Year=2016, FractionDate=2016.0411376953125, Actor1Code='USAMED', Actor1Name='ASSOCIATED PRESS', Actor1CountryCode='USA', Actor1KnownGroupCode=None, Actor1EthnicCode=None, Actor1Religion1Code=None, Actor1Religion2Code=None, Actor1Type1Code='MED', Actor1Type2Code=None, Actor1Type3Code=None, Actor2Code='CHE', Actor2Name='SWITZERLAND', Actor2CountryCode='CHE', Actor2KnownGroupCode=None, Actor2EthnicCode=None, Actor2Religion1Code=None, Actor2Religion2Code=None, Actor2Type1Code=None, Actor2Type2Code=None, Actor2Type3Code=None, IsRootEvent=0, EventCode='070', EventBaseCode='070', EventRootCode='07', QuadClass=2, GoldsteinScale=7.0, NumMentions=1230, NumSources=145, NumArticles=1230, AvgTone=-3.908193349838257, Actor1Geo_Type=4, Actor1Geo_FullName='Geneva, Genè, Switzerland', Actor1Geo_CountryCode='SZ', Actor1Geo_ADM1Code='SZ07', Actor1Geo_Lat=46.19559860229492, Actor1Geo_Long=6.1481099128723145, Actor1Geo_FeatureID=-2552151, Actor2Geo_Type=4, Actor2Geo_FullName='Geneva, Genè, Switzerland', Actor2Geo_CountryCode='SZ', Actor2Geo_ADM1Code='SZ07', Actor2Geo_Lat=46.19559860229492, Actor2Geo_Long=6.1481099128723145, Actor2Geo_FeatureID=-2552151, ActionGeo_Type=4, ActionGeo_FullName='Geneva, Genè, Switzerland', ActionGeo_CountryCode='SZ', ActionGeo_ADM1Code='SZ07', ActionGeo_Lat=46.19559860229492, ActionGeo_Long=6.1481099128723145, ActionGeo_FeatureID=-2552151, DATEADDED=20160115, SOURCEURL='http://www.wsbradio.com/ap/ap/international/new-ebola-case-emerges-in-sierra-leone/np5jD/'),\n",
       " Row(GLOBALEVENTID=575481686, SQLDATE=20160903, MonthYear=201609, Year=2016, FractionDate=2016.665771484375, Actor1Code='USA', Actor1Name='HAWAII', Actor1CountryCode='USA', Actor1KnownGroupCode=None, Actor1EthnicCode=None, Actor1Religion1Code=None, Actor1Religion2Code=None, Actor1Type1Code=None, Actor1Type2Code=None, Actor1Type3Code=None, Actor2Code='CHE', Actor2Name='SWITZERLAND', Actor2CountryCode='CHE', Actor2KnownGroupCode=None, Actor2EthnicCode=None, Actor2Religion1Code=None, Actor2Religion2Code=None, Actor2Type1Code=None, Actor2Type2Code=None, Actor2Type3Code=None, IsRootEvent=1, EventCode='036', EventBaseCode='036', EventRootCode='03', QuadClass=1, GoldsteinScale=4.0, NumMentions=1065, NumSources=122, NumArticles=1065, AvgTone=-3.155822515487671, Actor1Geo_Type=3, Actor1Geo_FullName='Big Island, New York, United States', Actor1Geo_CountryCode='US', Actor1Geo_ADM1Code='USNY', Actor1Geo_Lat=41.32059860229492, Actor1Geo_Long=-74.404296875, Actor1Geo_FeatureID=943919, Actor2Geo_Type=3, Actor2Geo_FullName='Big Island, New York, United States', Actor2Geo_CountryCode='US', Actor2Geo_ADM1Code='USNY', Actor2Geo_Lat=41.32059860229492, Actor2Geo_Long=-74.404296875, Actor2Geo_FeatureID=943919, ActionGeo_Type=3, ActionGeo_FullName='Big Island, New York, United States', ActionGeo_CountryCode='US', ActionGeo_ADM1Code='USNY', ActionGeo_Lat=41.32059860229492, ActionGeo_Long=-74.404296875, ActionGeo_FeatureID=943919, DATEADDED=20160903, SOURCEURL='http://hosted.ap.org/dynamic/stories/U/US_TROPICAL_WEATHER_HAWAII?SITE=AP&SECTION=HOME&TEMPLATE=DEFAULT&CTIME=2016-09-03-05-09-10'),\n",
       " Row(GLOBALEVENTID=548696868, SQLDATE=20160609, MonthYear=201606, Year=2016, FractionDate=2016.435546875, Actor1Code='USAMED', Actor1Name='ASSOCIATED PRESS', Actor1CountryCode='USA', Actor1KnownGroupCode=None, Actor1EthnicCode=None, Actor1Religion1Code=None, Actor1Religion2Code=None, Actor1Type1Code='MED', Actor1Type2Code=None, Actor1Type3Code=None, Actor2Code='CHE', Actor2Name='GENEVA', Actor2CountryCode='CHE', Actor2KnownGroupCode=None, Actor2EthnicCode=None, Actor2Religion1Code=None, Actor2Religion2Code=None, Actor2Type1Code=None, Actor2Type2Code=None, Actor2Type3Code=None, IsRootEvent=1, EventCode='070', EventBaseCode='070', EventRootCode='07', QuadClass=2, GoldsteinScale=7.0, NumMentions=841, NumSources=94, NumArticles=841, AvgTone=-9.066322326660156, Actor1Geo_Type=4, Actor1Geo_FullName='Geneva, Genè, Switzerland', Actor1Geo_CountryCode='SZ', Actor1Geo_ADM1Code='SZ07', Actor1Geo_Lat=46.19559860229492, Actor1Geo_Long=6.1481099128723145, Actor1Geo_FeatureID=-2552151, Actor2Geo_Type=4, Actor2Geo_FullName='Geneva, Genè, Switzerland', Actor2Geo_CountryCode='SZ', Actor2Geo_ADM1Code='SZ07', Actor2Geo_Lat=46.19559860229492, Actor2Geo_Long=6.1481099128723145, Actor2Geo_FeatureID=-2552151, ActionGeo_Type=4, ActionGeo_FullName='Geneva, Genè, Switzerland', ActionGeo_CountryCode='SZ', ActionGeo_ADM1Code='SZ07', ActionGeo_Lat=46.19559860229492, ActionGeo_Long=6.1481099128723145, ActionGeo_FeatureID=-2552151, DATEADDED=20160609, SOURCEURL='http://www.chron.com/news/medical/article/UN-Ireland-s-abortion-ban-is-cruel-7972422.php'),\n",
       " Row(GLOBALEVENTID=539669139, SQLDATE=20160512, MonthYear=201605, Year=2016, FractionDate=2016.361572265625, Actor1Code='USAMED', Actor1Name='ASSOCIATED PRESS', Actor1CountryCode='USA', Actor1KnownGroupCode=None, Actor1EthnicCode=None, Actor1Religion1Code=None, Actor1Religion2Code=None, Actor1Type1Code='MED', Actor1Type2Code=None, Actor1Type3Code=None, Actor2Code='CHE', Actor2Name='GENEVA', Actor2CountryCode='CHE', Actor2KnownGroupCode=None, Actor2EthnicCode=None, Actor2Religion1Code=None, Actor2Religion2Code=None, Actor2Type1Code=None, Actor2Type2Code=None, Actor2Type3Code=None, IsRootEvent=0, EventCode='070', EventBaseCode='070', EventRootCode='07', QuadClass=2, GoldsteinScale=7.0, NumMentions=816, NumSources=95, NumArticles=816, AvgTone=-7.847198963165283, Actor1Geo_Type=4, Actor1Geo_FullName='Beirut, Beyrouth, Lebanon', Actor1Geo_CountryCode='LE', Actor1Geo_ADM1Code='LE04', Actor1Geo_Lat=33.87189865112305, Actor1Geo_Long=35.509700775146484, Actor1Geo_FeatureID=-801546, Actor2Geo_Type=4, Actor2Geo_FullName='Geneva, Genè, Switzerland', Actor2Geo_CountryCode='SZ', Actor2Geo_ADM1Code='SZ07', Actor2Geo_Lat=46.19559860229492, Actor2Geo_Long=6.1481099128723145, Actor2Geo_FeatureID=-2552151, ActionGeo_Type=4, ActionGeo_FullName='Geneva, Genè, Switzerland', ActionGeo_CountryCode='SZ', ActionGeo_ADM1Code='SZ07', ActionGeo_Lat=46.19559860229492, ActionGeo_Long=6.1481099128723145, ActionGeo_FeatureID=-2552151, DATEADDED=20160512, SOURCEURL='http://hosted2.ap.org/CAANR/0260ea4c3e85456b80715585ba3c7b5b/Article_2016-05-12-ML--Syria/id-c42ce6cd5f2f4f5985893c662a1320d8'),\n",
       " Row(GLOBALEVENTID=504864587, SQLDATE=20160123, MonthYear=201601, Year=2016, FractionDate=2016.06298828125, Actor1Code='CHE', Actor1Name='SWITZERLAND', Actor1CountryCode='CHE', Actor1KnownGroupCode=None, Actor1EthnicCode=None, Actor1Religion1Code=None, Actor1Religion2Code=None, Actor1Type1Code=None, Actor1Type2Code=None, Actor1Type3Code=None, Actor2Code='USAMED', Actor2Name='THE ASSOCIATED PRESS', Actor2CountryCode='USA', Actor2KnownGroupCode=None, Actor2EthnicCode=None, Actor2Religion1Code=None, Actor2Religion2Code=None, Actor2Type1Code='MED', Actor2Type2Code=None, Actor2Type3Code=None, IsRootEvent=1, EventCode='010', EventBaseCode='010', EventRootCode='01', QuadClass=1, GoldsteinScale=0.0, NumMentions=812, NumSources=161, NumArticles=808, AvgTone=-6.567577838897705, Actor1Geo_Type=4, Actor1Geo_FullName='Davos, Switzerland (general), Switzerland', Actor1Geo_CountryCode='SZ', Actor1Geo_ADM1Code='SZ00', Actor1Geo_Lat=46.81669998168945, Actor1Geo_Long=9.833330154418945, Actor1Geo_FeatureID=-2551751, Actor2Geo_Type=4, Actor2Geo_FullName='Davos, Switzerland (general), Switzerland', Actor2Geo_CountryCode='SZ', Actor2Geo_ADM1Code='SZ00', Actor2Geo_Lat=46.81669998168945, Actor2Geo_Long=9.833330154418945, Actor2Geo_FeatureID=-2551751, ActionGeo_Type=4, ActionGeo_FullName='Davos, Switzerland (general), Switzerland', ActionGeo_CountryCode='SZ', ActionGeo_ADM1Code='SZ00', ActionGeo_Lat=46.81669998168945, ActionGeo_Long=9.833330154418945, ActionGeo_FeatureID=-2551751, DATEADDED=20160123, SOURCEURL='http://wthitv.com/ap/northern-saskatchewan-school-in-lockdown-after-shooting/'),\n",
       " Row(GLOBALEVENTID=532994060, SQLDATE=20160422, MonthYear=201604, Year=2016, FractionDate=2016.3067626953125, Actor1Code='USA', Actor1Name='UNITED STATES', Actor1CountryCode='USA', Actor1KnownGroupCode=None, Actor1EthnicCode=None, Actor1Religion1Code=None, Actor1Religion2Code=None, Actor1Type1Code=None, Actor1Type2Code=None, Actor1Type3Code=None, Actor2Code='CHE', Actor2Name='SWISS', Actor2CountryCode='CHE', Actor2KnownGroupCode=None, Actor2EthnicCode=None, Actor2Religion1Code=None, Actor2Religion2Code=None, Actor2Type1Code=None, Actor2Type2Code=None, Actor2Type3Code=None, IsRootEvent=1, EventCode='043', EventBaseCode='043', EventRootCode='04', QuadClass=1, GoldsteinScale=2.799999952316284, NumMentions=698, NumSources=98, NumArticles=673, AvgTone=-0.4848204255104065, Actor1Geo_Type=3, Actor1Geo_FullName='Mountain View, California, United States', Actor1Geo_CountryCode='US', Actor1Geo_ADM1Code='USCA', Actor1Geo_Lat=34.50640106201172, Actor1Geo_Long=-117.35900115966797, Actor1Geo_FeatureID=246299, Actor2Geo_Type=3, Actor2Geo_FullName='Mountain View, California, United States', Actor2Geo_CountryCode='US', Actor2Geo_ADM1Code='USCA', Actor2Geo_Lat=34.50640106201172, Actor2Geo_Long=-117.35900115966797, Actor2Geo_FeatureID=246299, ActionGeo_Type=3, ActionGeo_FullName='Mountain View, California, United States', ActionGeo_CountryCode='US', ActionGeo_ADM1Code='USCA', ActionGeo_Lat=34.50640106201172, ActionGeo_Long=-117.35900115966797, ActionGeo_FeatureID=246299, DATEADDED=20160422, SOURCEURL='http://hosted.ap.org/dynamic/stories/U/US_SOLAR_PLANE?SITE=AP&SECTION=HOME&TEMPLATE=DEFAULT&CTIME=2016-04-21-21-33-11'),\n",
       " Row(GLOBALEVENTID=536527550, SQLDATE=20160503, MonthYear=201605, Year=2016, FractionDate=2016.3370361328125, Actor1Code='USA', Actor1Name='PHOENIX', Actor1CountryCode='USA', Actor1KnownGroupCode=None, Actor1EthnicCode=None, Actor1Religion1Code=None, Actor1Religion2Code=None, Actor1Type1Code=None, Actor1Type2Code=None, Actor1Type3Code=None, Actor2Code='CHE', Actor2Name='SWISS', Actor2CountryCode='CHE', Actor2KnownGroupCode=None, Actor2EthnicCode=None, Actor2Religion1Code=None, Actor2Religion2Code=None, Actor2Type1Code=None, Actor2Type2Code=None, Actor2Type3Code=None, IsRootEvent=1, EventCode='043', EventBaseCode='043', EventRootCode='04', QuadClass=1, GoldsteinScale=2.799999952316284, NumMentions=618, NumSources=110, NumArticles=618, AvgTone=-0.3739639222621918, Actor1Geo_Type=3, Actor1Geo_FullName='Phoenix, Arizona, United States', Actor1Geo_CountryCode='US', Actor1Geo_ADM1Code='USAZ', Actor1Geo_Lat=33.44839859008789, Actor1Geo_Long=-112.0739974975586, Actor1Geo_FeatureID=44784, Actor2Geo_Type=3, Actor2Geo_FullName='Phoenix, Arizona, United States', Actor2Geo_CountryCode='US', Actor2Geo_ADM1Code='USAZ', Actor2Geo_Lat=33.44839859008789, Actor2Geo_Long=-112.0739974975586, Actor2Geo_FeatureID=44784, ActionGeo_Type=3, ActionGeo_FullName='Phoenix, Arizona, United States', ActionGeo_CountryCode='US', ActionGeo_ADM1Code='USAZ', ActionGeo_Lat=33.44839859008789, ActionGeo_Long=-112.0739974975586, ActionGeo_FeatureID=44784, DATEADDED=20160503, SOURCEURL='http://www.wect.com/story/31861786/solar-plane-on-global-trip-arrives-in-arizona'),\n",
       " Row(GLOBALEVENTID=536526210, SQLDATE=20160503, MonthYear=201605, Year=2016, FractionDate=2016.3370361328125, Actor1Code='CHE', Actor1Name='SWISS', Actor1CountryCode='CHE', Actor1KnownGroupCode=None, Actor1EthnicCode=None, Actor1Religion1Code=None, Actor1Religion2Code=None, Actor1Type1Code=None, Actor1Type2Code=None, Actor1Type3Code=None, Actor2Code='USA', Actor2Name='PHOENIX', Actor2CountryCode='USA', Actor2KnownGroupCode=None, Actor2EthnicCode=None, Actor2Religion1Code=None, Actor2Religion2Code=None, Actor2Type1Code=None, Actor2Type2Code=None, Actor2Type3Code=None, IsRootEvent=1, EventCode='042', EventBaseCode='042', EventRootCode='04', QuadClass=1, GoldsteinScale=1.899999976158142, NumMentions=610, NumSources=109, NumArticles=610, AvgTone=-0.3757489025592804, Actor1Geo_Type=3, Actor1Geo_FullName='Phoenix, Arizona, United States', Actor1Geo_CountryCode='US', Actor1Geo_ADM1Code='USAZ', Actor1Geo_Lat=33.44839859008789, Actor1Geo_Long=-112.0739974975586, Actor1Geo_FeatureID=44784, Actor2Geo_Type=3, Actor2Geo_FullName='Phoenix, Arizona, United States', Actor2Geo_CountryCode='US', Actor2Geo_ADM1Code='USAZ', Actor2Geo_Lat=33.44839859008789, Actor2Geo_Long=-112.0739974975586, Actor2Geo_FeatureID=44784, ActionGeo_Type=3, ActionGeo_FullName='Phoenix, Arizona, United States', ActionGeo_CountryCode='US', ActionGeo_ADM1Code='USAZ', ActionGeo_Lat=33.44839859008789, ActionGeo_Long=-112.0739974975586, ActionGeo_FeatureID=44784, DATEADDED=20160503, SOURCEURL='http://www.wect.com/story/31861786/solar-plane-on-global-trip-arrives-in-arizona'),\n",
       " Row(GLOBALEVENTID=569252180, SQLDATE=20160814, MonthYear=201608, Year=2016, FractionDate=2016.6136474609375, Actor1Code='CHE', Actor1Name='SWITZERLAND', Actor1CountryCode='CHE', Actor1KnownGroupCode=None, Actor1EthnicCode=None, Actor1Religion1Code=None, Actor1Religion2Code=None, Actor1Type1Code=None, Actor1Type2Code=None, Actor1Type3Code=None, Actor2Code='USAMED', Actor2Name='THE ASSOCIATED PRESS', Actor2CountryCode='USA', Actor2KnownGroupCode=None, Actor2EthnicCode=None, Actor2Religion1Code=None, Actor2Religion2Code=None, Actor2Type1Code='MED', Actor2Type2Code=None, Actor2Type3Code=None, IsRootEvent=1, EventCode='013', EventBaseCode='013', EventRootCode='01', QuadClass=1, GoldsteinScale=0.4000000059604645, NumMentions=565, NumSources=218, NumArticles=565, AvgTone=-11.103486061096191, Actor1Geo_Type=4, Actor1Geo_FullName='Sennwald, Switzerland (general), Switzerland', Actor1Geo_CountryCode='SZ', Actor1Geo_ADM1Code='SZ00', Actor1Geo_Lat=47.260501861572266, Actor1Geo_Long=9.502679824829102, Actor1Geo_FeatureID=-2554197, Actor2Geo_Type=4, Actor2Geo_FullName='Sennwald, Switzerland (general), Switzerland', Actor2Geo_CountryCode='SZ', Actor2Geo_ADM1Code='SZ00', Actor2Geo_Lat=47.260501861572266, Actor2Geo_Long=9.502679824829102, Actor2Geo_FeatureID=-2554197, ActionGeo_Type=4, ActionGeo_FullName='Sennwald, Switzerland (general), Switzerland', ActionGeo_CountryCode='SZ', ActionGeo_ADM1Code='SZ00', ActionGeo_Lat=47.260501861572266, ActionGeo_Long=9.502679824829102, ActionGeo_FeatureID=-2554197, DATEADDED=20160814, SOURCEURL='http://www.seattletimes.com/nation-world/swiss-police-no-indication-of-terrorism-in-train-attack/')]"
      ]
     },
     "execution_count": 59,
     "metadata": {},
     "output_type": "execute_result"
    }
   ],
   "source": [
    "def either_country_code(row, country1, country2):\n",
    "    return (row.Actor1CountryCode == country1 and row.Actor2CountryCode == country2) or\\\n",
    "           (row.Actor1CountryCode == country2 and row.Actor2CountryCode == country1)\n",
    "\n",
    "df\\\n",
    "    .rdd\\\n",
    "    .filter(lambda row: either_country_code(row, 'CHE', 'USA'))\\\n",
    "    .takeOrdered(10, key= lambda row: -row.NumMentions)"
   ]
  },
  {
   "cell_type": "code",
   "execution_count": 64,
   "metadata": {},
   "outputs": [
    {
     "name": "stdout",
     "output_type": "stream",
     "text": [
      "<_sre.SRE_Match object; span=(72, 79), match='-trump-'>\n",
      "None\n"
     ]
    }
   ],
   "source": [
    "import re\n",
    "\n",
    "url = 'http://www.politics.co.uk/comment-analysis/2015/01/06/comment-arms-sales-Trump-human-rights-as-uk-enters-bahrain'\n",
    "url2 = 'http://www.thetrumpet.com/blabla'\n",
    "\n",
    "pattern = re.compile('[^a-z]trump[^a-z]')\n",
    "print(pattern.search(url.lower()) )\n",
    "print(pattern.search(url2.lower()))\n",
    "\n",
    "df\\\n",
    "    .rdd\\\n",
    "    .filter(lambda row: row.SOURCEURL)\\\n",
    "    .count()"
   ]
  },
  {
   "cell_type": "code",
   "execution_count": null,
   "metadata": {},
   "outputs": [],
   "source": []
  }
 ],
 "metadata": {
  "kernelspec": {
   "display_name": "Python 3",
   "language": "python",
   "name": "python3"
  },
  "language_info": {
   "codemirror_mode": {
    "name": "ipython",
    "version": 3
   },
   "file_extension": ".py",
   "mimetype": "text/x-python",
   "name": "python",
   "nbconvert_exporter": "python",
   "pygments_lexer": "ipython3",
   "version": "3.6.3"
  }
 },
 "nbformat": 4,
 "nbformat_minor": 2
}
