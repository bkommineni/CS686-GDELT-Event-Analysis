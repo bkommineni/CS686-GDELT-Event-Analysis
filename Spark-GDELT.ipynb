{
 "cells": [
  {
   "cell_type": "markdown",
   "metadata": {},
   "source": [
    "# Schema"
   ]
  },
  {
   "cell_type": "code",
   "execution_count": 47,
   "metadata": {},
   "outputs": [
    {
     "data": {
      "text/plain": [
       "[StructField(GLOBALEVENTID,LongType,true),\n",
       " StructField(SQLDATE,LongType,true),\n",
       " StructField(MonthYear,IntegerType,true),\n",
       " StructField(Year,IntegerType,true),\n",
       " StructField(FractionDate,FloatType,true),\n",
       " StructField(Actor1Code,StringType,true),\n",
       " StructField(Actor1Name,StringType,true),\n",
       " StructField(Actor1CountryCode,StringType,true),\n",
       " StructField(Actor1KnownGroupCode,StringType,true),\n",
       " StructField(Actor1EthnicCode,StringType,true),\n",
       " StructField(Actor1Religion1Code,StringType,true),\n",
       " StructField(Actor1Religion2Code,StringType,true),\n",
       " StructField(Actor1Type1Code,StringType,true),\n",
       " StructField(Actor1Type2Code,StringType,true),\n",
       " StructField(Actor1Type3Code,StringType,true),\n",
       " StructField(Actor2Code,StringType,true),\n",
       " StructField(Actor2Name,StringType,true),\n",
       " StructField(Actor2CountryCode,StringType,true),\n",
       " StructField(Actor2KnownGroupCode,StringType,true),\n",
       " StructField(Actor2EthnicCode,StringType,true),\n",
       " StructField(Actor2Religion1Code,StringType,true),\n",
       " StructField(Actor2Religion2Code,StringType,true),\n",
       " StructField(Actor2Type1Code,StringType,true),\n",
       " StructField(Actor2Type2Code,StringType,true),\n",
       " StructField(Actor2Type3Code,StringType,true),\n",
       " StructField(IsRootEvent,IntegerType,true),\n",
       " StructField(EventCode,StringType,true),\n",
       " StructField(EventBaseCode,StringType,true),\n",
       " StructField(EventRootCode,StringType,true),\n",
       " StructField(QuadClass,IntegerType,true),\n",
       " StructField(GoldsteinScale,FloatType,true),\n",
       " StructField(NumMentions,IntegerType,true),\n",
       " StructField(NumSources,IntegerType,true),\n",
       " StructField(NumArticles,IntegerType,true),\n",
       " StructField(AvgTone,FloatType,true),\n",
       " StructField(Actor1Geo_Type,IntegerType,true),\n",
       " StructField(Actor1Geo_FullName,StringType,true),\n",
       " StructField(Actor1Geo_CountryCode,StringType,true),\n",
       " StructField(Actor1Geo_ADM1Code,StringType,true),\n",
       " StructField(Actor1Geo_Lat,FloatType,true),\n",
       " StructField(Actor1Geo_Long,FloatType,true),\n",
       " StructField(Actor1Geo_FeatureID,IntegerType,true),\n",
       " StructField(Actor2Geo_Type,IntegerType,true),\n",
       " StructField(Actor2Geo_FullName,StringType,true),\n",
       " StructField(Actor2Geo_CountryCode,StringType,true),\n",
       " StructField(Actor2Geo_ADM1Code,StringType,true),\n",
       " StructField(Actor2Geo_Lat,FloatType,true),\n",
       " StructField(Actor2Geo_Long,FloatType,true),\n",
       " StructField(Actor2Geo_FeatureID,IntegerType,true),\n",
       " StructField(ActionGeo_Type,IntegerType,true),\n",
       " StructField(ActionGeo_FullName,StringType,true),\n",
       " StructField(ActionGeo_CountryCode,StringType,true),\n",
       " StructField(ActionGeo_ADM1Code,StringType,true),\n",
       " StructField(ActionGeo_Lat,FloatType,true),\n",
       " StructField(ActionGeo_Long,FloatType,true),\n",
       " StructField(ActionGeo_FeatureID,IntegerType,true),\n",
       " StructField(DATEADDED,LongType,true),\n",
       " StructField(SOURCEURL,StringType,true)]"
      ]
     },
     "execution_count": 47,
     "metadata": {},
     "output_type": "execute_result"
    }
   ],
   "source": [
    "from pyspark.sql.types import StructType, StructField, StringType, FloatType, LongType, IntegerType, BooleanType\n",
    "\n",
    "types = {\n",
    "    'Float': lambda: FloatType(),\n",
    "    'Integer': lambda: IntegerType(),\n",
    "    'Long': lambda: LongType(),\n",
    "    'Bool': lambda: IntegerType()\n",
    "}\n",
    "\n",
    "feats = []\n",
    "with open('/Users/mathieuclement/Downloads/gdelt/CSV.header.txt') as header_file:\n",
    "    for lineno, line in enumerate(header_file):\n",
    "        line = line.strip()\n",
    "        if ':' in line:\n",
    "            feat_name, type_name = line.split(':')\n",
    "            feats.append(StructField(feat_name, types[type_name](), True))\n",
    "        else:\n",
    "            feats.append(StructField(line, StringType(), True))\n",
    "            \n",
    "schema = StructType(feats)\n",
    "feats"
   ]
  },
  {
   "cell_type": "markdown",
   "metadata": {},
   "source": [
    "# Dataframe"
   ]
  },
  {
   "cell_type": "code",
   "execution_count": 49,
   "metadata": {},
   "outputs": [
    {
     "data": {
      "text/plain": [
       "[Row(GLOBALEVENTID=704806527, SQLDATE=20071111, MonthYear=200711, Year=2007, FractionDate=2007.85205078125, Actor1Code=None, Actor1Name=None, Actor1CountryCode=None, Actor1KnownGroupCode=None, Actor1EthnicCode=None, Actor1Religion1Code=None, Actor1Religion2Code=None, Actor1Type1Code=None, Actor1Type2Code=None, Actor1Type3Code=None, Actor2Code='SAU', Actor2Name='SAUDI ARABIA', Actor2CountryCode='SAU', Actor2KnownGroupCode=None, Actor2EthnicCode=None, Actor2Religion1Code=None, Actor2Religion2Code=None, Actor2Type1Code=None, Actor2Type2Code=None, Actor2Type3Code=None, IsRootEvent=1, EventCode='190', EventBaseCode='190', EventRootCode='19', QuadClass=4, GoldsteinScale=-10.0, NumMentions=708, NumSources=54, NumArticles=708, AvgTone=-5.323681831359863, Actor1Geo_Type=0, Actor1Geo_FullName=None, Actor1Geo_CountryCode=None, Actor1Geo_ADM1Code=None, Actor1Geo_Lat=None, Actor1Geo_Long=None, Actor1Geo_FeatureID=None, Actor2Geo_Type=4, Actor2Geo_FullName='Riyadh, Ar Riya?, Saudi Arabia', Actor2Geo_CountryCode='SA', Actor2Geo_ADM1Code='SA10', Actor2Geo_Lat=24.64080047607422, Actor2Geo_Long=46.77280044555664, Actor2Geo_FeatureID=-3093009, ActionGeo_Type=4, ActionGeo_FullName='Riyadh, Ar Riya?, Saudi Arabia', ActionGeo_CountryCode='SA', ActionGeo_ADM1Code='SA10', ActionGeo_Lat=24.64080047607422, ActionGeo_Long=46.77280044555664, ActionGeo_FeatureID=-3093009, DATEADDED=20171108, SOURCEURL='http://www.air1.com/news/2017/11/07/Saudi-Arabia-And-Iran-Lock-Into-A-Test-Of-Wills-Spreading-Across-Entire-Middle-East.aspx')]"
      ]
     },
     "execution_count": 49,
     "metadata": {},
     "output_type": "execute_result"
    }
   ],
   "source": [
    "df = spark.read.csv('/Users/mathieuclement/Downloads/gdelt/*.export.csv', sep = '\\t', schema=schema)\n",
    "df.take(1)"
   ]
  },
  {
   "cell_type": "code",
   "execution_count": 50,
   "metadata": {},
   "outputs": [
    {
     "data": {
      "text/plain": [
       "15902791"
      ]
     },
     "execution_count": 50,
     "metadata": {},
     "output_type": "execute_result"
    }
   ],
   "source": [
    "df.count()"
   ]
  },
  {
   "cell_type": "code",
   "execution_count": 51,
   "metadata": {},
   "outputs": [],
   "source": [
    "df.createOrReplaceTempView(\"V_GDELT\")"
   ]
  },
  {
   "cell_type": "code",
   "execution_count": 61,
   "metadata": {},
   "outputs": [
    {
     "data": {
      "text/plain": [
       "[Row(count(ActionGeo_CountryCode)=5161731)]"
      ]
     },
     "execution_count": 61,
     "metadata": {},
     "output_type": "execute_result"
    }
   ],
   "source": [
    "us_events = spark.sql('SELECT COUNT(ActionGeo_CountryCode) FROM V_GDELT WHERE ActionGeo_CountryCode=\"US\"').collect()\n",
    "us_events"
   ]
  },
  {
   "cell_type": "code",
   "execution_count": 63,
   "metadata": {},
   "outputs": [
    {
     "data": {
      "text/plain": [
       "[Row(GLOBALEVENTID=704856482, SQLDATE=20171108, MonthYear=201711, Year=2017, FractionDate=2017.84375, Actor1Code='CHE', Actor1Name='SWITZERLAND', Actor1CountryCode='CHE', Actor1KnownGroupCode=None, Actor1EthnicCode=None, Actor1Religion1Code=None, Actor1Religion2Code=None, Actor1Type1Code=None, Actor1Type2Code=None, Actor1Type3Code=None, Actor2Code='GOV', Actor2Name='GOVERNMENT', Actor2CountryCode=None, Actor2KnownGroupCode=None, Actor2EthnicCode=None, Actor2Religion1Code=None, Actor2Religion2Code=None, Actor2Type1Code='GOV', Actor2Type2Code=None, Actor2Type3Code=None, IsRootEvent=1, EventCode='020', EventBaseCode='020', EventRootCode='02', QuadClass=1, GoldsteinScale=3.0, NumMentions=4, NumSources=1, NumArticles=4, AvgTone=0.11976047605276108, Actor1Geo_Type=4, Actor1Geo_FullName='Bern, Bern, Switzerland', Actor1Geo_CountryCode='SZ', Actor1Geo_ADM1Code='SZ05', Actor1Geo_Lat=46.91669845581055, Actor1Geo_Long=7.466670036315918, Actor1Geo_FeatureID=-2551235, Actor2Geo_Type=4, Actor2Geo_FullName='Bern, Bern, Switzerland', Actor2Geo_CountryCode='SZ', Actor2Geo_ADM1Code='SZ05', Actor2Geo_Lat=46.91669845581055, Actor2Geo_Long=7.466670036315918, Actor2Geo_FeatureID=-2551235, ActionGeo_Type=4, ActionGeo_FullName='Bern, Bern, Switzerland', ActionGeo_CountryCode='SZ', ActionGeo_ADM1Code='SZ05', ActionGeo_Lat=46.91669845581055, ActionGeo_Long=7.466670036315918, ActionGeo_FeatureID=-2551235, DATEADDED=20171108, SOURCEURL='http://www.newbernsj.com/news/20171107/craven-county-voters-bring-local-issues-opinions-to-polls'),\n",
       " Row(GLOBALEVENTID=704856484, SQLDATE=20171108, MonthYear=201711, Year=2017, FractionDate=2017.84375, Actor1Code='CHE', Actor1Name='SWITZERLAND', Actor1CountryCode='CHE', Actor1KnownGroupCode=None, Actor1EthnicCode=None, Actor1Religion1Code=None, Actor1Religion2Code=None, Actor1Type1Code=None, Actor1Type2Code=None, Actor1Type3Code=None, Actor2Code='MIL', Actor2Name='MARINE CORP', Actor2CountryCode=None, Actor2KnownGroupCode=None, Actor2EthnicCode=None, Actor2Religion1Code=None, Actor2Religion2Code=None, Actor2Type1Code='MIL', Actor2Type2Code=None, Actor2Type3Code=None, IsRootEvent=0, EventCode='0831', EventBaseCode='083', EventRootCode='08', QuadClass=2, GoldsteinScale=5.0, NumMentions=2, NumSources=1, NumArticles=2, AvgTone=0.8474576473236084, Actor1Geo_Type=4, Actor1Geo_FullName='Bern, Bern, Switzerland', Actor1Geo_CountryCode='SZ', Actor1Geo_ADM1Code='SZ05', Actor1Geo_Lat=46.91669845581055, Actor1Geo_Long=7.466670036315918, Actor1Geo_FeatureID=-2551235, Actor2Geo_Type=4, Actor2Geo_FullName='Bern, Bern, Switzerland', Actor2Geo_CountryCode='SZ', Actor2Geo_ADM1Code='SZ05', Actor2Geo_Lat=46.91669845581055, Actor2Geo_Long=7.466670036315918, Actor2Geo_FeatureID=-2551235, ActionGeo_Type=4, ActionGeo_FullName='Bern, Bern, Switzerland', ActionGeo_CountryCode='SZ', ActionGeo_ADM1Code='SZ05', ActionGeo_Lat=46.91669845581055, ActionGeo_Long=7.466670036315918, ActionGeo_FeatureID=-2551235, DATEADDED=20171108, SOURCEURL='http://www.newbernsj.com/news/20171107/incumbent-wilson-newcomer-kohr-win-havelock-board-seats'),\n",
       " Row(GLOBALEVENTID=704856626, SQLDATE=20171108, MonthYear=201711, Year=2017, FractionDate=2017.84375, Actor1Code='CVL', Actor1Name='VOTER', Actor1CountryCode=None, Actor1KnownGroupCode=None, Actor1EthnicCode=None, Actor1Religion1Code=None, Actor1Religion2Code=None, Actor1Type1Code='CVL', Actor1Type2Code=None, Actor1Type3Code=None, Actor2Code=None, Actor2Name=None, Actor2CountryCode=None, Actor2KnownGroupCode=None, Actor2EthnicCode=None, Actor2Religion1Code=None, Actor2Religion2Code=None, Actor2Type1Code=None, Actor2Type2Code=None, Actor2Type3Code=None, IsRootEvent=1, EventCode='014', EventBaseCode='014', EventRootCode='01', QuadClass=1, GoldsteinScale=0.0, NumMentions=10, NumSources=1, NumArticles=10, AvgTone=-2.6905829906463623, Actor1Geo_Type=4, Actor1Geo_FullName='Geneva, Genè, Switzerland', Actor1Geo_CountryCode='SZ', Actor1Geo_ADM1Code='SZ07', Actor1Geo_Lat=46.19559860229492, Actor1Geo_Long=6.1481099128723145, Actor1Geo_FeatureID=-2552151, Actor2Geo_Type=0, Actor2Geo_FullName=None, Actor2Geo_CountryCode=None, Actor2Geo_ADM1Code=None, Actor2Geo_Lat=None, Actor2Geo_Long=None, Actor2Geo_FeatureID=None, ActionGeo_Type=4, ActionGeo_FullName='Geneva, Genè, Switzerland', ActionGeo_CountryCode='SZ', ActionGeo_ADM1Code='SZ07', ActionGeo_Lat=46.19559860229492, ActionGeo_Long=6.1481099128723145, ActionGeo_FeatureID=-2552151, DATEADDED=20171108, SOURCEURL='http://www.starbeacon.com/news/absentee-votes-in-school-board-races-tight/article_a5b59fd6-c421-11e7-ad4b-ff7eb2afc699.html'),\n",
       " Row(GLOBALEVENTID=704856631, SQLDATE=20171108, MonthYear=201711, Year=2017, FractionDate=2017.84375, Actor1Code='CVL', Actor1Name='COMMUNITY', Actor1CountryCode=None, Actor1KnownGroupCode=None, Actor1EthnicCode=None, Actor1Religion1Code=None, Actor1Religion2Code=None, Actor1Type1Code='CVL', Actor1Type2Code=None, Actor1Type3Code=None, Actor2Code=None, Actor2Name=None, Actor2CountryCode=None, Actor2KnownGroupCode=None, Actor2EthnicCode=None, Actor2Religion1Code=None, Actor2Religion2Code=None, Actor2Type1Code=None, Actor2Type2Code=None, Actor2Type3Code=None, IsRootEvent=0, EventCode='023', EventBaseCode='023', EventRootCode='02', QuadClass=1, GoldsteinScale=3.4000000953674316, NumMentions=10, NumSources=1, NumArticles=10, AvgTone=0.8474576473236084, Actor1Geo_Type=4, Actor1Geo_FullName='Bern, Bern, Switzerland', Actor1Geo_CountryCode='SZ', Actor1Geo_ADM1Code='SZ05', Actor1Geo_Lat=46.91669845581055, Actor1Geo_Long=7.466670036315918, Actor1Geo_FeatureID=-2551235, Actor2Geo_Type=0, Actor2Geo_FullName=None, Actor2Geo_CountryCode=None, Actor2Geo_ADM1Code=None, Actor2Geo_Lat=None, Actor2Geo_Long=None, Actor2Geo_FeatureID=None, ActionGeo_Type=4, ActionGeo_FullName='Bern, Bern, Switzerland', ActionGeo_CountryCode='SZ', ActionGeo_ADM1Code='SZ05', ActionGeo_Lat=46.91669845581055, ActionGeo_Long=7.466670036315918, ActionGeo_FeatureID=-2551235, DATEADDED=20171108, SOURCEURL='http://www.newbernsj.com/news/20171107/incumbent-wilson-newcomer-kohr-win-havelock-board-seats'),\n",
       " Row(GLOBALEVENTID=704856900, SQLDATE=20171108, MonthYear=201711, Year=2017, FractionDate=2017.84375, Actor1Code='GOV', Actor1Name='GOVERNMENT', Actor1CountryCode=None, Actor1KnownGroupCode=None, Actor1EthnicCode=None, Actor1Religion1Code=None, Actor1Religion2Code=None, Actor1Type1Code='GOV', Actor1Type2Code=None, Actor1Type3Code=None, Actor2Code=None, Actor2Name=None, Actor2CountryCode=None, Actor2KnownGroupCode=None, Actor2EthnicCode=None, Actor2Religion1Code=None, Actor2Religion2Code=None, Actor2Type1Code=None, Actor2Type2Code=None, Actor2Type3Code=None, IsRootEvent=1, EventCode='020', EventBaseCode='020', EventRootCode='02', QuadClass=1, GoldsteinScale=3.0, NumMentions=6, NumSources=1, NumArticles=6, AvgTone=0.11976047605276108, Actor1Geo_Type=4, Actor1Geo_FullName='Bern, Bern, Switzerland', Actor1Geo_CountryCode='SZ', Actor1Geo_ADM1Code='SZ05', Actor1Geo_Lat=46.91669845581055, Actor1Geo_Long=7.466670036315918, Actor1Geo_FeatureID=-2551235, Actor2Geo_Type=0, Actor2Geo_FullName=None, Actor2Geo_CountryCode=None, Actor2Geo_ADM1Code=None, Actor2Geo_Lat=None, Actor2Geo_Long=None, Actor2Geo_FeatureID=None, ActionGeo_Type=4, ActionGeo_FullName='Bern, Bern, Switzerland', ActionGeo_CountryCode='SZ', ActionGeo_ADM1Code='SZ05', ActionGeo_Lat=46.91669845581055, ActionGeo_Long=7.466670036315918, ActionGeo_FeatureID=-2551235, DATEADDED=20171108, SOURCEURL='http://www.newbernsj.com/news/20171107/craven-county-voters-bring-local-issues-opinions-to-polls'),\n",
       " Row(GLOBALEVENTID=704859267, SQLDATE=20171009, MonthYear=201710, Year=2017, FractionDate=2017.764404296875, Actor1Code='GOV', Actor1Name='REGIME', Actor1CountryCode=None, Actor1KnownGroupCode=None, Actor1EthnicCode=None, Actor1Religion1Code=None, Actor1Religion2Code=None, Actor1Type1Code='GOV', Actor1Type2Code=None, Actor1Type3Code=None, Actor2Code='IGOUNO', Actor2Name='THE UN', Actor2CountryCode=None, Actor2KnownGroupCode='UNO', Actor2EthnicCode=None, Actor2Religion1Code=None, Actor2Religion2Code=None, Actor2Type1Code='IGO', Actor2Type2Code=None, Actor2Type3Code=None, IsRootEvent=0, EventCode='040', EventBaseCode='040', EventRootCode='04', QuadClass=1, GoldsteinScale=1.0, NumMentions=6, NumSources=3, NumArticles=6, AvgTone=-2.258646249771118, Actor1Geo_Type=4, Actor1Geo_FullName='Geneva, Genè, Switzerland', Actor1Geo_CountryCode='SZ', Actor1Geo_ADM1Code='SZ07', Actor1Geo_Lat=46.19559860229492, Actor1Geo_Long=6.1481099128723145, Actor1Geo_FeatureID=-2552151, Actor2Geo_Type=4, Actor2Geo_FullName='Geneva, Genè, Switzerland', Actor2Geo_CountryCode='SZ', Actor2Geo_ADM1Code='SZ07', Actor2Geo_Lat=46.19559860229492, Actor2Geo_Long=6.1481099128723145, Actor2Geo_FeatureID=-2552151, ActionGeo_Type=4, ActionGeo_FullName='Geneva, Genè, Switzerland', ActionGeo_CountryCode='SZ', ActionGeo_ADM1Code='SZ07', ActionGeo_Lat=46.19559860229492, ActionGeo_Long=6.1481099128723145, ActionGeo_FeatureID=-2552151, DATEADDED=20171108, SOURCEURL='http://www.ejinsight.com/20171108-when-climate-leaders-protect-dirty-investments/'),\n",
       " Row(GLOBALEVENTID=704872451, SQLDATE=20171108, MonthYear=201711, Year=2017, FractionDate=2017.84375, Actor1Code='CHE', Actor1Name='SWITZERLAND', Actor1CountryCode='CHE', Actor1KnownGroupCode=None, Actor1EthnicCode=None, Actor1Religion1Code=None, Actor1Religion2Code=None, Actor1Type1Code=None, Actor1Type2Code=None, Actor1Type3Code=None, Actor2Code='CHEGOV', Actor2Name='JOHANN SCHNEIDER AMMANN', Actor2CountryCode='CHE', Actor2KnownGroupCode=None, Actor2EthnicCode=None, Actor2Religion1Code=None, Actor2Religion2Code=None, Actor2Type1Code='GOV', Actor2Type2Code=None, Actor2Type3Code=None, IsRootEvent=0, EventCode='036', EventBaseCode='036', EventRootCode='03', QuadClass=1, GoldsteinScale=4.0, NumMentions=2, NumSources=1, NumArticles=2, AvgTone=3.6388139724731445, Actor1Geo_Type=4, Actor1Geo_FullName='Geneva, Genè, Switzerland', Actor1Geo_CountryCode='SZ', Actor1Geo_ADM1Code='SZ07', Actor1Geo_Lat=46.19559860229492, Actor1Geo_Long=6.1481099128723145, Actor1Geo_FeatureID=-2552151, Actor2Geo_Type=4, Actor2Geo_FullName='Geneva, Genè, Switzerland', Actor2Geo_CountryCode='SZ', Actor2Geo_ADM1Code='SZ07', Actor2Geo_Lat=46.19559860229492, Actor2Geo_Long=6.1481099128723145, Actor2Geo_FeatureID=-2552151, ActionGeo_Type=4, ActionGeo_FullName='Geneva, Genè, Switzerland', ActionGeo_CountryCode='SZ', ActionGeo_ADM1Code='SZ07', ActionGeo_Lat=46.19559860229492, ActionGeo_Long=6.1481099128723145, ActionGeo_FeatureID=-2552151, DATEADDED=20171108, SOURCEURL='http://www.ibn7.com/state/new-delhi/item/144897-2017-11-08-02-55-19'),\n",
       " Row(GLOBALEVENTID=704872457, SQLDATE=20171108, MonthYear=201711, Year=2017, FractionDate=2017.84375, Actor1Code='CHEGOV', Actor1Name='JOHANN SCHNEIDER AMMANN', Actor1CountryCode='CHE', Actor1KnownGroupCode=None, Actor1EthnicCode=None, Actor1Religion1Code=None, Actor1Religion2Code=None, Actor1Type1Code='GOV', Actor1Type2Code=None, Actor1Type3Code=None, Actor2Code='CHE', Actor2Name='SWITZERLAND', Actor2CountryCode='CHE', Actor2KnownGroupCode=None, Actor2EthnicCode=None, Actor2Religion1Code=None, Actor2Religion2Code=None, Actor2Type1Code=None, Actor2Type2Code=None, Actor2Type3Code=None, IsRootEvent=0, EventCode='036', EventBaseCode='036', EventRootCode='03', QuadClass=1, GoldsteinScale=4.0, NumMentions=2, NumSources=1, NumArticles=2, AvgTone=3.6388139724731445, Actor1Geo_Type=4, Actor1Geo_FullName='Geneva, Genè, Switzerland', Actor1Geo_CountryCode='SZ', Actor1Geo_ADM1Code='SZ07', Actor1Geo_Lat=46.19559860229492, Actor1Geo_Long=6.1481099128723145, Actor1Geo_FeatureID=-2552151, Actor2Geo_Type=4, Actor2Geo_FullName='Geneva, Genè, Switzerland', Actor2Geo_CountryCode='SZ', Actor2Geo_ADM1Code='SZ07', Actor2Geo_Lat=46.19559860229492, Actor2Geo_Long=6.1481099128723145, Actor2Geo_FeatureID=-2552151, ActionGeo_Type=4, ActionGeo_FullName='Geneva, Genè, Switzerland', ActionGeo_CountryCode='SZ', ActionGeo_ADM1Code='SZ07', ActionGeo_Lat=46.19559860229492, ActionGeo_Long=6.1481099128723145, ActionGeo_FeatureID=-2552151, DATEADDED=20171108, SOURCEURL='http://www.ibn7.com/state/new-delhi/item/144897-2017-11-08-02-55-19'),\n",
       " Row(GLOBALEVENTID=704905954, SQLDATE=20171108, MonthYear=201711, Year=2017, FractionDate=2017.84375, Actor1Code='CHE', Actor1Name='SWITZERLAND', Actor1CountryCode='CHE', Actor1KnownGroupCode=None, Actor1EthnicCode=None, Actor1Religion1Code=None, Actor1Religion2Code=None, Actor1Type1Code=None, Actor1Type2Code=None, Actor1Type3Code=None, Actor2Code=None, Actor2Name=None, Actor2CountryCode=None, Actor2KnownGroupCode=None, Actor2EthnicCode=None, Actor2Religion1Code=None, Actor2Religion2Code=None, Actor2Type1Code=None, Actor2Type2Code=None, Actor2Type3Code=None, IsRootEvent=1, EventCode='030', EventBaseCode='030', EventRootCode='03', QuadClass=1, GoldsteinScale=4.0, NumMentions=6, NumSources=2, NumArticles=6, AvgTone=3.529346227645874, Actor1Geo_Type=4, Actor1Geo_FullName='Zurich, ZüSZ, Switzerland', Actor1Geo_CountryCode='SZ', Actor1Geo_ADM1Code='SZ25', Actor1Geo_Lat=47.36669921875, Actor1Geo_Long=8.550000190734863, Actor1Geo_FeatureID=-2554935, Actor2Geo_Type=0, Actor2Geo_FullName=None, Actor2Geo_CountryCode=None, Actor2Geo_ADM1Code=None, Actor2Geo_Lat=None, Actor2Geo_Long=None, Actor2Geo_FeatureID=None, ActionGeo_Type=4, ActionGeo_FullName='Zurich, ZüSZ, Switzerland', ActionGeo_CountryCode='SZ', ActionGeo_ADM1Code='SZ25', ActionGeo_Lat=47.36669921875, ActionGeo_Long=8.550000190734863, ActionGeo_FeatureID=-2554935, DATEADDED=20171108, SOURCEURL='http://www.4-traders.com/BARRY-CALLEBAUT-408710/news/Barry-Callebaut-extends-guidance-as-net-profit-jumps-25461368/'),\n",
       " Row(GLOBALEVENTID=704910389, SQLDATE=20171108, MonthYear=201711, Year=2017, FractionDate=2017.84375, Actor1Code='MED', Actor1Name='WEBSITE', Actor1CountryCode=None, Actor1KnownGroupCode=None, Actor1EthnicCode=None, Actor1Religion1Code=None, Actor1Religion2Code=None, Actor1Type1Code='MED', Actor1Type2Code=None, Actor1Type3Code=None, Actor2Code='LIE', Actor2Name='LIECHTENSTEIN', Actor2CountryCode='LIE', Actor2KnownGroupCode=None, Actor2EthnicCode=None, Actor2Religion1Code=None, Actor2Religion2Code=None, Actor2Type1Code=None, Actor2Type2Code=None, Actor2Type3Code=None, IsRootEvent=1, EventCode='090', EventBaseCode='090', EventRootCode='09', QuadClass=2, GoldsteinScale=-2.0, NumMentions=2, NumSources=1, NumArticles=2, AvgTone=-1.0122921466827393, Actor1Geo_Type=4, Actor1Geo_FullName='Saint-Gallen, Sankt Gallen, Switzerland', Actor1Geo_CountryCode='SZ', Actor1Geo_ADM1Code='SZ15', Actor1Geo_Lat=47.42539978027344, Actor1Geo_Long=9.377610206604004, Actor1Geo_FeatureID=-2554000, Actor2Geo_Type=4, Actor2Geo_FullName='Saint-Gallen, Sankt Gallen, Switzerland', Actor2Geo_CountryCode='SZ', Actor2Geo_ADM1Code='SZ15', Actor2Geo_Lat=47.42539978027344, Actor2Geo_Long=9.377610206604004, Actor2Geo_FeatureID=-2554000, ActionGeo_Type=4, ActionGeo_FullName='Saint-Gallen, Sankt Gallen, Switzerland', ActionGeo_CountryCode='SZ', ActionGeo_ADM1Code='SZ15', ActionGeo_Lat=47.42539978027344, ActionGeo_Long=9.377610206604004, ActionGeo_FeatureID=-2554000, DATEADDED=20171108, SOURCEURL='http://hetq.am/eng/news/82338/the-smbatyan-familys-cultural-empire-suspect-collaboration-with-a-swiss-foundation-and-a-vienna-conservatory.html')]"
      ]
     },
     "execution_count": 63,
     "metadata": {},
     "output_type": "execute_result"
    }
   ],
   "source": [
    "df\\\n",
    "    .sample(False, .1)\\\n",
    "    .rdd\\\n",
    "    .filter(lambda row: row.ActionGeo_CountryCode == 'SZ')\\\n",
    "    .take(10)"
   ]
  },
  {
   "cell_type": "code",
   "execution_count": null,
   "metadata": {},
   "outputs": [],
   "source": []
  },
  {
   "cell_type": "code",
   "execution_count": null,
   "metadata": {},
   "outputs": [],
   "source": []
  }
 ],
 "metadata": {
  "kernelspec": {
   "display_name": "Python 3",
   "language": "python",
   "name": "python3"
  },
  "language_info": {
   "codemirror_mode": {
    "name": "ipython",
    "version": 3
   },
   "file_extension": ".py",
   "mimetype": "text/x-python",
   "name": "python",
   "nbconvert_exporter": "python",
   "pygments_lexer": "ipython3",
   "version": "3.6.3"
  }
 },
 "nbformat": 4,
 "nbformat_minor": 2
}
