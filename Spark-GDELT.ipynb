{
 "cells": [
  {
   "cell_type": "markdown",
   "metadata": {},
   "source": [
    "# Schema"
   ]
  },
  {
   "cell_type": "code",
   "execution_count": 1,
   "metadata": {},
   "outputs": [
    {
     "data": {
      "text/plain": [
       "[StructField(GLOBALEVENTID,LongType,true),\n",
       " StructField(SQLDATE,LongType,true),\n",
       " StructField(MonthYear,IntegerType,true),\n",
       " StructField(Year,IntegerType,true),\n",
       " StructField(FractionDate,FloatType,true),\n",
       " StructField(Actor1Code,StringType,true),\n",
       " StructField(Actor1Name,StringType,true),\n",
       " StructField(Actor1CountryCode,StringType,true),\n",
       " StructField(Actor1KnownGroupCode,StringType,true),\n",
       " StructField(Actor1EthnicCode,StringType,true),\n",
       " StructField(Actor1Religion1Code,StringType,true),\n",
       " StructField(Actor1Religion2Code,StringType,true),\n",
       " StructField(Actor1Type1Code,StringType,true),\n",
       " StructField(Actor1Type2Code,StringType,true),\n",
       " StructField(Actor1Type3Code,StringType,true),\n",
       " StructField(Actor2Code,StringType,true),\n",
       " StructField(Actor2Name,StringType,true),\n",
       " StructField(Actor2CountryCode,StringType,true),\n",
       " StructField(Actor2KnownGroupCode,StringType,true),\n",
       " StructField(Actor2EthnicCode,StringType,true),\n",
       " StructField(Actor2Religion1Code,StringType,true),\n",
       " StructField(Actor2Religion2Code,StringType,true),\n",
       " StructField(Actor2Type1Code,StringType,true),\n",
       " StructField(Actor2Type2Code,StringType,true),\n",
       " StructField(Actor2Type3Code,StringType,true),\n",
       " StructField(IsRootEvent,IntegerType,true),\n",
       " StructField(EventCode,StringType,true),\n",
       " StructField(EventBaseCode,StringType,true),\n",
       " StructField(EventRootCode,StringType,true),\n",
       " StructField(QuadClass,IntegerType,true),\n",
       " StructField(GoldsteinScale,FloatType,true),\n",
       " StructField(NumMentions,IntegerType,true),\n",
       " StructField(NumSources,IntegerType,true),\n",
       " StructField(NumArticles,IntegerType,true),\n",
       " StructField(AvgTone,FloatType,true),\n",
       " StructField(Actor1Geo_Type,IntegerType,true),\n",
       " StructField(Actor1Geo_FullName,StringType,true),\n",
       " StructField(Actor1Geo_CountryCode,StringType,true),\n",
       " StructField(Actor1Geo_ADM1Code,StringType,true),\n",
       " StructField(Actor1Geo_Lat,FloatType,true),\n",
       " StructField(Actor1Geo_Long,FloatType,true),\n",
       " StructField(Actor1Geo_FeatureID,IntegerType,true),\n",
       " StructField(Actor2Geo_Type,IntegerType,true),\n",
       " StructField(Actor2Geo_FullName,StringType,true),\n",
       " StructField(Actor2Geo_CountryCode,StringType,true),\n",
       " StructField(Actor2Geo_ADM1Code,StringType,true),\n",
       " StructField(Actor2Geo_Lat,FloatType,true),\n",
       " StructField(Actor2Geo_Long,FloatType,true),\n",
       " StructField(Actor2Geo_FeatureID,IntegerType,true),\n",
       " StructField(ActionGeo_Type,IntegerType,true),\n",
       " StructField(ActionGeo_FullName,StringType,true),\n",
       " StructField(ActionGeo_CountryCode,StringType,true),\n",
       " StructField(ActionGeo_ADM1Code,StringType,true),\n",
       " StructField(ActionGeo_Lat,FloatType,true),\n",
       " StructField(ActionGeo_Long,FloatType,true),\n",
       " StructField(ActionGeo_FeatureID,IntegerType,true),\n",
       " StructField(DATEADDED,LongType,true),\n",
       " StructField(SOURCEURL,StringType,true)]"
      ]
     },
     "execution_count": 1,
     "metadata": {},
     "output_type": "execute_result"
    }
   ],
   "source": [
    "from pyspark.sql.types import StructType, StructField, StringType, FloatType, LongType, IntegerType, BooleanType\n",
    "\n",
    "types = {\n",
    "    'Float': lambda: FloatType(),\n",
    "    'Integer': lambda: IntegerType(),\n",
    "    'Long': lambda: LongType(),\n",
    "    'Bool': lambda: IntegerType()\n",
    "}\n",
    "\n",
    "feats = []\n",
    "with open('CSV.header.txt') as header_file:\n",
    "    for lineno, line in enumerate(header_file):\n",
    "        line = line.strip()\n",
    "        if ':' in line:\n",
    "            feat_name, type_name = line.split(':')\n",
    "            feats.append(StructField(feat_name, types[type_name](), True))\n",
    "        else:\n",
    "            feats.append(StructField(line, StringType(), True))\n",
    "            \n",
    "schema = StructType(feats)\n",
    "feats"
   ]
  },
  {
   "cell_type": "markdown",
   "metadata": {},
   "source": [
    "# Dataframe"
   ]
  },
  {
   "cell_type": "code",
   "execution_count": 2,
   "metadata": {},
   "outputs": [
    {
     "data": {
      "text/plain": [
       "[Row(GLOBALEVENTID=704806527, SQLDATE=20071111, MonthYear=200711, Year=2007, FractionDate=2007.85205078125, Actor1Code=None, Actor1Name=None, Actor1CountryCode=None, Actor1KnownGroupCode=None, Actor1EthnicCode=None, Actor1Religion1Code=None, Actor1Religion2Code=None, Actor1Type1Code=None, Actor1Type2Code=None, Actor1Type3Code=None, Actor2Code='SAU', Actor2Name='SAUDI ARABIA', Actor2CountryCode='SAU', Actor2KnownGroupCode=None, Actor2EthnicCode=None, Actor2Religion1Code=None, Actor2Religion2Code=None, Actor2Type1Code=None, Actor2Type2Code=None, Actor2Type3Code=None, IsRootEvent=1, EventCode='190', EventBaseCode='190', EventRootCode='19', QuadClass=4, GoldsteinScale=-10.0, NumMentions=708, NumSources=54, NumArticles=708, AvgTone=-5.323681831359863, Actor1Geo_Type=0, Actor1Geo_FullName=None, Actor1Geo_CountryCode=None, Actor1Geo_ADM1Code=None, Actor1Geo_Lat=None, Actor1Geo_Long=None, Actor1Geo_FeatureID=None, Actor2Geo_Type=4, Actor2Geo_FullName='Riyadh, Ar Riya?, Saudi Arabia', Actor2Geo_CountryCode='SA', Actor2Geo_ADM1Code='SA10', Actor2Geo_Lat=24.64080047607422, Actor2Geo_Long=46.77280044555664, Actor2Geo_FeatureID=-3093009, ActionGeo_Type=4, ActionGeo_FullName='Riyadh, Ar Riya?, Saudi Arabia', ActionGeo_CountryCode='SA', ActionGeo_ADM1Code='SA10', ActionGeo_Lat=24.64080047607422, ActionGeo_Long=46.77280044555664, ActionGeo_FeatureID=-3093009, DATEADDED=20171108, SOURCEURL='http://www.air1.com/news/2017/11/07/Saudi-Arabia-And-Iran-Lock-Into-A-Test-Of-Wills-Spreading-Across-Entire-Middle-East.aspx')]"
      ]
     },
     "execution_count": 2,
     "metadata": {},
     "output_type": "execute_result"
    }
   ],
   "source": [
    "df = spark.read.csv('/Users/mathieuclement/Downloads/gdelt/*.export.csv', sep = '\\t', schema=schema)\n",
    "df.take(1)"
   ]
  },
  {
   "cell_type": "code",
   "execution_count": 50,
   "metadata": {},
   "outputs": [
    {
     "data": {
      "text/plain": [
       "15902791"
      ]
     },
     "execution_count": 50,
     "metadata": {},
     "output_type": "execute_result"
    }
   ],
   "source": [
    "df.count()"
   ]
  },
  {
   "cell_type": "code",
   "execution_count": 51,
   "metadata": {},
   "outputs": [],
   "source": [
    "df.createOrReplaceTempView(\"V_GDELT\")"
   ]
  },
  {
   "cell_type": "code",
   "execution_count": 61,
   "metadata": {},
   "outputs": [
    {
     "data": {
      "text/plain": [
       "[Row(count(ActionGeo_CountryCode)=5161731)]"
      ]
     },
     "execution_count": 61,
     "metadata": {},
     "output_type": "execute_result"
    }
   ],
   "source": [
    "us_events = spark.sql('SELECT COUNT(ActionGeo_CountryCode) FROM V_GDELT WHERE ActionGeo_CountryCode=\"US\"').collect()\n",
    "us_events"
   ]
  },
  {
   "cell_type": "code",
   "execution_count": 4,
   "metadata": {},
   "outputs": [
    {
     "data": {
      "text/plain": [
       "[Row(GLOBALEVENTID=704807768, SQLDATE=20171108, MonthYear=201711, Year=2017, FractionDate=2017.84375, Actor1Code='CHE', Actor1Name='SWITZERLAND', Actor1CountryCode='CHE', Actor1KnownGroupCode=None, Actor1EthnicCode=None, Actor1Religion1Code=None, Actor1Religion2Code=None, Actor1Type1Code=None, Actor1Type2Code=None, Actor1Type3Code=None, Actor2Code='FRA', Actor2Name='FRANCE', Actor2CountryCode='FRA', Actor2KnownGroupCode=None, Actor2EthnicCode=None, Actor2Religion1Code=None, Actor2Religion2Code=None, Actor2Type1Code=None, Actor2Type2Code=None, Actor2Type3Code=None, IsRootEvent=1, EventCode='173', EventBaseCode='173', EventRootCode='17', QuadClass=4, GoldsteinScale=-5.0, NumMentions=30, NumSources=6, NumArticles=29, AvgTone=-7.513261318206787, Actor1Geo_Type=4, Actor1Geo_FullName='Paris, France (general), France', Actor1Geo_CountryCode='FR', Actor1Geo_ADM1Code='FR00', Actor1Geo_Lat=48.86669921875, Actor1Geo_Long=2.333329916000366, Actor1Geo_FeatureID=-1456928, Actor2Geo_Type=4, Actor2Geo_FullName='Paris, France (general), France', Actor2Geo_CountryCode='FR', Actor2Geo_ADM1Code='FR00', Actor2Geo_Lat=48.86669921875, Actor2Geo_Long=2.333329916000366, Actor2Geo_FeatureID=-1456928, ActionGeo_Type=4, ActionGeo_FullName='Paris, France (general), France', ActionGeo_CountryCode='FR', ActionGeo_ADM1Code='FR00', ActionGeo_Lat=48.86669921875, ActionGeo_Long=2.333329916000366, ActionGeo_FeatureID=-1456928, DATEADDED=20171108, SOURCEURL='http://www.ivpressonline.com/news/world/arrests-in-french-swiss-raids-over-suspected-attack-plot/article_9bfdd15f-b0e5-5c75-8ee8-82e0dae5efbb.html'),\n",
       " Row(GLOBALEVENTID=704807771, SQLDATE=20171108, MonthYear=201711, Year=2017, FractionDate=2017.84375, Actor1Code='CHE', Actor1Name='SWISS', Actor1CountryCode='CHE', Actor1KnownGroupCode=None, Actor1EthnicCode=None, Actor1Religion1Code=None, Actor1Religion2Code=None, Actor1Type1Code=None, Actor1Type2Code=None, Actor1Type3Code=None, Actor2Code='FRA', Actor2Name='FRENCH', Actor2CountryCode='FRA', Actor2KnownGroupCode=None, Actor2EthnicCode=None, Actor2Religion1Code=None, Actor2Religion2Code=None, Actor2Type1Code=None, Actor2Type2Code=None, Actor2Type3Code=None, IsRootEvent=1, EventCode='173', EventBaseCode='173', EventRootCode='17', QuadClass=4, GoldsteinScale=-5.0, NumMentions=4, NumSources=2, NumArticles=4, AvgTone=-7.772754192352295, Actor1Geo_Type=4, Actor1Geo_FullName='Berlin, Berlin, Germany', Actor1Geo_CountryCode='GM', Actor1Geo_ADM1Code='GM16', Actor1Geo_Lat=52.516700744628906, Actor1Geo_Long=13.399999618530273, Actor1Geo_FeatureID=-1746443, Actor2Geo_Type=4, Actor2Geo_FullName='Berlin, Berlin, Germany', Actor2Geo_CountryCode='GM', Actor2Geo_ADM1Code='GM16', Actor2Geo_Lat=52.516700744628906, Actor2Geo_Long=13.399999618530273, Actor2Geo_FeatureID=-1746443, ActionGeo_Type=4, ActionGeo_FullName='Berlin, Berlin, Germany', ActionGeo_CountryCode='GM', ActionGeo_ADM1Code='GM16', ActionGeo_Lat=52.516700744628906, ActionGeo_Long=13.399999618530273, ActionGeo_FeatureID=-1746443, DATEADDED=20171108, SOURCEURL='http://www.ivpressonline.com/news/world/arrests-in-french-swiss-raids-over-suspected-attack-plot/article_9bfdd15f-b0e5-5c75-8ee8-82e0dae5efbb.html'),\n",
       " Row(GLOBALEVENTID=704807774, SQLDATE=20171108, MonthYear=201711, Year=2017, FractionDate=2017.84375, Actor1Code='CHE', Actor1Name='SWISS', Actor1CountryCode='CHE', Actor1KnownGroupCode=None, Actor1EthnicCode=None, Actor1Religion1Code=None, Actor1Religion2Code=None, Actor1Type1Code=None, Actor1Type2Code=None, Actor1Type3Code=None, Actor2Code='FRA', Actor2Name='FRENCH', Actor2CountryCode='FRA', Actor2KnownGroupCode=None, Actor2EthnicCode=None, Actor2Religion1Code=None, Actor2Religion2Code=None, Actor2Type1Code=None, Actor2Type2Code=None, Actor2Type3Code=None, IsRootEvent=1, EventCode='190', EventBaseCode='190', EventRootCode='19', QuadClass=4, GoldsteinScale=-10.0, NumMentions=36, NumSources=7, NumArticles=28, AvgTone=-6.872645854949951, Actor1Geo_Type=4, Actor1Geo_FullName='Vaud, Switzerland (general), Switzerland', Actor1Geo_CountryCode='SZ', Actor1Geo_ADM1Code='SZ00', Actor1Geo_Lat=46.477901458740234, Actor1Geo_Long=6.234630107879639, Actor1Geo_FeatureID=-2552902, Actor2Geo_Type=4, Actor2Geo_FullName='Paris, France (general), France', Actor2Geo_CountryCode='FR', Actor2Geo_ADM1Code='FR00', Actor2Geo_Lat=48.86669921875, Actor2Geo_Long=2.333329916000366, Actor2Geo_FeatureID=-1456928, ActionGeo_Type=4, ActionGeo_FullName='Vaud, Switzerland (general), Switzerland', ActionGeo_CountryCode='SZ', ActionGeo_ADM1Code='SZ00', ActionGeo_Lat=46.477901458740234, ActionGeo_Long=6.234630107879639, ActionGeo_FeatureID=-2552902, DATEADDED=20171108, SOURCEURL='http://www.ivpressonline.com/news/world/arrests-in-french-swiss-raids-over-suspected-attack-plot/article_9bfdd15f-b0e5-5c75-8ee8-82e0dae5efbb.html'),\n",
       " Row(GLOBALEVENTID=704856480, SQLDATE=20171108, MonthYear=201711, Year=2017, FractionDate=2017.84375, Actor1Code='CHE', Actor1Name='SWITZERLAND', Actor1CountryCode='CHE', Actor1KnownGroupCode=None, Actor1EthnicCode=None, Actor1Religion1Code=None, Actor1Religion2Code=None, Actor1Type1Code=None, Actor1Type2Code=None, Actor1Type3Code=None, Actor2Code=None, Actor2Name=None, Actor2CountryCode=None, Actor2KnownGroupCode=None, Actor2EthnicCode=None, Actor2Religion1Code=None, Actor2Religion2Code=None, Actor2Type1Code=None, Actor2Type2Code=None, Actor2Type3Code=None, IsRootEvent=0, EventCode='010', EventBaseCode='010', EventRootCode='01', QuadClass=1, GoldsteinScale=0.0, NumMentions=3, NumSources=1, NumArticles=3, AvgTone=0.8474576473236084, Actor1Geo_Type=4, Actor1Geo_FullName='Bern, Bern, Switzerland', Actor1Geo_CountryCode='SZ', Actor1Geo_ADM1Code='SZ05', Actor1Geo_Lat=46.91669845581055, Actor1Geo_Long=7.466670036315918, Actor1Geo_FeatureID=-2551235, Actor2Geo_Type=0, Actor2Geo_FullName=None, Actor2Geo_CountryCode=None, Actor2Geo_ADM1Code=None, Actor2Geo_Lat=None, Actor2Geo_Long=None, Actor2Geo_FeatureID=None, ActionGeo_Type=4, ActionGeo_FullName='Bern, Bern, Switzerland', ActionGeo_CountryCode='SZ', ActionGeo_ADM1Code='SZ05', ActionGeo_Lat=46.91669845581055, ActionGeo_Long=7.466670036315918, ActionGeo_FeatureID=-2551235, DATEADDED=20171108, SOURCEURL='http://www.newbernsj.com/news/20171107/incumbent-wilson-newcomer-kohr-win-havelock-board-seats'),\n",
       " Row(GLOBALEVENTID=704856484, SQLDATE=20171108, MonthYear=201711, Year=2017, FractionDate=2017.84375, Actor1Code='CHE', Actor1Name='SWITZERLAND', Actor1CountryCode='CHE', Actor1KnownGroupCode=None, Actor1EthnicCode=None, Actor1Religion1Code=None, Actor1Religion2Code=None, Actor1Type1Code=None, Actor1Type2Code=None, Actor1Type3Code=None, Actor2Code='MIL', Actor2Name='MARINE CORP', Actor2CountryCode=None, Actor2KnownGroupCode=None, Actor2EthnicCode=None, Actor2Religion1Code=None, Actor2Religion2Code=None, Actor2Type1Code='MIL', Actor2Type2Code=None, Actor2Type3Code=None, IsRootEvent=0, EventCode='0831', EventBaseCode='083', EventRootCode='08', QuadClass=2, GoldsteinScale=5.0, NumMentions=2, NumSources=1, NumArticles=2, AvgTone=0.8474576473236084, Actor1Geo_Type=4, Actor1Geo_FullName='Bern, Bern, Switzerland', Actor1Geo_CountryCode='SZ', Actor1Geo_ADM1Code='SZ05', Actor1Geo_Lat=46.91669845581055, Actor1Geo_Long=7.466670036315918, Actor1Geo_FeatureID=-2551235, Actor2Geo_Type=4, Actor2Geo_FullName='Bern, Bern, Switzerland', Actor2Geo_CountryCode='SZ', Actor2Geo_ADM1Code='SZ05', Actor2Geo_Lat=46.91669845581055, Actor2Geo_Long=7.466670036315918, Actor2Geo_FeatureID=-2551235, ActionGeo_Type=4, ActionGeo_FullName='Bern, Bern, Switzerland', ActionGeo_CountryCode='SZ', ActionGeo_ADM1Code='SZ05', ActionGeo_Lat=46.91669845581055, ActionGeo_Long=7.466670036315918, ActionGeo_FeatureID=-2551235, DATEADDED=20171108, SOURCEURL='http://www.newbernsj.com/news/20171107/incumbent-wilson-newcomer-kohr-win-havelock-board-seats'),\n",
       " Row(GLOBALEVENTID=704872451, SQLDATE=20171108, MonthYear=201711, Year=2017, FractionDate=2017.84375, Actor1Code='CHE', Actor1Name='SWITZERLAND', Actor1CountryCode='CHE', Actor1KnownGroupCode=None, Actor1EthnicCode=None, Actor1Religion1Code=None, Actor1Religion2Code=None, Actor1Type1Code=None, Actor1Type2Code=None, Actor1Type3Code=None, Actor2Code='CHEGOV', Actor2Name='JOHANN SCHNEIDER AMMANN', Actor2CountryCode='CHE', Actor2KnownGroupCode=None, Actor2EthnicCode=None, Actor2Religion1Code=None, Actor2Religion2Code=None, Actor2Type1Code='GOV', Actor2Type2Code=None, Actor2Type3Code=None, IsRootEvent=0, EventCode='036', EventBaseCode='036', EventRootCode='03', QuadClass=1, GoldsteinScale=4.0, NumMentions=2, NumSources=1, NumArticles=2, AvgTone=3.6388139724731445, Actor1Geo_Type=4, Actor1Geo_FullName='Geneva, Genè, Switzerland', Actor1Geo_CountryCode='SZ', Actor1Geo_ADM1Code='SZ07', Actor1Geo_Lat=46.19559860229492, Actor1Geo_Long=6.1481099128723145, Actor1Geo_FeatureID=-2552151, Actor2Geo_Type=4, Actor2Geo_FullName='Geneva, Genè, Switzerland', Actor2Geo_CountryCode='SZ', Actor2Geo_ADM1Code='SZ07', Actor2Geo_Lat=46.19559860229492, Actor2Geo_Long=6.1481099128723145, Actor2Geo_FeatureID=-2552151, ActionGeo_Type=4, ActionGeo_FullName='Geneva, Genè, Switzerland', ActionGeo_CountryCode='SZ', ActionGeo_ADM1Code='SZ07', ActionGeo_Lat=46.19559860229492, ActionGeo_Long=6.1481099128723145, ActionGeo_FeatureID=-2552151, DATEADDED=20171108, SOURCEURL='http://www.ibn7.com/state/new-delhi/item/144897-2017-11-08-02-55-19'),\n",
       " Row(GLOBALEVENTID=704940121, SQLDATE=20171108, MonthYear=201711, Year=2017, FractionDate=2017.84375, Actor1Code='CHE', Actor1Name='GENEVA', Actor1CountryCode='CHE', Actor1KnownGroupCode=None, Actor1EthnicCode=None, Actor1Religion1Code=None, Actor1Religion2Code=None, Actor1Type1Code=None, Actor1Type2Code=None, Actor1Type3Code=None, Actor2Code='YEM', Actor2Name='YEMEN', Actor2CountryCode='YEM', Actor2KnownGroupCode=None, Actor2EthnicCode=None, Actor2Religion1Code=None, Actor2Religion2Code=None, Actor2Type1Code=None, Actor2Type2Code=None, Actor2Type3Code=None, IsRootEvent=1, EventCode='012', EventBaseCode='012', EventRootCode='01', QuadClass=1, GoldsteinScale=-0.4000000059604645, NumMentions=2, NumSources=1, NumArticles=2, AvgTone=-6.320541858673096, Actor1Geo_Type=4, Actor1Geo_FullName=\"Sanaa, San\\x91a', Yemen\", Actor1Geo_CountryCode='YM', Actor1Geo_ADM1Code='YM16', Actor1Geo_Lat=15.354700088500977, Actor1Geo_Long=44.20669937133789, Actor1Geo_FeatureID=-3191442, Actor2Geo_Type=4, Actor2Geo_FullName='Al-Layl, Saudi Arabia (general), Saudi Arabia', Actor2Geo_CountryCode='SA', Actor2Geo_ADM1Code='SA00', Actor2Geo_Lat=31.266700744628906, Actor2Geo_Long=40.46670150756836, Actor2Geo_FeatureID=-3092148, ActionGeo_Type=4, ActionGeo_FullName=\"Sanaa, San\\x91a', Yemen\", ActionGeo_CountryCode='YM', ActionGeo_ADM1Code='YM16', ActionGeo_Lat=15.354700088500977, ActionGeo_Long=44.20669937133789, ActionGeo_FeatureID=-3191442, DATEADDED=20171108, SOURCEURL='http://muslimnews.co.uk/news/middle-east/un-concerned-aid-operations-yemen-blocked-saudi-arabia-killing-civilians/'),\n",
       " Row(GLOBALEVENTID=704940122, SQLDATE=20171108, MonthYear=201711, Year=2017, FractionDate=2017.84375, Actor1Code='CHEMED', Actor1Name='SWITZERLAND', Actor1CountryCode='CHE', Actor1KnownGroupCode=None, Actor1EthnicCode=None, Actor1Religion1Code=None, Actor1Religion2Code=None, Actor1Type1Code='MED', Actor1Type2Code=None, Actor1Type3Code=None, Actor2Code='CHE', Actor2Name='GENEVA', Actor2CountryCode='CHE', Actor2KnownGroupCode=None, Actor2EthnicCode=None, Actor2Religion1Code=None, Actor2Religion2Code=None, Actor2Type1Code=None, Actor2Type2Code=None, Actor2Type3Code=None, IsRootEvent=1, EventCode='010', EventBaseCode='010', EventRootCode='01', QuadClass=1, GoldsteinScale=0.0, NumMentions=2, NumSources=1, NumArticles=2, AvgTone=-6.320541858673096, Actor1Geo_Type=4, Actor1Geo_FullName='Geneva, Genè, Switzerland', Actor1Geo_CountryCode='SZ', Actor1Geo_ADM1Code='SZ07', Actor1Geo_Lat=46.19559860229492, Actor1Geo_Long=6.1481099128723145, Actor1Geo_FeatureID=-2552151, Actor2Geo_Type=4, Actor2Geo_FullName='Geneva, Genè, Switzerland', Actor2Geo_CountryCode='SZ', Actor2Geo_ADM1Code='SZ07', Actor2Geo_Lat=46.19559860229492, Actor2Geo_Long=6.1481099128723145, Actor2Geo_FeatureID=-2552151, ActionGeo_Type=4, ActionGeo_FullName='Geneva, Genè, Switzerland', ActionGeo_CountryCode='SZ', ActionGeo_ADM1Code='SZ07', ActionGeo_Lat=46.19559860229492, ActionGeo_Long=6.1481099128723145, ActionGeo_FeatureID=-2552151, DATEADDED=20171108, SOURCEURL='http://muslimnews.co.uk/news/middle-east/un-concerned-aid-operations-yemen-blocked-saudi-arabia-killing-civilians/'),\n",
       " Row(GLOBALEVENTID=704940123, SQLDATE=20171108, MonthYear=201711, Year=2017, FractionDate=2017.84375, Actor1Code='CHEMED', Actor1Name='SWITZERLAND', Actor1CountryCode='CHE', Actor1KnownGroupCode=None, Actor1EthnicCode=None, Actor1Religion1Code=None, Actor1Religion2Code=None, Actor1Type1Code='MED', Actor1Type2Code=None, Actor1Type3Code=None, Actor2Code='CVL', Actor2Name='CIVILIAN', Actor2CountryCode=None, Actor2KnownGroupCode=None, Actor2EthnicCode=None, Actor2Religion1Code=None, Actor2Religion2Code=None, Actor2Type1Code='CVL', Actor2Type2Code=None, Actor2Type3Code=None, IsRootEvent=1, EventCode='190', EventBaseCode='190', EventRootCode='19', QuadClass=4, GoldsteinScale=-10.0, NumMentions=2, NumSources=2, NumArticles=2, AvgTone=-6.580082416534424, Actor1Geo_Type=4, Actor1Geo_FullName='Geneva, Genè, Switzerland', Actor1Geo_CountryCode='SZ', Actor1Geo_ADM1Code='SZ07', Actor1Geo_Lat=46.19559860229492, Actor1Geo_Long=6.1481099128723145, Actor1Geo_FeatureID=-2552151, Actor2Geo_Type=4, Actor2Geo_FullName='Geneva, Genè, Switzerland', Actor2Geo_CountryCode='SZ', Actor2Geo_ADM1Code='SZ07', Actor2Geo_Lat=46.19559860229492, Actor2Geo_Long=6.1481099128723145, Actor2Geo_FeatureID=-2552151, ActionGeo_Type=4, ActionGeo_FullName='Geneva, Genè, Switzerland', ActionGeo_CountryCode='SZ', ActionGeo_ADM1Code='SZ07', ActionGeo_Lat=46.19559860229492, ActionGeo_Long=6.1481099128723145, ActionGeo_FeatureID=-2552151, DATEADDED=20171108, SOURCEURL='http://muslimnews.co.uk/news/middle-east/un-concerned-aid-operations-yemen-blocked-saudi-arabia-killing-civilians/'),\n",
       " Row(GLOBALEVENTID=704949880, SQLDATE=20171108, MonthYear=201711, Year=2017, FractionDate=2017.84375, Actor1Code='CHE', Actor1Name='SWITZERLAND', Actor1CountryCode='CHE', Actor1KnownGroupCode=None, Actor1EthnicCode=None, Actor1Religion1Code=None, Actor1Religion2Code=None, Actor1Type1Code=None, Actor1Type2Code=None, Actor1Type3Code=None, Actor2Code=None, Actor2Name=None, Actor2CountryCode=None, Actor2KnownGroupCode=None, Actor2EthnicCode=None, Actor2Religion1Code=None, Actor2Religion2Code=None, Actor2Type1Code=None, Actor2Type2Code=None, Actor2Type3Code=None, IsRootEvent=0, EventCode='051', EventBaseCode='051', EventRootCode='05', QuadClass=1, GoldsteinScale=3.4000000953674316, NumMentions=12, NumSources=2, NumArticles=12, AvgTone=-4.419205665588379, Actor1Geo_Type=4, Actor1Geo_FullName='Vaud, Switzerland (general), Switzerland', Actor1Geo_CountryCode='SZ', Actor1Geo_ADM1Code='SZ00', Actor1Geo_Lat=46.477901458740234, Actor1Geo_Long=6.234630107879639, Actor1Geo_FeatureID=-2552902, Actor2Geo_Type=0, Actor2Geo_FullName=None, Actor2Geo_CountryCode=None, Actor2Geo_ADM1Code=None, Actor2Geo_Lat=None, Actor2Geo_Long=None, Actor2Geo_FeatureID=None, ActionGeo_Type=4, ActionGeo_FullName='Vaud, Switzerland (general), Switzerland', ActionGeo_CountryCode='SZ', ActionGeo_ADM1Code='SZ00', ActionGeo_Lat=46.477901458740234, ActionGeo_Long=6.234630107879639, ActionGeo_FeatureID=-2552902, DATEADDED=20171108, SOURCEURL='https://www.swissinfo.ch/eng/up-to-the-courts_is-begging-a-human-right---/43626890')]"
      ]
     },
     "execution_count": 4,
     "metadata": {},
     "output_type": "execute_result"
    }
   ],
   "source": [
    "df\\\n",
    "    .sample(False, .1)\\\n",
    "    .rdd\\\n",
    "    .filter(lambda row: row.Actor1CountryCode == 'CHE')\\\n",
    "    .take(10)"
   ]
  },
  {
   "cell_type": "code",
   "execution_count": null,
   "metadata": {},
   "outputs": [],
   "source": []
  },
  {
   "cell_type": "code",
   "execution_count": null,
   "metadata": {},
   "outputs": [],
   "source": []
  }
 ],
 "metadata": {
  "kernelspec": {
   "display_name": "Python 3",
   "language": "python",
   "name": "python3"
  },
  "language_info": {
   "codemirror_mode": {
    "name": "ipython",
    "version": 3
   },
   "file_extension": ".py",
   "mimetype": "text/x-python",
   "name": "python",
   "nbconvert_exporter": "python",
   "pygments_lexer": "ipython3",
   "version": "3.6.3"
  }
 },
 "nbformat": 4,
 "nbformat_minor": 2
}
