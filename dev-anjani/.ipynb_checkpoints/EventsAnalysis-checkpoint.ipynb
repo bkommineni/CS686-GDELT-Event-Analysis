{
 "cells": [
  {
   "cell_type": "code",
   "execution_count": 1,
   "metadata": {},
   "outputs": [
    {
     "name": "stdout",
     "output_type": "stream",
     "text": [
      "Welcome to\n",
      "      ____              __\n",
      "     / __/__  ___ _____/ /__\n",
      "    _\\ \\/ _ \\/ _ `/ __/  '_/\n",
      "   /__ / .__/\\_,_/_/ /_/\\_\\   version 2.2.0\n",
      "      /_/\n",
      "\n",
      "Using Python version 3.6.3 (default, Nov  8 2017 15:10:56)\n",
      "SparkSession available as 'spark'.\n"
     ]
    }
   ],
   "source": [
    "from pyspark.sql.types import StructType, StructField, FloatType, LongType, StringType, IntegerType\n",
    "from pyspark.shell import spark"
   ]
  },
  {
   "cell_type": "code",
   "execution_count": 2,
   "metadata": {},
   "outputs": [
    {
     "data": {
      "text/plain": [
       "StructType(List(StructField(GLOBALEVENTID,IntegerType,true),StructField(SQLDATE,IntegerType,true),StructField(MonthYear,IntegerType,true),StructField(Year,IntegerType,true),StructField(FractionDate,FloatType,true),StructField(Actor1Code,StringType,true),StructField(Actor1Name,StringType,true),StructField(Actor1CountryCode,StringType,true),StructField(Actor1KnownGroupCode,StringType,true),StructField(Actor1EthnicCode,StringType,true),StructField(Actor1Religion1Code,StringType,true),StructField(Actor1Religion2Code,StringType,true),StructField(Actor1Type1Code,StringType,true),StructField(Actor1Type2Code,StringType,true),StructField(Actor1Type3Code,StringType,true),StructField(Actor2Code,StringType,true),StructField(Actor2Name,StringType,true),StructField(Actor2CountryCode,StringType,true),StructField(Actor2KnownGroupCode,StringType,true),StructField(Actor2EthnicCode,StringType,true),StructField(Actor2Religion1Code,StringType,true),StructField(Actor2Religion2Code,StringType,true),StructField(Actor2Type1Code,StringType,true),StructField(Actor2Type2Code,StringType,true),StructField(Actor2Type3Code,StringType,true),StructField(IsRootEvent,IntegerType,true),StructField(EventCode,StringType,true),StructField(EventBaseCode,StringType,true),StructField(EventRootCode,StringType,true),StructField(QuadClass,IntegerType,true),StructField(GoldsteinScale,FloatType,true),StructField(NumMentions,IntegerType,true),StructField(NumSources,IntegerType,true),StructField(NumArticles,IntegerType,true),StructField(AvgTone,FloatType,true),StructField(Actor1Geo_Type,IntegerType,true),StructField(Actor1Geo_FullName,StringType,true),StructField(Actor1Geo_CountryCode,StringType,true),StructField(Actor1Geo_ADM1Code,StringType,true),StructField(Actor1Geo_Lat,FloatType,true),StructField(Actor1Geo_Long,FloatType,true),StructField(Actor1Geo_FeatureID,StringType,true),StructField(Actor2Geo_Type,IntegerType,true),StructField(Actor2Geo_FullName,StringType,true),StructField(Actor2Geo_CountryCode,StringType,true),StructField(Actor2Geo_ADM1Code,StringType,true),StructField(Actor2Geo_Lat,FloatType,true),StructField(Actor2Geo_Long,FloatType,true),StructField(Actor2Geo_FeatureID,StringType,true),StructField(ActionGeo_Type,IntegerType,true),StructField(ActionGeo_FullName,StringType,true),StructField(ActionGeo_CountryCode,StringType,true),StructField(ActionGeo_ADM1Code,StringType,true),StructField(ActionGeo_Lat,FloatType,true),StructField(ActionGeo_Long,FloatType,true),StructField(ActionGeo_FeatureID,StringType,true),StructField(DATEADDED,IntegerType,true),StructField(SOURCEURL,StringType,true)))"
      ]
     },
     "execution_count": 2,
     "metadata": {},
     "output_type": "execute_result"
    }
   ],
   "source": [
    "attrs = []\n",
    "f = open('./GDELT-EVENTS-ATTRIBUTES.txt')\n",
    "\n",
    "for line in f:\n",
    "    tokens = line.split(',')\n",
    "    if tokens[1].strip() == \"INTEGER\":\n",
    "        attrs.append(StructField(tokens[0].strip(), IntegerType(), True))\n",
    "    elif tokens[1].strip() == \"STRING\":\n",
    "        attrs.append(StructField(tokens[0].strip(), StringType(), True))\n",
    "    elif tokens[1].strip() == \"FLOAT\":\n",
    "        attrs.append(StructField(tokens[0].strip(), FloatType(), True))\n",
    "    \n",
    "schema = StructType(attrs)\n",
    "schema"
   ]
  },
  {
   "cell_type": "code",
   "execution_count": 3,
   "metadata": {
    "collapsed": true
   },
   "outputs": [],
   "source": [
    "feats = []\n",
    "feats.append(StructField('Country_Code', StringType(), True))\n",
    "feats.append(StructField('Country_Name', StringType(), True))\n",
    "schema_df_codes = StructType(feats)"
   ]
  },
  {
   "cell_type": "code",
   "execution_count": 4,
   "metadata": {},
   "outputs": [
    {
     "data": {
      "text/plain": [
       "[Row(GLOBALEVENTID=478037761, SQLDATE=20051025, MonthYear=200510, Year=2005, FractionDate=2005.8082275390625, Actor1Code='CVL', Actor1Name='POPULATION', Actor1CountryCode=None, Actor1KnownGroupCode=None, Actor1EthnicCode=None, Actor1Religion1Code=None, Actor1Religion2Code=None, Actor1Type1Code='CVL', Actor1Type2Code=None, Actor1Type3Code=None, Actor2Code=None, Actor2Name=None, Actor2CountryCode=None, Actor2KnownGroupCode=None, Actor2EthnicCode=None, Actor2Religion1Code=None, Actor2Religion2Code=None, Actor2Type1Code=None, Actor2Type2Code=None, Actor2Type3Code=None, IsRootEvent=0, EventCode='110', EventBaseCode='110', EventRootCode='11', QuadClass=3, GoldsteinScale=-2.0, NumMentions=25, NumSources=4, NumArticles=25, AvgTone=-2.1553008556365967, Actor1Geo_Type=4, Actor1Geo_FullName='Tehran, Tehran, Iran', Actor1Geo_CountryCode='IR', Actor1Geo_ADM1Code='IR26', Actor1Geo_Lat=35.75, Actor1Geo_Long=51.514801025390625, Actor1Geo_FeatureID='10074674', Actor2Geo_Type=0, Actor2Geo_FullName=None, Actor2Geo_CountryCode=None, Actor2Geo_ADM1Code=None, Actor2Geo_Lat=None, Actor2Geo_Long=None, Actor2Geo_FeatureID=None, ActionGeo_Type=4, ActionGeo_FullName='Tehran, Tehran, Iran', ActionGeo_CountryCode='IR', ActionGeo_ADM1Code='IR26', ActionGeo_Lat=35.75, ActionGeo_Long=51.514801025390625, ActionGeo_FeatureID='10074674', DATEADDED=20151023, SOURCEURL='https://www.rawstory.com/2015/10/iran-could-be-the-next-country-to-legalize-marijuana-and-opium/'),\n",
       " Row(GLOBALEVENTID=478037762, SQLDATE=20141023, MonthYear=201410, Year=2014, FractionDate=2014.802734375, Actor1Code=None, Actor1Name=None, Actor1CountryCode=None, Actor1KnownGroupCode=None, Actor1EthnicCode=None, Actor1Religion1Code=None, Actor1Religion2Code=None, Actor1Type1Code=None, Actor1Type2Code=None, Actor1Type3Code=None, Actor2Code='CHN', Actor2Name='CHINA', Actor2CountryCode='CHN', Actor2KnownGroupCode=None, Actor2EthnicCode=None, Actor2Religion1Code=None, Actor2Religion2Code=None, Actor2Type1Code=None, Actor2Type2Code=None, Actor2Type3Code=None, IsRootEvent=1, EventCode='042', EventBaseCode='042', EventRootCode='04', QuadClass=1, GoldsteinScale=1.899999976158142, NumMentions=34, NumSources=4, NumArticles=34, AvgTone=1.1923078298568726, Actor1Geo_Type=0, Actor1Geo_FullName=None, Actor1Geo_CountryCode=None, Actor1Geo_ADM1Code=None, Actor1Geo_Lat=None, Actor1Geo_Long=None, Actor1Geo_FeatureID=None, Actor2Geo_Type=1, Actor2Geo_FullName='China', Actor2Geo_CountryCode='CH', Actor2Geo_ADM1Code='CH', Actor2Geo_Lat=35.0, Actor2Geo_Long=105.0, Actor2Geo_FeatureID='CH', ActionGeo_Type=1, ActionGeo_FullName='China', ActionGeo_CountryCode='CH', ActionGeo_ADM1Code='CH', ActionGeo_Lat=35.0, ActionGeo_Long=105.0, ActionGeo_FeatureID='CH', DATEADDED=20151023, SOURCEURL='http://www.washingtontimes.com/news/2015/oct/22/governor-industry-reps-head-to-asia-on-trade-missi/')]"
      ]
     },
     "execution_count": 4,
     "metadata": {},
     "output_type": "execute_result"
    }
   ],
   "source": [
    "df_2015 = spark.read.csv('H:/bigDataProjects/data2015/2015*', sep = '\\t', schema=schema)\n",
    "df_2015.head(2)"
   ]
  },
  {
   "cell_type": "code",
   "execution_count": 5,
   "metadata": {},
   "outputs": [
    {
     "name": "stdout",
     "output_type": "stream",
     "text": [
      "Number of records in 2015\n"
     ]
    },
    {
     "data": {
      "text/plain": [
       "66370819"
      ]
     },
     "execution_count": 5,
     "metadata": {},
     "output_type": "execute_result"
    }
   ],
   "source": [
    "print(\"Number of records in 2015\")\n",
    "df_2015.count()"
   ]
  },
  {
   "cell_type": "code",
   "execution_count": 6,
   "metadata": {},
   "outputs": [
    {
     "data": {
      "text/plain": [
       "[Row(GLOBALEVENTID=597122373, SQLDATE=20151110, MonthYear=201511, Year=2015, FractionDate=2015.8492431640625, Actor1Code=None, Actor1Name=None, Actor1CountryCode=None, Actor1KnownGroupCode=None, Actor1EthnicCode=None, Actor1Religion1Code=None, Actor1Religion2Code=None, Actor1Type1Code=None, Actor1Type2Code=None, Actor1Type3Code=None, Actor2Code='BUS', Actor2Name='BOSS', Actor2CountryCode=None, Actor2KnownGroupCode=None, Actor2EthnicCode=None, Actor2Religion1Code=None, Actor2Religion2Code=None, Actor2Type1Code='BUS', Actor2Type2Code=None, Actor2Type3Code=None, IsRootEvent=1, EventCode='042', EventBaseCode='042', EventRootCode='04', QuadClass=1, GoldsteinScale=1.899999976158142, NumMentions=6, NumSources=1, NumArticles=6, AvgTone=0.8064516186714172, Actor1Geo_Type=0, Actor1Geo_FullName=None, Actor1Geo_CountryCode=None, Actor1Geo_ADM1Code=None, Actor1Geo_Lat=None, Actor1Geo_Long=None, Actor1Geo_FeatureID=None, Actor2Geo_Type=4, Actor2Geo_FullName='Sunshine Coast, Queensland, Australia', Actor2Geo_CountryCode='AS', Actor2Geo_ADM1Code='AS04', Actor2Geo_Lat=-26.5, Actor2Geo_Long=153.0, Actor2Geo_FeatureID='-1602923', ActionGeo_Type=4, ActionGeo_FullName='Sunshine Coast, Queensland, Australia', ActionGeo_CountryCode='AS', ActionGeo_ADM1Code='AS04', ActionGeo_Lat=-26.5, ActionGeo_Long=153.0, ActionGeo_FeatureID='-1602923', DATEADDED=20161109, SOURCEURL='http://www.sunshinecoastdaily.com.au/news/karl-stefanovic-forced-tv-after-marriage-split/3109758/')]"
      ]
     },
     "execution_count": 6,
     "metadata": {},
     "output_type": "execute_result"
    }
   ],
   "source": [
    "df_2016 = spark.read.csv('H:/bigDataProjects/data2016/2016*', sep = '\\t', schema=schema)\n",
    "df_2016.head(1)"
   ]
  },
  {
   "cell_type": "code",
   "execution_count": 7,
   "metadata": {},
   "outputs": [
    {
     "name": "stdout",
     "output_type": "stream",
     "text": [
      "Number of records in 2016\n"
     ]
    },
    {
     "data": {
      "text/plain": [
       "73385698"
      ]
     },
     "execution_count": 7,
     "metadata": {},
     "output_type": "execute_result"
    }
   ],
   "source": [
    "print(\"Number of records in 2016\")\n",
    "df_2016.count()"
   ]
  },
  {
   "cell_type": "code",
   "execution_count": 8,
   "metadata": {},
   "outputs": [
    {
     "name": "stdout",
     "output_type": "stream",
     "text": [
      "Length of Columns =  58\n",
      "Column names = \n"
     ]
    },
    {
     "data": {
      "text/plain": [
       "['GLOBALEVENTID',\n",
       " 'SQLDATE',\n",
       " 'MonthYear',\n",
       " 'Year',\n",
       " 'FractionDate',\n",
       " 'Actor1Code',\n",
       " 'Actor1Name',\n",
       " 'Actor1CountryCode',\n",
       " 'Actor1KnownGroupCode',\n",
       " 'Actor1EthnicCode',\n",
       " 'Actor1Religion1Code',\n",
       " 'Actor1Religion2Code',\n",
       " 'Actor1Type1Code',\n",
       " 'Actor1Type2Code',\n",
       " 'Actor1Type3Code',\n",
       " 'Actor2Code',\n",
       " 'Actor2Name',\n",
       " 'Actor2CountryCode',\n",
       " 'Actor2KnownGroupCode',\n",
       " 'Actor2EthnicCode',\n",
       " 'Actor2Religion1Code',\n",
       " 'Actor2Religion2Code',\n",
       " 'Actor2Type1Code',\n",
       " 'Actor2Type2Code',\n",
       " 'Actor2Type3Code',\n",
       " 'IsRootEvent',\n",
       " 'EventCode',\n",
       " 'EventBaseCode',\n",
       " 'EventRootCode',\n",
       " 'QuadClass',\n",
       " 'GoldsteinScale',\n",
       " 'NumMentions',\n",
       " 'NumSources',\n",
       " 'NumArticles',\n",
       " 'AvgTone',\n",
       " 'Actor1Geo_Type',\n",
       " 'Actor1Geo_FullName',\n",
       " 'Actor1Geo_CountryCode',\n",
       " 'Actor1Geo_ADM1Code',\n",
       " 'Actor1Geo_Lat',\n",
       " 'Actor1Geo_Long',\n",
       " 'Actor1Geo_FeatureID',\n",
       " 'Actor2Geo_Type',\n",
       " 'Actor2Geo_FullName',\n",
       " 'Actor2Geo_CountryCode',\n",
       " 'Actor2Geo_ADM1Code',\n",
       " 'Actor2Geo_Lat',\n",
       " 'Actor2Geo_Long',\n",
       " 'Actor2Geo_FeatureID',\n",
       " 'ActionGeo_Type',\n",
       " 'ActionGeo_FullName',\n",
       " 'ActionGeo_CountryCode',\n",
       " 'ActionGeo_ADM1Code',\n",
       " 'ActionGeo_Lat',\n",
       " 'ActionGeo_Long',\n",
       " 'ActionGeo_FeatureID',\n",
       " 'DATEADDED',\n",
       " 'SOURCEURL']"
      ]
     },
     "execution_count": 8,
     "metadata": {},
     "output_type": "execute_result"
    }
   ],
   "source": [
    "print(\"Length of Columns = \", len(df_2015.columns))\n",
    "print(\"Column names = \")\n",
    "df_2015.columns"
   ]
  },
  {
   "cell_type": "code",
   "execution_count": 13,
   "metadata": {},
   "outputs": [
    {
     "data": {
      "text/plain": [
       "['GLOBALEVENTID',\n",
       " 'SQLDATE',\n",
       " 'MonthYear',\n",
       " 'Year',\n",
       " 'FractionDate',\n",
       " 'Actor1Code',\n",
       " 'Actor1Name',\n",
       " 'Actor1CountryCode',\n",
       " 'Actor1KnownGroupCode',\n",
       " 'Actor1EthnicCode',\n",
       " 'Actor1Religion1Code',\n",
       " 'Actor1Religion2Code',\n",
       " 'Actor1Type1Code',\n",
       " 'Actor1Type2Code',\n",
       " 'Actor1Type3Code',\n",
       " 'Actor2Code',\n",
       " 'Actor2Name',\n",
       " 'Actor2CountryCode',\n",
       " 'Actor2KnownGroupCode',\n",
       " 'Actor2EthnicCode',\n",
       " 'Actor2Religion1Code',\n",
       " 'Actor2Religion2Code',\n",
       " 'Actor2Type1Code',\n",
       " 'Actor2Type2Code',\n",
       " 'Actor2Type3Code',\n",
       " 'IsRootEvent',\n",
       " 'EventCode',\n",
       " 'EventBaseCode',\n",
       " 'EventRootCode',\n",
       " 'QuadClass',\n",
       " 'GoldsteinScale',\n",
       " 'NumMentions',\n",
       " 'NumSources',\n",
       " 'NumArticles',\n",
       " 'AvgTone',\n",
       " 'Actor1Geo_Type',\n",
       " 'Actor1Geo_FullName',\n",
       " 'Actor1Geo_CountryCode',\n",
       " 'Actor1Geo_ADM1Code',\n",
       " 'Actor1Geo_Lat',\n",
       " 'Actor1Geo_Long',\n",
       " 'Actor1Geo_FeatureID',\n",
       " 'Actor2Geo_Type',\n",
       " 'Actor2Geo_FullName',\n",
       " 'Actor2Geo_CountryCode',\n",
       " 'Actor2Geo_ADM1Code',\n",
       " 'Actor2Geo_Lat',\n",
       " 'Actor2Geo_Long',\n",
       " 'Actor2Geo_FeatureID',\n",
       " 'ActionGeo_Type',\n",
       " 'ActionGeo_FullName',\n",
       " 'ActionGeo_CountryCode',\n",
       " 'ActionGeo_ADM1Code',\n",
       " 'ActionGeo_Lat',\n",
       " 'ActionGeo_Long',\n",
       " 'ActionGeo_FeatureID',\n",
       " 'DATEADDED',\n",
       " 'SOURCEURL']"
      ]
     },
     "execution_count": 13,
     "metadata": {},
     "output_type": "execute_result"
    }
   ],
   "source": [
    "df_2016.columns"
   ]
  },
  {
   "cell_type": "markdown",
   "metadata": {},
   "source": [
    "<h3> 1. Top stories in UK for 2015 and 2016 </h3>"
   ]
  },
  {
   "cell_type": "code",
   "execution_count": 9,
   "metadata": {
    "collapsed": true
   },
   "outputs": [],
   "source": [
    "#Top stories in UK in 2015 vs 2016\n",
    "stories_2015_uk = df_2015.where((df_2015.Actor1Geo_CountryCode == 'UK')|\n",
    "                                (df_2015.Actor2Geo_CountryCode == 'UK')).sort(df_2015.NumMentions.desc())"
   ]
  },
  {
   "cell_type": "code",
   "execution_count": 10,
   "metadata": {},
   "outputs": [
    {
     "data": {
      "text/plain": [
       "[Row(NumMentions=7058, SQLDATE=20150507, SOURCEURL='http://www.startribune.com/the-latest-miliband-farage-vote-in-british-election/302875621/', GoldsteinScale=6.0, AvgTone=-0.0549597404897213),\n",
       " Row(NumMentions=6999, SQLDATE=20150507, SOURCEURL='http://www.startribune.com/the-latest-miliband-farage-vote-in-british-election/302875621/', GoldsteinScale=3.0, AvgTone=-0.05205191671848297),\n",
       " Row(NumMentions=6645, SQLDATE=20151105, SOURCEURL='http://www.cachevalleydaily.com/news/world/article_efe020da-d09d-578c-b24e-579ad154d80c.html', GoldsteinScale=-4.0, AvgTone=-4.501286506652832),\n",
       " Row(NumMentions=6216, SQLDATE=20151105, SOURCEURL='http://news.yahoo.com/stay-lane-liverpool-opens-fast-lanes-pedestrians-220604662.html', GoldsteinScale=7.0, AvgTone=-4.344547748565674),\n",
       " Row(NumMentions=5956, SQLDATE=20151014, SOURCEURL='http://english.cri.cn/12394/2015/10/14/2702s899397.htm', GoldsteinScale=7.0, AvgTone=1.3032608032226562)]"
      ]
     },
     "execution_count": 10,
     "metadata": {},
     "output_type": "execute_result"
    }
   ],
   "source": [
    "stories_2015_uk.select(['NumMentions', 'SQLDATE', 'SOURCEURL', 'GoldsteinScale', 'AvgTone']).head(5)"
   ]
  },
  {
   "cell_type": "markdown",
   "metadata": {},
   "source": [
    "\n",
    "| Month Year | NumMentions   | Event | GoldsteinScale| \n",
    "|------|------|------|------|\n",
    "|   7th May  2015| 7058|  British Elections  | 6.0 | \n",
    "|   5th November 2015 | 6216| Liverpool opens fast lane for pedestrians  | 7.0 | \n"
   ]
  },
  {
   "cell_type": "code",
   "execution_count": 16,
   "metadata": {},
   "outputs": [
    {
     "data": {
      "text/plain": [
       "[Row(NumMentions=20570, SQLDATE=20160628, SOURCEURL='http://www.thelawyer.com/hogan-lovells-hires-gowling-wlg-city-corporate-partner/', GoldsteinScale=7.0, AvgTone=-1.5919874906539917),\n",
       " Row(NumMentions=10736, SQLDATE=20160713, SOURCEURL='http://www.adelaidenow.com.au/news/debate-set-for-second-eu-referendum-as-david-cameron-has-his-last-cabinet-meeting-and-theresa-may-checks-out-10-downing-street/news-story/86d1b11e954ea0142dcd906d0d923bf3?nk=c3b0d154c5333ed10fe64e1e75001bca-1468371786', GoldsteinScale=4.0, AvgTone=0.8206927180290222),\n",
       " Row(NumMentions=9010, SQLDATE=20160429, SOURCEURL='http://www.investegate.co.uk/crown-asia-pac-ii--irsh-/rns/annual-report-and-audited-fins-for-31-12-2015/201604290750377786W/', GoldsteinScale=4.0, AvgTone=0.2664335072040558),\n",
       " Row(NumMentions=7939, SQLDATE=20160713, SOURCEURL='http://www.livenewscentral.com/david-cameron-gets-hustled-out-of-downing-street-but-the-cat-stays/', GoldsteinScale=4.0, AvgTone=1.1336030960083008),\n",
       " Row(NumMentions=7828, SQLDATE=20160930, SOURCEURL='http://www.investegate.co.uk/sphere-medical-hldg--sphr-/rns/sphere-medical-achieves-ce-marking-for-proxima-4/201609300700132748L/', GoldsteinScale=4.0, AvgTone=0.2781391143798828)]"
      ]
     },
     "execution_count": 16,
     "metadata": {},
     "output_type": "execute_result"
    }
   ],
   "source": [
    "#Top stories in UK in 2016\n",
    "stories_2016_uk = df_2016.where((df_2016.Actor1Geo_CountryCode == 'UK')|\n",
    "                                (df_2016.Actor2Geo_CountryCode == 'UK')).sort(df_2016.NumMentions.desc())\n",
    "stories_2016_uk.select(['NumMentions', 'SQLDATE', 'SOURCEURL', 'GoldsteinScale', 'AvgTone']).head(5)"
   ]
  },
  {
   "cell_type": "markdown",
   "metadata": {},
   "source": [
    "\n",
    "| Month Year | NumMentions   | Event | GoldsteinScale| \n",
    "|------|------|------|------|\n",
    "|   26th June  2015| 10736|  Hogan-Lovells-hires-gowling-wlg-city-corporate-partner  | 7.0 | \n",
    "|   5th November 2015 | 9010| David Cameroon's last cabinet meeting  | 7.0 | "
   ]
  },
  {
   "cell_type": "markdown",
   "metadata": {},
   "source": [
    "<h3> 2. Happy v/s Sad events analysis for 2015 and 2016 </h3>"
   ]
  },
  {
   "cell_type": "code",
   "execution_count": 17,
   "metadata": {},
   "outputs": [
    {
     "data": {
      "text/plain": [
       "[Row(SOURCEURL='http://www.slideshare.net/kjohn4227/1800-4205735-gmail-numbergmail-support-number-gmail-toll-free-number-47624808', AvgTone=24.87205696105957, MonthYear=201504, GoldsteinScale=3.4000000953674316, NumMentions=1),\n",
       " Row(SOURCEURL='http://www.sandiegoreader.com/news/2015/jan/17/theater-stars-2014/', AvgTone=24.24242401123047, MonthYear=201501, GoldsteinScale=7.0, NumMentions=5),\n",
       " Row(SOURCEURL='http://www.sandiegoreader.com/news/2015/jan/17/theater-stars-2014/', AvgTone=24.24242401123047, MonthYear=201501, GoldsteinScale=3.4000000953674316, NumMentions=10),\n",
       " Row(SOURCEURL='http://www.news-banner.com/article/view/ossian-health-and-rehab-gets-honor', AvgTone=24.210525512695312, MonthYear=201503, GoldsteinScale=3.4000000953674316, NumMentions=2),\n",
       " Row(SOURCEURL='http://www.news-banner.com/article/view/ossian-health-and-rehab-gets-honor', AvgTone=24.210525512695312, MonthYear=201503, GoldsteinScale=3.4000000953674316, NumMentions=8)]"
      ]
     },
     "execution_count": 17,
     "metadata": {},
     "output_type": "execute_result"
    }
   ],
   "source": [
    "# Most positive event can be determined by Higher AvgTone\n",
    "# Similarly, most negative event will have least AvgTone,as per GDELT documentation\n",
    "us_happy_2015 = df_2015.where((df_2015.Actor1Geo_CountryCode == 'US') \n",
    "                              | (df_2015.Actor2Geo_CountryCode == 'US')).sort(df_2015.AvgTone.desc())\n",
    "us_happy_2015.select(['SOURCEURL', 'AvgTone', 'MonthYear', 'GoldsteinScale', 'NumMentions']).head(5)"
   ]
  },
  {
   "cell_type": "markdown",
   "metadata": {},
   "source": [
    "\n",
    "| Month Year | AvgTone   | Event | GoldsteinScale| \n",
    "|------|------|------|------|\n",
    "|   April 2015| 24.87|  gmail-support-number-gmail-toll-free-number-47624808  | 3.4 | \n",
    "|   Jan 2015 | 24.24 | SD Performing Arts League will honor volunteers at a special ceremony  | 7.0 | \n",
    "|   Jan 2015 | 24.24 | ossian-health-and-rehab-gets-honor  | 3.4 | \n"
   ]
  },
  {
   "cell_type": "code",
   "execution_count": 21,
   "metadata": {},
   "outputs": [
    {
     "data": {
      "text/plain": [
       "[Row(SOURCEURL='http://www.timesrecordnews.com/news/local-news/crime/crime-beat/crime-beat-may-20-2015', AvgTone=-35.06493377685547, MonthYear=201505, GoldsteinScale=-5.0, NumMentions=5),\n",
       " Row(SOURCEURL='http://www.timesrecordnews.com/news/local-news/crime/crime-beat/crime-beat-may-20-2015', AvgTone=-35.06493377685547, MonthYear=201505, GoldsteinScale=-5.0, NumMentions=3),\n",
       " Row(SOURCEURL='http://www.shipnc.com/news/police/article_fac1bbea-c1db-11e4-9270-e37f7a9c52a3.html', AvgTone=-33.75, MonthYear=201502, GoldsteinScale=-9.0, NumMentions=4),\n",
       " Row(SOURCEURL='http://www.shipnc.com/news/police/article_4f87d5ea-c111-11e4-a994-0bf4fea761f3.html', AvgTone=-33.75, MonthYear=201502, GoldsteinScale=-9.0, NumMentions=4),\n",
       " Row(SOURCEURL='http://patch.com/georgia/douglasville/douglasville-crime-aggravated-assaults-car-break-ins-more-0', AvgTone=-32.35293960571289, MonthYear=201511, GoldsteinScale=-9.0, NumMentions=2)]"
      ]
     },
     "execution_count": 21,
     "metadata": {},
     "output_type": "execute_result"
    }
   ],
   "source": [
    "#Top 5 Sad events(Most negative avgTone) in the US in 2015\n",
    "us_sad_2015 = df_2015.where((df_2015.Actor1Geo_CountryCode == 'US') \n",
    "                              | (df_2015.Actor2Geo_CountryCode == 'US')).sort(df_2015.AvgTone)\n",
    "us_sad_2015.select(['SOURCEURL', 'AvgTone', 'MonthYear', 'GoldsteinScale', 'NumMentions']).head(5)"
   ]
  },
  {
   "cell_type": "markdown",
   "metadata": {},
   "source": [
    "| Month Year | AvgTone   | Event | GoldsteinScale| \n",
    "|------|------|------|------|\n",
    "|   May 2015| -35.06|  crime-beat-may-20-2015  | -5.0 | \n",
    "|   Feb 2015 | -33.75 | U.S. Marshals arrests rape suspect in Maryland  | -9.0 | \n",
    "|   Jan 2015 | -32.35 | Douglasville Crime: Aggravated Assaults, Car Break-Ins, More  | -9.0 | "
   ]
  },
  {
   "cell_type": "code",
   "execution_count": 19,
   "metadata": {},
   "outputs": [
    {
     "data": {
      "text/plain": [
       "[Row(SOURCEURL='https://en.wikinews.org/wiki/Dial=sage=50=canada=support=number=1~844~313~4859=sage=instant=payroll=helpline=SAGE=50=premium=support=number', AvgTone=29.844289779663086, MonthYear=201603, GoldsteinScale=3.4000000953674316, NumMentions=10),\n",
       " Row(SOURCEURL='https://www.yahoo.com/news/media-receive-brotherly-love-democratic-042741452.html', AvgTone=25.0, MonthYear=201607, GoldsteinScale=2.799999952316284, NumMentions=16),\n",
       " Row(SOURCEURL='https://www.cuinsight.com/wegner-winners-share-leadership-advice.html', AvgTone=24.44444465637207, MonthYear=201603, GoldsteinScale=3.0, NumMentions=10),\n",
       " Row(SOURCEURL='https://www.cuinsight.com/wegner-winners-share-leadership-advice.html', AvgTone=24.44444465637207, MonthYear=201603, GoldsteinScale=7.400000095367432, NumMentions=10),\n",
       " Row(SOURCEURL='https://www.cuinsight.com/wegner-winners-share-leadership-advice.html', AvgTone=24.44444465637207, MonthYear=201603, GoldsteinScale=3.4000000953674316, NumMentions=10)]"
      ]
     },
     "execution_count": 19,
     "metadata": {},
     "output_type": "execute_result"
    }
   ],
   "source": [
    "# Happiest events(Most positive avgTone) in the US in 2016\n",
    "us_happy_2016 = df_2016.where((df_2016.Actor1Geo_CountryCode == 'US') \n",
    "                              | (df_2016.Actor2Geo_CountryCode == 'US')).sort(df_2016.AvgTone.desc())\n",
    "us_happy_2016.select(['SOURCEURL', 'AvgTone', 'MonthYear', 'GoldsteinScale', 'NumMentions']).head(5)"
   ]
  },
  {
   "cell_type": "code",
   "execution_count": 20,
   "metadata": {},
   "outputs": [
    {
     "data": {
      "text/plain": [
       "[Row(SOURCEURL='https://en.wikinews.org/wiki/Dial=sage=50=canada=support=number=1~844~313~4859=sage=instant=payroll=helpline=SAGE=50=premium=support=number', AvgTone=29.844289779663086, SQLDATE=20160315, GoldsteinScale=3.4000000953674316, NumMentions=10),\n",
       " Row(SOURCEURL='https://www.yahoo.com/news/media-receive-brotherly-love-democratic-042741452.html', AvgTone=25.0, SQLDATE=20160724, GoldsteinScale=2.799999952316284, NumMentions=16),\n",
       " Row(SOURCEURL='https://www.cuinsight.com/wegner-winners-share-leadership-advice.html', AvgTone=24.44444465637207, SQLDATE=20160310, GoldsteinScale=3.0, NumMentions=10),\n",
       " Row(SOURCEURL='https://www.cuinsight.com/wegner-winners-share-leadership-advice.html', AvgTone=24.44444465637207, SQLDATE=20160310, GoldsteinScale=7.400000095367432, NumMentions=10),\n",
       " Row(SOURCEURL='https://www.cuinsight.com/wegner-winners-share-leadership-advice.html', AvgTone=24.44444465637207, SQLDATE=20160310, GoldsteinScale=3.4000000953674316, NumMentions=10)]"
      ]
     },
     "execution_count": 20,
     "metadata": {},
     "output_type": "execute_result"
    }
   ],
   "source": [
    "# Saddest events(Most negative avgTone) in the US in 2016\n",
    "us_sad_2016 = df_2016.where((df_2016.Actor1Geo_CountryCode == 'US') \n",
    "                              | (df_2016.Actor2Geo_CountryCode == 'US')).sort(df_2016.AvgTone)\n",
    "us_sad_2016.select(['SOURCEURL', 'AvgTone', 'SQLDATE', 'GoldsteinScale', 'NumMentions']).head(5)"
   ]
  },
  {
   "cell_type": "markdown",
   "metadata": {},
   "source": [
    "<h3> 3. Most discussed events in the world v/s the events that *theoretically* have the most impact</h3>\n",
    "<p>Plot NumMentions v/s time, GoldStein v/s time and color by Event\n",
    "<br><b>GoldsteinScale(numeric)</b> Each CAMEO event code is assigned a numeric score from -10 to +10,\n",
    "capturing the theoretical potential impact that type of event will have on the stability of a\n",
    "country. \n",
    "<br> <b>NumMentions(integer) </b> This is the total number of mentions of this event across all source\n",
    "documents. Multiple references to an event within a single document also contribute to this\n",
    "count. This can be used as a method of assessing the “importance” of an event: the more\n",
    "discussion of that event, the more likely it is to be significant. </p>"
   ]
  },
  {
   "cell_type": "code",
   "execution_count": 22,
   "metadata": {
    "collapsed": true
   },
   "outputs": [],
   "source": [
    "mostpop_2016 = df_2016.sort(df_2016.NumMentions.desc())\n",
    "presult15 = mostpop_2016.select(['SOURCEURL', 'AvgTone', 'MonthYear', 'GoldsteinScale', 'NumMentions']).head(5)"
   ]
  },
  {
   "cell_type": "code",
   "execution_count": 82,
   "metadata": {},
   "outputs": [
    {
     "name": "stdout",
     "output_type": "stream",
     "text": [
      "[Row(SOURCEURL='http://www.kpho.com/story/27779838/witness-shooters-divided-men-and-women-in-attack-on-french-magazine', AvgTone=1.5580917596817017, SQLDATE=20150107, GoldsteinScale=7.0, NumMentions=5220), Row(SOURCEURL='http://www.kpho.com/story/27779838/witness-shooters-divided-men-and-women-in-attack-on-french-magazine', AvgTone=1.5575488805770874, SQLDATE=20150107, GoldsteinScale=7.0, NumMentions=5179), Row(SOURCEURL='http://www.thestarphoenix.com/news/paris+shooting+manhunt+suspects+killed/10712913/story.html', AvgTone=1.509669303894043, SQLDATE=20150108, GoldsteinScale=-10.0, NumMentions=4628), Row(SOURCEURL='http://voiceofvienna.org/?p=35124', AvgTone=2.2406649589538574, SQLDATE=20150111, GoldsteinScale=2.799999952316284, NumMentions=4306), Row(SOURCEURL='http://voiceofvienna.org/?p=35124', AvgTone=2.189690113067627, SQLDATE=20150111, GoldsteinScale=1.899999976158142, NumMentions=3898)]\n"
     ]
    }
   ],
   "source": [
    "print(presult15)"
   ]
  },
  {
   "cell_type": "code",
   "execution_count": 27,
   "metadata": {},
   "outputs": [
    {
     "ename": "NameError",
     "evalue": "name 'mostimpact_2016_gn' is not defined",
     "output_type": "error",
     "traceback": [
      "\u001b[1;31m---------------------------------------------------------------------------\u001b[0m",
      "\u001b[1;31mNameError\u001b[0m                                 Traceback (most recent call last)",
      "\u001b[1;32m<ipython-input-27-62d5c89e57dc>\u001b[0m in \u001b[0;36m<module>\u001b[1;34m()\u001b[0m\n\u001b[0;32m      2\u001b[0m \u001b[0miresult16\u001b[0m \u001b[1;33m=\u001b[0m \u001b[0mmostimpact_2016\u001b[0m\u001b[1;33m.\u001b[0m\u001b[0mselect\u001b[0m\u001b[1;33m(\u001b[0m\u001b[1;33m[\u001b[0m\u001b[1;34m'SOURCEURL'\u001b[0m\u001b[1;33m,\u001b[0m \u001b[1;34m'AvgTone'\u001b[0m\u001b[1;33m,\u001b[0m \u001b[1;34m'MonthYear'\u001b[0m\u001b[1;33m,\u001b[0m \u001b[1;34m'GoldsteinScale'\u001b[0m\u001b[1;33m,\u001b[0m \u001b[1;34m'NumMentions'\u001b[0m\u001b[1;33m]\u001b[0m\u001b[1;33m)\u001b[0m\u001b[1;33m.\u001b[0m\u001b[0mhead\u001b[0m\u001b[1;33m(\u001b[0m\u001b[1;36m2\u001b[0m\u001b[1;33m)\u001b[0m\u001b[1;33m\u001b[0m\u001b[0m\n\u001b[0;32m      3\u001b[0m \u001b[1;31m# mostimpact_2016_gn = df_2016.sort(df_2016.GoldsteinScale)\u001b[0m\u001b[1;33m\u001b[0m\u001b[1;33m\u001b[0m\u001b[0m\n\u001b[1;32m----> 4\u001b[1;33m \u001b[0miresult16gn\u001b[0m \u001b[1;33m=\u001b[0m \u001b[0mmostimpact_2016_gn\u001b[0m\u001b[1;33m.\u001b[0m\u001b[0mselect\u001b[0m\u001b[1;33m(\u001b[0m\u001b[1;33m[\u001b[0m\u001b[1;34m'SOURCEURL'\u001b[0m\u001b[1;33m,\u001b[0m \u001b[1;34m'AvgTone'\u001b[0m\u001b[1;33m,\u001b[0m \u001b[1;34m'MonthYear'\u001b[0m\u001b[1;33m,\u001b[0m \u001b[1;34m'GoldsteinScale'\u001b[0m\u001b[1;33m,\u001b[0m \u001b[1;34m'NumMentions'\u001b[0m\u001b[1;33m]\u001b[0m\u001b[1;33m)\u001b[0m\u001b[1;33m.\u001b[0m\u001b[0mtail\u001b[0m\u001b[1;33m(\u001b[0m\u001b[1;36m2\u001b[0m\u001b[1;33m)\u001b[0m\u001b[1;33m\u001b[0m\u001b[0m\n\u001b[0m",
      "\u001b[1;31mNameError\u001b[0m: name 'mostimpact_2016_gn' is not defined"
     ]
    }
   ],
   "source": [
    "mostimpact_2016 = df_2016.sort(df_2016.GoldsteinScale.desc())\n",
    "iresult16 = mostimpact_2016.select(['SOURCEURL', 'AvgTone', 'MonthYear', 'GoldsteinScale', 'NumMentions']).head(2)\n",
    "# mostimpact_2016_gn = df_2016.sort(df_2016.GoldsteinScale)\n",
    "iresult16gn = mostimpact_2016.select(['SOURCEURL', 'AvgTone', 'MonthYear', 'GoldsteinScale', 'NumMentions']).tail(2)"
   ]
  },
  {
   "cell_type": "code",
   "execution_count": 84,
   "metadata": {},
   "outputs": [
    {
     "name": "stdout",
     "output_type": "stream",
     "text": [
      "[Row(SOURCEURL='http://www.tampabay.com/news/publicsafety/police-chief-holloway-seeks-partnership-with-st-petersburg-community/2215370', AvgTone=1.831501841545105, SQLDATE=20140128, GoldsteinScale=10.0, NumMentions=6), Row(SOURCEURL='http://www.newsmax.com/Politics/Elizabeth-Warren-Democratic-nomination-Hillary-Clinton-challenge/2015/01/28/id/621282/', AvgTone=3.7624056339263916, SQLDATE=20141229, GoldsteinScale=10.0, NumMentions=3), Row(SOURCEURL='http://www.travelweekly.co.uk/Articles/2015/01/28/51985/carnival+praises+agents+quick+reaction+to+med+return.html', AvgTone=4.142011642456055, SQLDATE=20140128, GoldsteinScale=10.0, NumMentions=10), Row(SOURCEURL='http://business.newsfactor.com/story.xhtml?story_id=13000AVHZ34U', AvgTone=3.49075984954834, SQLDATE=20140128, GoldsteinScale=10.0, NumMentions=10), Row(SOURCEURL='http://www.tampabay.com/news/publicsafety/police-chief-holloway-seeks-partnership-with-st-petersburg-community/2215370', AvgTone=1.831501841545105, SQLDATE=20140128, GoldsteinScale=10.0, NumMentions=4)]\n"
     ]
    }
   ],
   "source": [
    "print(iresult15)"
   ]
  },
  {
   "cell_type": "code",
   "execution_count": null,
   "metadata": {
    "collapsed": true
   },
   "outputs": [],
   "source": []
  }
 ],
 "metadata": {
  "kernelspec": {
   "display_name": "Python 3",
   "language": "python",
   "name": "python3"
  }
 },
 "nbformat": 4,
 "nbformat_minor": 2
}
