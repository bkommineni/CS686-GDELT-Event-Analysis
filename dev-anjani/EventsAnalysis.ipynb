{
 "cells": [
  {
   "cell_type": "code",
   "execution_count": 3,
   "metadata": {},
   "outputs": [
    {
     "name": "stdout",
     "output_type": "stream",
     "text": [
      "Welcome to\n",
      "      ____              __\n",
      "     / __/__  ___ _____/ /__\n",
      "    _\\ \\/ _ \\/ _ `/ __/  '_/\n",
      "   /__ / .__/\\_,_/_/ /_/\\_\\   version 2.2.0\n",
      "      /_/\n",
      "\n",
      "Using Python version 3.6.3 (default, Nov  8 2017 15:10:56)\n",
      "SparkSession available as 'spark'.\n"
     ]
    }
   ],
   "source": [
    "from pyspark.sql.types import StructType, StructField, FloatType, LongType, StringType, IntegerType\n",
    "from pyspark.shell import spark"
   ]
  },
  {
   "cell_type": "code",
   "execution_count": 44,
   "metadata": {},
   "outputs": [
    {
     "data": {
      "text/plain": [
       "StructType(List(StructField(GLOBALEVENTID,IntegerType,true),StructField(SQLDATE,IntegerType,true),StructField(MonthYear,IntegerType,true),StructField(Year,IntegerType,true),StructField(FractionDate,FloatType,true),StructField(Actor1Code,StringType,true),StructField(Actor1Name,StringType,true),StructField(Actor1CountryCode,StringType,true),StructField(Actor1KnownGroupCode,StringType,true),StructField(Actor1EthnicCode,StringType,true),StructField(Actor1Religion1Code,StringType,true),StructField(Actor1Religion2Code,StringType,true),StructField(Actor1Type1Code,StringType,true),StructField(Actor1Type2Code,StringType,true),StructField(Actor1Type3Code,StringType,true),StructField(Actor2Code,StringType,true),StructField(Actor2Name,StringType,true),StructField(Actor2CountryCode,StringType,true),StructField(Actor2KnownGroupCode,StringType,true),StructField(Actor2EthnicCode,StringType,true),StructField(Actor2Religion1Code,StringType,true),StructField(Actor2Religion2Code,StringType,true),StructField(Actor2Type1Code,StringType,true),StructField(Actor2Type2Code,StringType,true),StructField(Actor2Type3Code,StringType,true),StructField(IsRootEvent,IntegerType,true),StructField(EventCode,StringType,true),StructField(EventBaseCode,StringType,true),StructField(EventRootCode,StringType,true),StructField(QuadClass,IntegerType,true),StructField(GoldsteinScale,FloatType,true),StructField(NumMentions,IntegerType,true),StructField(NumSources,IntegerType,true),StructField(NumArticles,IntegerType,true),StructField(AvgTone,FloatType,true),StructField(Actor1Geo_Type,IntegerType,true),StructField(Actor1Geo_FullName,StringType,true),StructField(Actor1Geo_CountryCode,StringType,true),StructField(Actor1Geo_ADM1Code,StringType,true),StructField(Actor1Geo_Lat,FloatType,true),StructField(Actor1Geo_Long,FloatType,true),StructField(Actor1Geo_FeatureID,StringType,true),StructField(Actor2Geo_Type,IntegerType,true),StructField(Actor2Geo_FullName,StringType,true),StructField(Actor2Geo_CountryCode,StringType,true),StructField(Actor2Geo_ADM1Code,StringType,true),StructField(Actor2Geo_Lat,FloatType,true),StructField(Actor2Geo_Long,FloatType,true),StructField(Actor2Geo_FeatureID,StringType,true),StructField(ActionGeo_Type,IntegerType,true),StructField(ActionGeo_FullName,StringType,true),StructField(ActionGeo_CountryCode,StringType,true),StructField(ActionGeo_ADM1Code,StringType,true),StructField(ActionGeo_Lat,FloatType,true),StructField(ActionGeo_Long,FloatType,true),StructField(ActionGeo_FeatureID,StringType,true),StructField(DATEADDED,IntegerType,true),StructField(SOURCEURL,StringType,true)))"
      ]
     },
     "execution_count": 44,
     "metadata": {},
     "output_type": "execute_result"
    }
   ],
   "source": [
    "attrs = []\n",
    "f = open('./GDELT-EVENTS-ATTRIBUTES.txt')\n",
    "\n",
    "for line in f:\n",
    "    tokens = line.split(',')\n",
    "    if tokens[1].strip() == \"INTEGER\":\n",
    "        attrs.append(StructField(tokens[0].strip(), IntegerType(), True))\n",
    "    elif tokens[1].strip() == \"STRING\":\n",
    "        attrs.append(StructField(tokens[0].strip(), StringType(), True))\n",
    "    elif tokens[1].strip() == \"FLOAT\":\n",
    "        attrs.append(StructField(tokens[0].strip(), FloatType(), True))\n",
    "    \n",
    "schema = StructType(attrs)\n",
    "schema"
   ]
  },
  {
   "cell_type": "code",
   "execution_count": 5,
   "metadata": {},
   "outputs": [],
   "source": [
    "feats = []\n",
    "feats.append(StructField('Country_Code', StringType(), True))\n",
    "feats.append(StructField('Country_Name', StringType(), True))\n",
    "schema_df_codes = StructType(feats)"
   ]
  },
  {
   "cell_type": "code",
   "execution_count": 21,
   "metadata": {},
   "outputs": [],
   "source": [
    "df_2015 = spark.read.csv('H:/bigDataProjects/data2015/201501*', sep = '\\t', schema=schema)"
   ]
  },
  {
   "cell_type": "code",
   "execution_count": 22,
   "metadata": {},
   "outputs": [
    {
     "data": {
      "text/plain": [
       "[Row(GLOBALEVENTID=333058954, SQLDATE=20050124, MonthYear=200501, Year=2005, FractionDate=2005.0657958984375, Actor1Code=None, Actor1Name=None, Actor1CountryCode=None, Actor1KnownGroupCode=None, Actor1EthnicCode=None, Actor1Religion1Code=None, Actor1Religion2Code=None, Actor1Type1Code=None, Actor1Type2Code=None, Actor1Type3Code=None, Actor2Code='COP', Actor2Name='POLICE', Actor2CountryCode=None, Actor2KnownGroupCode=None, Actor2EthnicCode=None, Actor2Religion1Code=None, Actor2Religion2Code=None, Actor2Type1Code='COP', Actor2Type2Code=None, Actor2Type3Code=None, IsRootEvent=0, EventCode='173', EventBaseCode='173', EventRootCode='17', QuadClass=4, GoldsteinScale=-5.0, NumMentions=10, NumSources=1, NumArticles=10, AvgTone=0.21978022158145905, Actor1Geo_Type=0, Actor1Geo_FullName=None, Actor1Geo_CountryCode=None, Actor1Geo_ADM1Code=None, Actor1Geo_Lat=None, Actor1Geo_Long=None, Actor1Geo_FeatureID=None, Actor2Geo_Type=0, Actor2Geo_FullName=None, Actor2Geo_CountryCode=None, Actor2Geo_ADM1Code=None, Actor2Geo_Lat=None, Actor2Geo_Long=None, Actor2Geo_FeatureID=None, ActionGeo_Type=0, ActionGeo_FullName=None, ActionGeo_CountryCode=None, ActionGeo_ADM1Code=None, ActionGeo_Lat=None, ActionGeo_Long=None, ActionGeo_FeatureID=None, DATEADDED=20150122, SOURCEURL='http://www.myjournalcourier.com/news/home_top-news/151429248/Police-investigate-shootings-home-invasion&c=KqeSfc7iHeQJ_yZ0bcOFV6mLJPaPiUyma4EFsC0YnmY&mkt=en-us'),\n",
       " Row(GLOBALEVENTID=333058955, SQLDATE=20050124, MonthYear=200501, Year=2005, FractionDate=2005.0657958984375, Actor1Code=None, Actor1Name=None, Actor1CountryCode=None, Actor1KnownGroupCode=None, Actor1EthnicCode=None, Actor1Religion1Code=None, Actor1Religion2Code=None, Actor1Type1Code=None, Actor1Type2Code=None, Actor1Type3Code=None, Actor2Code='NGA', Actor2Name='NIGERIA', Actor2CountryCode='NGA', Actor2KnownGroupCode=None, Actor2EthnicCode=None, Actor2Religion1Code=None, Actor2Religion2Code=None, Actor2Type1Code=None, Actor2Type2Code=None, Actor2Type3Code=None, IsRootEvent=0, EventCode='042', EventBaseCode='042', EventRootCode='04', QuadClass=1, GoldsteinScale=1.899999976158142, NumMentions=1, NumSources=1, NumArticles=1, AvgTone=3.819918155670166, Actor1Geo_Type=0, Actor1Geo_FullName=None, Actor1Geo_CountryCode=None, Actor1Geo_ADM1Code=None, Actor1Geo_Lat=None, Actor1Geo_Long=None, Actor1Geo_FeatureID=None, Actor2Geo_Type=1, Actor2Geo_FullName='Nigeria', Actor2Geo_CountryCode='NI', Actor2Geo_ADM1Code='NI', Actor2Geo_Lat=10.0, Actor2Geo_Long=8.0, Actor2Geo_FeatureID='NI', ActionGeo_Type=1, ActionGeo_FullName='Cameroon', ActionGeo_CountryCode='CM', ActionGeo_ADM1Code='CM', ActionGeo_Lat=6.0, ActionGeo_Long=12.0, ActionGeo_FeatureID='CM', DATEADDED=20150122, SOURCEURL='http://seattletimes.com/html/localnews/2025523891_sarahcolumn23xml.html'),\n",
       " Row(GLOBALEVENTID=333058956, SQLDATE=20050124, MonthYear=200501, Year=2005, FractionDate=2005.0657958984375, Actor1Code=None, Actor1Name=None, Actor1CountryCode=None, Actor1KnownGroupCode=None, Actor1EthnicCode=None, Actor1Religion1Code=None, Actor1Religion2Code=None, Actor1Type1Code=None, Actor1Type2Code=None, Actor1Type3Code=None, Actor2Code='NGA', Actor2Name='NIGERIA', Actor2CountryCode='NGA', Actor2KnownGroupCode=None, Actor2EthnicCode=None, Actor2Religion1Code=None, Actor2Religion2Code=None, Actor2Type1Code=None, Actor2Type2Code=None, Actor2Type3Code=None, IsRootEvent=0, EventCode='042', EventBaseCode='042', EventRootCode='04', QuadClass=1, GoldsteinScale=1.899999976158142, NumMentions=9, NumSources=1, NumArticles=9, AvgTone=3.819918155670166, Actor1Geo_Type=0, Actor1Geo_FullName=None, Actor1Geo_CountryCode=None, Actor1Geo_ADM1Code=None, Actor1Geo_Lat=None, Actor1Geo_Long=None, Actor1Geo_FeatureID=None, Actor2Geo_Type=1, Actor2Geo_FullName='Nigeria', Actor2Geo_CountryCode='NI', Actor2Geo_ADM1Code='NI', Actor2Geo_Lat=10.0, Actor2Geo_Long=8.0, Actor2Geo_FeatureID='NI', ActionGeo_Type=1, ActionGeo_FullName='Nigeria', ActionGeo_CountryCode='NI', ActionGeo_ADM1Code='NI', ActionGeo_Lat=10.0, ActionGeo_Long=8.0, ActionGeo_FeatureID='NI', DATEADDED=20150122, SOURCEURL='http://seattletimes.com/html/localnews/2025523891_sarahcolumn23xml.html'),\n",
       " Row(GLOBALEVENTID=333058957, SQLDATE=20050124, MonthYear=200501, Year=2005, FractionDate=2005.0657958984375, Actor1Code=None, Actor1Name=None, Actor1CountryCode=None, Actor1KnownGroupCode=None, Actor1EthnicCode=None, Actor1Religion1Code=None, Actor1Religion2Code=None, Actor1Type1Code=None, Actor1Type2Code=None, Actor1Type3Code=None, Actor2Code='TZA', Actor2Name='TANZANIA', Actor2CountryCode='TZA', Actor2KnownGroupCode=None, Actor2EthnicCode=None, Actor2Religion1Code=None, Actor2Religion2Code=None, Actor2Type1Code=None, Actor2Type2Code=None, Actor2Type3Code=None, IsRootEvent=1, EventCode='062', EventBaseCode='062', EventRootCode='06', QuadClass=2, GoldsteinScale=7.400000095367432, NumMentions=4, NumSources=1, NumArticles=4, AvgTone=4.810126781463623, Actor1Geo_Type=0, Actor1Geo_FullName=None, Actor1Geo_CountryCode=None, Actor1Geo_ADM1Code=None, Actor1Geo_Lat=None, Actor1Geo_Long=None, Actor1Geo_FeatureID=None, Actor2Geo_Type=4, Actor2Geo_FullName='Arusha, Arusha, Tanzania', Actor2Geo_CountryCode='TZ', Actor2Geo_ADM1Code='TZ26', Actor2Geo_Lat=-3.3666698932647705, Actor2Geo_Long=36.68330001831055, Actor2Geo_FeatureID='-2561033', ActionGeo_Type=4, ActionGeo_FullName='Arusha, Arusha, Tanzania', ActionGeo_CountryCode='TZ', ActionGeo_ADM1Code='TZ26', ActionGeo_Lat=-3.3666698932647705, ActionGeo_Long=36.68330001831055, ActionGeo_FeatureID='-2561033', DATEADDED=20150122, SOURCEURL='http://www.odt.co.nz/news/queenstown-lakes/330827/wanaka-charity-helping-tanzania')]"
      ]
     },
     "execution_count": 22,
     "metadata": {},
     "output_type": "execute_result"
    }
   ],
   "source": [
    "df_2015.head(4)"
   ]
  },
  {
   "cell_type": "code",
   "execution_count": 23,
   "metadata": {},
   "outputs": [
    {
     "data": {
      "text/plain": [
       "3412217"
      ]
     },
     "execution_count": 23,
     "metadata": {},
     "output_type": "execute_result"
    }
   ],
   "source": [
    "df_2015.count()"
   ]
  },
  {
   "cell_type": "code",
   "execution_count": 45,
   "metadata": {},
   "outputs": [
    {
     "name": "stdout",
     "output_type": "stream",
     "text": [
      "Length of Columns =  58\n",
      "Column names = \n"
     ]
    },
    {
     "data": {
      "text/plain": [
       "['GLOBALEVENTID',\n",
       " 'SQLDATE',\n",
       " 'MonthYear',\n",
       " 'Year',\n",
       " 'FractionDate',\n",
       " 'Actor1Code',\n",
       " 'Actor1Name',\n",
       " 'Actor1CountryCode',\n",
       " 'Actor1KnownGroupCode',\n",
       " 'Actor1EthnicCode',\n",
       " 'Actor1Religion1Code',\n",
       " 'Actor1Religion2Code',\n",
       " 'Actor1Type1Code',\n",
       " 'Actor1Type2Code',\n",
       " 'Actor1Type3Code',\n",
       " 'Actor2Code',\n",
       " 'Actor2Name',\n",
       " 'Actor2CountryCode',\n",
       " 'Actor2KnownGroupCode',\n",
       " 'Actor2EthnicCode',\n",
       " 'Actor2Religion1Code',\n",
       " 'Actor2Religion2Code',\n",
       " 'Actor2Type1Code',\n",
       " 'Actor2Type2Code',\n",
       " 'Actor2Type3Code',\n",
       " 'IsRootEvent',\n",
       " 'EventCode',\n",
       " 'EventBaseCode',\n",
       " 'EventRootCode',\n",
       " 'QuadClass',\n",
       " 'GoldsteinScale',\n",
       " 'NumMentions',\n",
       " 'NumSources',\n",
       " 'NumArticles',\n",
       " 'AvgTone',\n",
       " 'Actor1Geo_Type',\n",
       " 'Actor1Geo_FullName',\n",
       " 'Actor1Geo_CountryCode',\n",
       " 'Actor1Geo_ADM1Code',\n",
       " 'Actor1Geo_Lat',\n",
       " 'Actor1Geo_Long',\n",
       " 'Actor1Geo_FeatureID',\n",
       " 'Actor2Geo_Type',\n",
       " 'Actor2Geo_FullName',\n",
       " 'Actor2Geo_CountryCode',\n",
       " 'Actor2Geo_ADM1Code',\n",
       " 'Actor2Geo_Lat',\n",
       " 'Actor2Geo_Long',\n",
       " 'Actor2Geo_FeatureID',\n",
       " 'ActionGeo_Type',\n",
       " 'ActionGeo_FullName',\n",
       " 'ActionGeo_CountryCode',\n",
       " 'ActionGeo_ADM1Code',\n",
       " 'ActionGeo_Lat',\n",
       " 'ActionGeo_Long',\n",
       " 'ActionGeo_FeatureID',\n",
       " 'DATEADDED',\n",
       " 'SOURCEURL']"
      ]
     },
     "execution_count": 45,
     "metadata": {},
     "output_type": "execute_result"
    }
   ],
   "source": [
    "print(\"Length of Columns = \", len(df_2015.columns))\n",
    "print(\"Column names = \")\n",
    "df_2015.columns"
   ]
  },
  {
   "cell_type": "markdown",
   "metadata": {},
   "source": [
    "<h3> 1. Top 5 stories in UK for 2015 and 2016 </h3>"
   ]
  },
  {
   "cell_type": "code",
   "execution_count": 66,
   "metadata": {},
   "outputs": [],
   "source": [
    "#Top stories in UK in 2015 vs 2016\n",
    "stories_2015_uk = df_2015.where((df_2015.Actor1Geo_CountryCode == 'UK')|\n",
    "                                (df_2015.Actor2Geo_CountryCode == 'UK')).sort(df_2015.NumMentions.desc())"
   ]
  },
  {
   "cell_type": "code",
   "execution_count": 76,
   "metadata": {},
   "outputs": [
    {
     "data": {
      "text/plain": [
       "[Row(NumMentions=782, SQLDATE=20150119, SOURCEURL='http://www.times-gazette.com/latest%20headlines/2015/01/20/to-counter-terror-europe-s-police-reconsider-their-arms', GoldsteinScale=-7.0),\n",
       " Row(NumMentions=782, SQLDATE=20150119, SOURCEURL='http://www.times-gazette.com/latest%20headlines/2015/01/20/to-counter-terror-europe-s-police-reconsider-their-arms', GoldsteinScale=-7.0),\n",
       " Row(NumMentions=740, SQLDATE=20150110, SOURCEURL='http://apnews.myway.com/article/20150110/eu--france-newspaper-attack-6d892a61b5.html', GoldsteinScale=2.799999952316284),\n",
       " Row(NumMentions=740, SQLDATE=20150110, SOURCEURL='http://apnews.myway.com/article/20150110/eu--france-newspaper-attack-6d892a61b5.html', GoldsteinScale=2.799999952316284),\n",
       " Row(NumMentions=740, SQLDATE=20150110, SOURCEURL='http://apnews.myway.com/article/20150110/eu--france-newspaper-attack-6d892a61b5.html', GoldsteinScale=1.899999976158142)]"
      ]
     },
     "execution_count": 76,
     "metadata": {},
     "output_type": "execute_result"
    }
   ],
   "source": [
    "stories_2015_uk.select(['NumMentions', 'SQLDATE', 'SOURCEURL', 'GoldsteinScale', 'AvgTone']).head(5)"
   ]
  },
  {
   "cell_type": "markdown",
   "metadata": {},
   "source": [
    "\n",
    "| Date | NumMentions   | Event | GoldsteinScale| \n",
    "|------|------|------|------|\n",
    "|   a  | table|  a  | table| \n"
   ]
  },
  {
   "cell_type": "code",
   "execution_count": null,
   "metadata": {
    "collapsed": true
   },
   "outputs": [],
   "source": [
    "# Top stories in UK in 2016\n",
    "# stories_2016_uk = df_2016.where((df_2015.Actor1Geo_CountryCode == 'UK')|\n",
    "#                                 (df_2015.Actor2Geo_CountryCode == 'UK')).sort(df_2016.NumMentions.desc())"
   ]
  },
  {
   "cell_type": "markdown",
   "metadata": {},
   "source": [
    "<h3> 2. Happy v/s Sad events analysis for 2015 and 2016 </h3>"
   ]
  },
  {
   "cell_type": "code",
   "execution_count": 78,
   "metadata": {},
   "outputs": [
    {
     "data": {
      "text/plain": [
       "[Row(SOURCEURL='http://www.sandiegoreader.com/news/2015/jan/17/theater-stars-2014/', AvgTone=24.24242401123047, SQLDATE=20150117, GoldsteinScale=7.0, NumMentions=5),\n",
       " Row(SOURCEURL='http://www.sandiegoreader.com/news/2015/jan/17/theater-stars-2014/', AvgTone=24.24242401123047, SQLDATE=20150117, GoldsteinScale=3.4000000953674316, NumMentions=10),\n",
       " Row(SOURCEURL='https://www.euroweeklynews.com:443/news/world-news/item/125034-2015-oscar-nominations-announced', AvgTone=18.45493507385254, SQLDATE=20150115, GoldsteinScale=-10.0, NumMentions=10),\n",
       " Row(SOURCEURL='http://www.thv11.com/picture-gallery/news/local/hot-springs/2015/01/22/gallery-arkansas-company-receives-prestigious-industry-award/22174685/', AvgTone=17.39130401611328, SQLDATE=20150122, GoldsteinScale=3.4000000953674316, NumMentions=9),\n",
       " Row(SOURCEURL='http://chicagodefender.com/2015/01/12/the-king-center-to-honor-president-clinton-others-in-salute-to-greatness-awards/', AvgTone=17.241378784179688, SQLDATE=20150112, GoldsteinScale=3.4000000953674316, NumMentions=2)]"
      ]
     },
     "execution_count": 78,
     "metadata": {},
     "output_type": "execute_result"
    }
   ],
   "source": [
    "# Most positive event can be determined by Higher AvgTone\n",
    "# Similarly, most negative event will have least AvgTone,as per GDELT documentation\n",
    "us_happy_2015 = df_2015.where((df_2015.Actor1Geo_CountryCode == 'US') \n",
    "                              | (df_2015.Actor2Geo_CountryCode == 'US')).sort(df_2015.AvgTone.desc())\n",
    "us_happy_2015.select(['SOURCEURL', 'AvgTone', 'SQLDATE', 'GoldsteinScale', 'NumMentions']).head(5)"
   ]
  },
  {
   "cell_type": "code",
   "execution_count": 79,
   "metadata": {},
   "outputs": [
    {
     "data": {
      "text/plain": [
       "[Row(SOURCEURL='http://www.sandiegoreader.com/news/2015/jan/17/theater-stars-2014/', AvgTone=24.24242401123047, SQLDATE=20150117, GoldsteinScale=7.0, NumMentions=5),\n",
       " Row(SOURCEURL='http://www.sandiegoreader.com/news/2015/jan/17/theater-stars-2014/', AvgTone=24.24242401123047, SQLDATE=20150117, GoldsteinScale=3.4000000953674316, NumMentions=10),\n",
       " Row(SOURCEURL='https://www.euroweeklynews.com:443/news/world-news/item/125034-2015-oscar-nominations-announced', AvgTone=18.45493507385254, SQLDATE=20150115, GoldsteinScale=-10.0, NumMentions=10),\n",
       " Row(SOURCEURL='http://www.thv11.com/picture-gallery/news/local/hot-springs/2015/01/22/gallery-arkansas-company-receives-prestigious-industry-award/22174685/', AvgTone=17.39130401611328, SQLDATE=20150122, GoldsteinScale=3.4000000953674316, NumMentions=9),\n",
       " Row(SOURCEURL='http://chicagodefender.com/2015/01/12/the-king-center-to-honor-president-clinton-others-in-salute-to-greatness-awards/', AvgTone=17.241378784179688, SQLDATE=20150112, GoldsteinScale=3.4000000953674316, NumMentions=2)]"
      ]
     },
     "execution_count": 79,
     "metadata": {},
     "output_type": "execute_result"
    }
   ],
   "source": [
    "#Top 5 Sad events(Most negative avgTone) in the US in 2015\n",
    "us_sad_2015 = df_2015.where((df_2015.Actor1Geo_CountryCode == 'US') \n",
    "                              | (df_2015.Actor2Geo_CountryCode == 'US')).sort(df_2015.AvgTone.desc())\n",
    "us_sad_2015.select(['SOURCEURL', 'AvgTone', 'SQLDATE', 'GoldsteinScale', 'NumMentions']).head(5)"
   ]
  },
  {
   "cell_type": "code",
   "execution_count": null,
   "metadata": {
    "collapsed": true
   },
   "outputs": [],
   "source": [
    "#Happiest events(Most positive avgTone) in the US in 2016\n",
    "us_happy_2016 = df_2016.where((df_2016.Actor1Geo_CountryCode == 'US') \n",
    "                              | (df_2016.Actor2Geo_CountryCode == 'US')).sort(df_2016.AvgTone.desc())\n",
    "us_happy_2016.select(['SOURCEURL', 'AvgTone', 'SQLDATE', 'GoldsteinScale', 'NumMentions']).head(5)"
   ]
  },
  {
   "cell_type": "code",
   "execution_count": null,
   "metadata": {
    "collapsed": true
   },
   "outputs": [],
   "source": [
    "#Saddest events(Most negative avgTone) in the US in 2016\n",
    "us_sad_2016 = df_2016.where((df_2016.Actor1Geo_CountryCode == 'US') \n",
    "                              | (df_2016.Actor2Geo_CountryCode == 'US')).sort(df_2016.AvgTone.desc())\n",
    "us_sad_2016.select(['SOURCEURL', 'AvgTone', 'SQLDATE', 'GoldsteinScale', 'NumMentions']).head(5)"
   ]
  },
  {
   "cell_type": "markdown",
   "metadata": {},
   "source": [
    "<h3> 3. Most discussed events in the world v/s the events that *theoretically* have the most impact</h3>\n",
    "<p>Plot NumMentions v/s time, GoldStein v/s time and color by Event\n",
    "<br><b>GoldsteinScale(numeric)</b> Each CAMEO event code is assigned a numeric score from -10 to +10,\n",
    "capturing the theoretical potential impact that type of event will have on the stability of a\n",
    "country. \n",
    "<br> <b>NumMentions(integer) </b> This is the total number of mentions of this event across all source\n",
    "documents. Multiple references to an event within a single document also contribute to this\n",
    "count. This can be used as a method of assessing the “importance” of an event: the more\n",
    "discussion of that event, the more likely it is to be significant. </p>"
   ]
  },
  {
   "cell_type": "code",
   "execution_count": 81,
   "metadata": {},
   "outputs": [],
   "source": [
    "mostpop_2015 = df_2015.sort(df_2015.NumMentions.desc())\n",
    "presult15 = mostpop_2015.select(['SOURCEURL', 'AvgTone', 'SQLDATE', 'GoldsteinScale', 'NumMentions']).head(5)"
   ]
  },
  {
   "cell_type": "code",
   "execution_count": 82,
   "metadata": {},
   "outputs": [
    {
     "name": "stdout",
     "output_type": "stream",
     "text": [
      "[Row(SOURCEURL='http://www.kpho.com/story/27779838/witness-shooters-divided-men-and-women-in-attack-on-french-magazine', AvgTone=1.5580917596817017, SQLDATE=20150107, GoldsteinScale=7.0, NumMentions=5220), Row(SOURCEURL='http://www.kpho.com/story/27779838/witness-shooters-divided-men-and-women-in-attack-on-french-magazine', AvgTone=1.5575488805770874, SQLDATE=20150107, GoldsteinScale=7.0, NumMentions=5179), Row(SOURCEURL='http://www.thestarphoenix.com/news/paris+shooting+manhunt+suspects+killed/10712913/story.html', AvgTone=1.509669303894043, SQLDATE=20150108, GoldsteinScale=-10.0, NumMentions=4628), Row(SOURCEURL='http://voiceofvienna.org/?p=35124', AvgTone=2.2406649589538574, SQLDATE=20150111, GoldsteinScale=2.799999952316284, NumMentions=4306), Row(SOURCEURL='http://voiceofvienna.org/?p=35124', AvgTone=2.189690113067627, SQLDATE=20150111, GoldsteinScale=1.899999976158142, NumMentions=3898)]\n"
     ]
    }
   ],
   "source": [
    "print(presult15)"
   ]
  },
  {
   "cell_type": "code",
   "execution_count": 83,
   "metadata": {
    "collapsed": true
   },
   "outputs": [],
   "source": [
    "mostimpact_2015 = df_2015.sort(df_2015.GoldsteinScale.desc())\n",
    "iresult15 = mostimpact_2015.select(['SOURCEURL', 'AvgTone', 'SQLDATE', 'GoldsteinScale', 'NumMentions']).head(5)"
   ]
  },
  {
   "cell_type": "code",
   "execution_count": 84,
   "metadata": {},
   "outputs": [
    {
     "name": "stdout",
     "output_type": "stream",
     "text": [
      "[Row(SOURCEURL='http://www.tampabay.com/news/publicsafety/police-chief-holloway-seeks-partnership-with-st-petersburg-community/2215370', AvgTone=1.831501841545105, SQLDATE=20140128, GoldsteinScale=10.0, NumMentions=6), Row(SOURCEURL='http://www.newsmax.com/Politics/Elizabeth-Warren-Democratic-nomination-Hillary-Clinton-challenge/2015/01/28/id/621282/', AvgTone=3.7624056339263916, SQLDATE=20141229, GoldsteinScale=10.0, NumMentions=3), Row(SOURCEURL='http://www.travelweekly.co.uk/Articles/2015/01/28/51985/carnival+praises+agents+quick+reaction+to+med+return.html', AvgTone=4.142011642456055, SQLDATE=20140128, GoldsteinScale=10.0, NumMentions=10), Row(SOURCEURL='http://business.newsfactor.com/story.xhtml?story_id=13000AVHZ34U', AvgTone=3.49075984954834, SQLDATE=20140128, GoldsteinScale=10.0, NumMentions=10), Row(SOURCEURL='http://www.tampabay.com/news/publicsafety/police-chief-holloway-seeks-partnership-with-st-petersburg-community/2215370', AvgTone=1.831501841545105, SQLDATE=20140128, GoldsteinScale=10.0, NumMentions=4)]\n"
     ]
    }
   ],
   "source": [
    "print(iresult15)"
   ]
  },
  {
   "cell_type": "code",
   "execution_count": null,
   "metadata": {
    "collapsed": true
   },
   "outputs": [],
   "source": []
  }
 ],
 "metadata": {
  "kernelspec": {
   "display_name": "Python 3",
   "language": "python",
   "name": "python3"
  },
  "language_info": {
   "codemirror_mode": {
    "name": "ipython",
    "version": 3
   },
   "file_extension": ".py",
   "mimetype": "text/x-python",
   "name": "python",
   "nbconvert_exporter": "python",
   "pygments_lexer": "ipython3",
   "version": "3.6.3"
  }
 },
 "nbformat": 4,
 "nbformat_minor": 2
}
