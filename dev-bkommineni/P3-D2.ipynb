{
 "cells": [
  {
   "cell_type": "code",
   "execution_count": 45,
   "metadata": {},
   "outputs": [],
   "source": [
    "from pyspark.sql.types import StructType, StructField, FloatType, LongType, StringType, IntegerType\n",
    "from pyspark.shell import spark"
   ]
  },
  {
   "cell_type": "code",
   "execution_count": 46,
   "metadata": {},
   "outputs": [
    {
     "data": {
      "text/plain": [
       "StructType(List(StructField(GLOBALEVENTID,IntegerType,true),StructField(SQLDATE,IntegerType,true),StructField(MonthYear,IntegerType,true),StructField(Year,IntegerType,true),StructField(FractionDate,FloatType,true),StructField(Actor1Code,StringType,true),StructField(Actor1Name,StringType,true),StructField(Actor1CountryCode,StringType,true),StructField(Actor1KnownGroupCode,StringType,true),StructField(Actor1EthnicCode,StringType,true),StructField(Actor1Religion1Code,StringType,true),StructField(Actor1Religion2Code,StringType,true),StructField(Actor1Type1Code,StringType,true),StructField(Actor1Type2Code,StringType,true),StructField(Actor1Type3Code,StringType,true),StructField(Actor2Code,StringType,true),StructField(Actor2Name,StringType,true),StructField(Actor2CountryCode,StringType,true),StructField(Actor2KnownGroupCode,StringType,true),StructField(Actor2EthnicCode,StringType,true),StructField(Actor2Religion1Code,StringType,true),StructField(Actor2Religion2Code,StringType,true),StructField(Actor2Type1Code,StringType,true),StructField(Actor2Type2Code,StringType,true),StructField(Actor2Type3Code,StringType,true),StructField(IsRootEvent,IntegerType,true),StructField(EventCode,StringType,true),StructField(EventBaseCode,StringType,true),StructField(EventRootCode,StringType,true),StructField(QuadClass,IntegerType,true),StructField(GoldsteinScale,FloatType,true),StructField(NumMentions,IntegerType,true),StructField(NumSources,IntegerType,true),StructField(NumArticles,IntegerType,true),StructField(AvgTone,FloatType,true),StructField(Actor1Geo_Type,IntegerType,true),StructField(Actor1Geo_FullName,StringType,true),StructField(Actor1Geo_CountryCode,StringType,true),StructField(Actor1Geo_ADM1Code,StringType,true),StructField(Actor1Geo_Lat,FloatType,true),StructField(Actor1Geo_Long,FloatType,true),StructField(Actor1Geo_FeatureID,StringType,true),StructField(Actor2Geo_Type,IntegerType,true),StructField(Actor2Geo_FullName,StringType,true),StructField(Actor2Geo_CountryCode,StringType,true),StructField(Actor2Geo_ADM1Code,StringType,true),StructField(Actor2Geo_Lat,FloatType,true),StructField(Actor2Geo_Long,FloatType,true),StructField(Actor2Geo_FeatureID,StringType,true),StructField(ActionGeo_Type,IntegerType,true),StructField(ActionGeo_FullName,StringType,true),StructField(ActionGeo_CountryCode,StringType,true),StructField(ActionGeo_ADM1Code,StringType,true),StructField(ActionGeo_Lat,FloatType,true),StructField(ActionGeo_Long,FloatType,true),StructField(ActionGeo_FeatureID,StringType,true),StructField(DATEADDED,IntegerType,true),StructField(SOURCEURL,StringType,true)))"
      ]
     },
     "execution_count": 46,
     "metadata": {},
     "output_type": "execute_result"
    }
   ],
   "source": [
    "attrs = []\n",
    "f = open('./GDELT-EVENTS-ATTRIBUTES.txt')\n",
    "\n",
    "for line in f:\n",
    "    tokens = line.split(',')\n",
    "    if tokens[1].strip() == \"INTEGER\":\n",
    "        attrs.append(StructField(tokens[0].strip(), IntegerType(), True))\n",
    "    elif tokens[1].strip() == \"STRING\":\n",
    "        attrs.append(StructField(tokens[0].strip(), StringType(), True))\n",
    "    elif tokens[1].strip() == \"FLOAT\":\n",
    "        attrs.append(StructField(tokens[0].strip(), FloatType(), True))\n",
    "    \n",
    "schema = StructType(attrs)\n",
    "schema"
   ]
  },
  {
   "cell_type": "code",
   "execution_count": 54,
   "metadata": {},
   "outputs": [],
   "source": [
    "df = spark.read.format('CSV').option('sep', '\\t').schema(schema).load('inputs/gdelt/2016*')"
   ]
  },
  {
   "cell_type": "code",
   "execution_count": 55,
   "metadata": {},
   "outputs": [
    {
     "data": {
      "text/plain": [
       "[Row(GLOBALEVENTID=597122373, SQLDATE=20151110, MonthYear=201511, Year=2015, FractionDate=2015.8492431640625, Actor1Code=None, Actor1Name=None, Actor1CountryCode=None, Actor1KnownGroupCode=None, Actor1EthnicCode=None, Actor1Religion1Code=None, Actor1Religion2Code=None, Actor1Type1Code=None, Actor1Type2Code=None, Actor1Type3Code=None, Actor2Code='BUS', Actor2Name='BOSS', Actor2CountryCode=None, Actor2KnownGroupCode=None, Actor2EthnicCode=None, Actor2Religion1Code=None, Actor2Religion2Code=None, Actor2Type1Code='BUS', Actor2Type2Code=None, Actor2Type3Code=None, IsRootEvent=1, EventCode='042', EventBaseCode='042', EventRootCode='04', QuadClass=1, GoldsteinScale=1.899999976158142, NumMentions=6, NumSources=1, NumArticles=6, AvgTone=0.8064516186714172, Actor1Geo_Type=0, Actor1Geo_FullName=None, Actor1Geo_CountryCode=None, Actor1Geo_ADM1Code=None, Actor1Geo_Lat=None, Actor1Geo_Long=None, Actor1Geo_FeatureID=None, Actor2Geo_Type=4, Actor2Geo_FullName='Sunshine Coast, Queensland, Australia', Actor2Geo_CountryCode='AS', Actor2Geo_ADM1Code='AS04', Actor2Geo_Lat=-26.5, Actor2Geo_Long=153.0, Actor2Geo_FeatureID='-1602923', ActionGeo_Type=4, ActionGeo_FullName='Sunshine Coast, Queensland, Australia', ActionGeo_CountryCode='AS', ActionGeo_ADM1Code='AS04', ActionGeo_Lat=-26.5, ActionGeo_Long=153.0, ActionGeo_FeatureID='-1602923', DATEADDED=20161109, SOURCEURL='http://www.sunshinecoastdaily.com.au/news/karl-stefanovic-forced-tv-after-marriage-split/3109758/')]"
      ]
     },
     "execution_count": 55,
     "metadata": {},
     "output_type": "execute_result"
    }
   ],
   "source": [
    "df.take(1)"
   ]
  },
  {
   "cell_type": "code",
   "execution_count": 56,
   "metadata": {},
   "outputs": [
    {
     "data": {
      "text/plain": [
       "73270827"
      ]
     },
     "execution_count": 56,
     "metadata": {},
     "output_type": "execute_result"
    }
   ],
   "source": [
    "df.count()"
   ]
  },
  {
   "cell_type": "code",
   "execution_count": 57,
   "metadata": {
    "collapsed": true
   },
   "outputs": [],
   "source": [
    "df_2015 = spark.read.format('CSV').option('sep', '\\t').schema(schema).load('inputs/gdelt/2015*')"
   ]
  },
  {
   "cell_type": "code",
   "execution_count": 58,
   "metadata": {},
   "outputs": [
    {
     "data": {
      "text/plain": [
       "[Row(GLOBALEVENTID=478037761, SQLDATE=20051025, MonthYear=200510, Year=2005, FractionDate=2005.8082275390625, Actor1Code='CVL', Actor1Name='POPULATION', Actor1CountryCode=None, Actor1KnownGroupCode=None, Actor1EthnicCode=None, Actor1Religion1Code=None, Actor1Religion2Code=None, Actor1Type1Code='CVL', Actor1Type2Code=None, Actor1Type3Code=None, Actor2Code=None, Actor2Name=None, Actor2CountryCode=None, Actor2KnownGroupCode=None, Actor2EthnicCode=None, Actor2Religion1Code=None, Actor2Religion2Code=None, Actor2Type1Code=None, Actor2Type2Code=None, Actor2Type3Code=None, IsRootEvent=0, EventCode='110', EventBaseCode='110', EventRootCode='11', QuadClass=3, GoldsteinScale=-2.0, NumMentions=25, NumSources=4, NumArticles=25, AvgTone=-2.1553008556365967, Actor1Geo_Type=4, Actor1Geo_FullName='Tehran, Tehran, Iran', Actor1Geo_CountryCode='IR', Actor1Geo_ADM1Code='IR26', Actor1Geo_Lat=35.75, Actor1Geo_Long=51.514801025390625, Actor1Geo_FeatureID='10074674', Actor2Geo_Type=0, Actor2Geo_FullName=None, Actor2Geo_CountryCode=None, Actor2Geo_ADM1Code=None, Actor2Geo_Lat=None, Actor2Geo_Long=None, Actor2Geo_FeatureID=None, ActionGeo_Type=4, ActionGeo_FullName='Tehran, Tehran, Iran', ActionGeo_CountryCode='IR', ActionGeo_ADM1Code='IR26', ActionGeo_Lat=35.75, ActionGeo_Long=51.514801025390625, ActionGeo_FeatureID='10074674', DATEADDED=20151023, SOURCEURL='https://www.rawstory.com/2015/10/iran-could-be-the-next-country-to-legalize-marijuana-and-opium/')]"
      ]
     },
     "execution_count": 58,
     "metadata": {},
     "output_type": "execute_result"
    }
   ],
   "source": [
    "df_2015.take(1)"
   ]
  },
  {
   "cell_type": "code",
   "execution_count": 59,
   "metadata": {},
   "outputs": [
    {
     "data": {
      "text/plain": [
       "66370819"
      ]
     },
     "execution_count": 59,
     "metadata": {},
     "output_type": "execute_result"
    }
   ],
   "source": [
    "df_2015.count()"
   ]
  },
  {
   "cell_type": "code",
   "execution_count": null,
   "metadata": {
    "collapsed": true
   },
   "outputs": [],
   "source": []
  }
 ],
 "metadata": {
  "kernelspec": {
   "display_name": "Python 3",
   "language": "python",
   "name": "python3"
  },
  "language_info": {
   "codemirror_mode": {
    "name": "ipython",
    "version": 3
   },
   "file_extension": ".py",
   "mimetype": "text/x-python",
   "name": "python",
   "nbconvert_exporter": "python",
   "pygments_lexer": "ipython3",
   "version": "3.6.3"
  }
 },
 "nbformat": 4,
 "nbformat_minor": 2
}
