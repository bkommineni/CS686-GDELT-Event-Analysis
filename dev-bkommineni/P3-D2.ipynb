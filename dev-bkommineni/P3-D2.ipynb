{
 "cells": [
  {
   "cell_type": "markdown",
   "metadata": {},
   "source": [
    "# GDELT Event Data Analysis"
   ]
  },
  {
   "cell_type": "code",
   "execution_count": 1,
   "metadata": {},
   "outputs": [
    {
     "name": "stdout",
     "output_type": "stream",
     "text": [
      "Welcome to\n",
      "      ____              __\n",
      "     / __/__  ___ _____/ /__\n",
      "    _\\ \\/ _ \\/ _ `/ __/  '_/\n",
      "   /__ / .__/\\_,_/_/ /_/\\_\\   version 2.2.0\n",
      "      /_/\n",
      "\n",
      "Using Python version 3.6.3 (default, Oct  6 2017 12:04:38)\n",
      "SparkSession available as 'spark'.\n"
     ]
    }
   ],
   "source": [
    "from pyspark.sql.types import StructType, StructField, FloatType, LongType, StringType, IntegerType\n",
    "from pyspark.shell import spark"
   ]
  },
  {
   "cell_type": "code",
   "execution_count": 2,
   "metadata": {},
   "outputs": [
    {
     "data": {
      "text/plain": [
       "StructType(List(StructField(GLOBALEVENTID,IntegerType,true),StructField(SQLDATE,IntegerType,true),StructField(MonthYear,IntegerType,true),StructField(Year,IntegerType,true),StructField(FractionDate,FloatType,true),StructField(Actor1Code,StringType,true),StructField(Actor1Name,StringType,true),StructField(Actor1CountryCode,StringType,true),StructField(Actor1KnownGroupCode,StringType,true),StructField(Actor1EthnicCode,StringType,true),StructField(Actor1Religion1Code,StringType,true),StructField(Actor1Religion2Code,StringType,true),StructField(Actor1Type1Code,StringType,true),StructField(Actor1Type2Code,StringType,true),StructField(Actor1Type3Code,StringType,true),StructField(Actor2Code,StringType,true),StructField(Actor2Name,StringType,true),StructField(Actor2CountryCode,StringType,true),StructField(Actor2KnownGroupCode,StringType,true),StructField(Actor2EthnicCode,StringType,true),StructField(Actor2Religion1Code,StringType,true),StructField(Actor2Religion2Code,StringType,true),StructField(Actor2Type1Code,StringType,true),StructField(Actor2Type2Code,StringType,true),StructField(Actor2Type3Code,StringType,true),StructField(IsRootEvent,IntegerType,true),StructField(EventCode,StringType,true),StructField(EventBaseCode,StringType,true),StructField(EventRootCode,StringType,true),StructField(QuadClass,IntegerType,true),StructField(GoldsteinScale,FloatType,true),StructField(NumMentions,IntegerType,true),StructField(NumSources,IntegerType,true),StructField(NumArticles,IntegerType,true),StructField(AvgTone,FloatType,true),StructField(Actor1Geo_Type,IntegerType,true),StructField(Actor1Geo_FullName,StringType,true),StructField(Actor1Geo_CountryCode,StringType,true),StructField(Actor1Geo_ADM1Code,StringType,true),StructField(Actor1Geo_Lat,FloatType,true),StructField(Actor1Geo_Long,FloatType,true),StructField(Actor1Geo_FeatureID,StringType,true),StructField(Actor2Geo_Type,IntegerType,true),StructField(Actor2Geo_FullName,StringType,true),StructField(Actor2Geo_CountryCode,StringType,true),StructField(Actor2Geo_ADM1Code,StringType,true),StructField(Actor2Geo_Lat,FloatType,true),StructField(Actor2Geo_Long,FloatType,true),StructField(Actor2Geo_FeatureID,StringType,true),StructField(ActionGeo_Type,IntegerType,true),StructField(ActionGeo_FullName,StringType,true),StructField(ActionGeo_CountryCode,StringType,true),StructField(ActionGeo_ADM1Code,StringType,true),StructField(ActionGeo_Lat,FloatType,true),StructField(ActionGeo_Long,FloatType,true),StructField(ActionGeo_FeatureID,StringType,true),StructField(DATEADDED,IntegerType,true),StructField(SOURCEURL,StringType,true)))"
      ]
     },
     "execution_count": 2,
     "metadata": {},
     "output_type": "execute_result"
    }
   ],
   "source": [
    "attrs = []\n",
    "f = open('./GDELT-EVENTS-ATTRIBUTES.txt')\n",
    "\n",
    "for line in f:\n",
    "    tokens = line.split(',')\n",
    "    if tokens[1].strip() == \"INTEGER\":\n",
    "        attrs.append(StructField(tokens[0].strip(), IntegerType(), True))\n",
    "    elif tokens[1].strip() == \"STRING\":\n",
    "        attrs.append(StructField(tokens[0].strip(), StringType(), True))\n",
    "    elif tokens[1].strip() == \"FLOAT\":\n",
    "        attrs.append(StructField(tokens[0].strip(), FloatType(), True))\n",
    "    \n",
    "schema = StructType(attrs)\n",
    "schema"
   ]
  },
  {
   "cell_type": "code",
   "execution_count": 3,
   "metadata": {
    "collapsed": true
   },
   "outputs": [],
   "source": [
    "feats = []\n",
    "feats.append(StructField('Country_Code', StringType(), True))\n",
    "feats.append(StructField('Country_Name', StringType(), True))\n",
    "schema_df_codes = StructType(feats)"
   ]
  },
  {
   "cell_type": "code",
   "execution_count": 4,
   "metadata": {
    "collapsed": true
   },
   "outputs": [],
   "source": [
    "df_country_codes = spark.read.format('CSV').option('sep', ',').schema(schema_df_codes).load('inputs/gdelt/fips-codes.csv')"
   ]
  },
  {
   "cell_type": "code",
   "execution_count": 6,
   "metadata": {},
   "outputs": [],
   "source": [
    "data_aids = [('070', 'Provide Aid'),('071','Provide Economic Aid'),\n",
    "     ('072','Provide Military Aid'),('073','Provide humanitarian aid'),\n",
    "     ('074','Provide military protection or peacekeeping'),\n",
    "     ('075','Grant Asylum')]\n",
    "df_aids = spark.createDataFrame(data_aids,['Event_Code','Type_of_Event'])"
   ]
  },
  {
   "cell_type": "code",
   "execution_count": 7,
   "metadata": {
    "collapsed": true
   },
   "outputs": [],
   "source": [
    "data_deport = [('174','Expel or deport individuals')]\n",
    "df_deport = spark.createDataFrame(data_deport,['Event_Code','Type_of_Event'])"
   ]
  },
  {
   "cell_type": "code",
   "execution_count": 8,
   "metadata": {
    "collapsed": true
   },
   "outputs": [],
   "source": [
    "data_destrn = [('200','Use massive unconventional force'),\n",
    "                ('201','Engage in mass expulsion'),\n",
    "                ('202','Engage in mass killings'),\n",
    "                ('203','Engage in ethnic cleansing'),\n",
    "                ('204','Use weapons of mass destruction')]\n",
    "df_massdestrn = spark.createDataFrame(data_destrn,['Event_Code','Type_of_Event'])"
   ]
  },
  {
   "cell_type": "code",
   "execution_count": 10,
   "metadata": {
    "collapsed": true
   },
   "outputs": [],
   "source": [
    "from pyspark.sql import Column as col\n",
    "from pyspark.sql.functions import udf\n",
    "import pyspark.sql.functions as fun\n",
    "\n",
    "def concat_asc_codes(str1,str2):\n",
    "    list_codes = []\n",
    "    list_codes.append(str1)\n",
    "    list_codes.append(str2)\n",
    "    list_codes.sort()\n",
    "    return list_codes[0]+\"_\"+list_codes[1]\n",
    "\n",
    "def do_aid_analysis(df,event_code,map_names_event):\n",
    "    #Filter events required for analysis\n",
    "    #Group using country codes and event base code\n",
    "    #joining to country code table to get names of country codes\n",
    "    aid_maps_1 = df.select('*').where(df.EventRootCode == event_code).groupBy(df.Actor1Geo_CountryCode,\n",
    "                            df.Actor2Geo_CountryCode,\n",
    "                            df.EventBaseCode).agg(fun.count('*').alias('no_of_events'),\n",
    "                                                  fun.sum('GoldsteinScale').alias('TotalGoldsteinScale'),\n",
    "                                                  fun.sum('NumMentions').alias('TotalNumMentions'),\n",
    "                                                  fun.sum('NumSources').alias('TotalNumSources'),\n",
    "                                                  fun.sum('NumArticles').alias('TotalNumArticles'),\n",
    "                                                  fun.sum('AvgTone').alias('TotalAvgTone')).join(df_country_codes,\n",
    "                            df.Actor1Geo_CountryCode == df_country_codes.Country_Code)\n",
    "    aid_maps_1 = aid_maps_1.select(aid_maps_1.Actor1Geo_CountryCode ,\n",
    "                  aid_maps_1.Country_Name.alias(\"Actor1Geo_Country_Name\"),\n",
    "                  aid_maps_1.Actor2Geo_CountryCode ,\n",
    "                  aid_maps_1.EventBaseCode ,\n",
    "                  aid_maps_1.no_of_events,\n",
    "                  aid_maps_1.TotalGoldsteinScale,\n",
    "                  aid_maps_1.TotalNumMentions,\n",
    "                  aid_maps_1.TotalNumSources,\n",
    "                  aid_maps_1.TotalNumArticles,\n",
    "                  aid_maps_1.TotalAvgTone)\n",
    "    aid_maps_1 = aid_maps_1.join(df_country_codes,aid_maps_1.Actor2Geo_CountryCode == df_country_codes.Country_Code)\n",
    "    aid_maps = aid_maps_1.select(\n",
    "                  aid_maps_1.Actor1Geo_CountryCode ,\n",
    "                  aid_maps_1.Actor1Geo_Country_Name,\n",
    "                  aid_maps_1.Actor2Geo_CountryCode ,\n",
    "                  aid_maps_1.Country_Name.alias(\"Actor2Geo_Country_Name\"),\n",
    "                  aid_maps_1.EventBaseCode ,\n",
    "                  aid_maps_1.no_of_events,\n",
    "                  aid_maps_1.TotalGoldsteinScale,\n",
    "                  aid_maps_1.TotalNumMentions,\n",
    "                  aid_maps_1.TotalNumSources,\n",
    "                  aid_maps_1.TotalNumArticles,\n",
    "                  aid_maps_1.TotalAvgTone)\n",
    "    #Sorted based on number of events\n",
    "    sorted_aid_maps = aid_maps.sort(aid_maps.no_of_events.desc())\n",
    "    #Filtered relations within same country\n",
    "    diff_actr1_actr2 = sorted_aid_maps.filter(sorted_aid_maps.Actor1Geo_CountryCode != sorted_aid_maps.Actor2Geo_CountryCode)\n",
    "    diff_actr1_actr2_copy = diff_actr1_actr2\n",
    "    diff_actr1_actr2_copy = diff_actr1_actr2_copy.select(diff_actr1_actr2_copy.Actor1Geo_CountryCode.alias(\"CountryCodeA1\"),\n",
    "            diff_actr1_actr2_copy.Actor1Geo_Country_Name.alias(\"CountryNameA1\"),\n",
    "            diff_actr1_actr2_copy.Actor2Geo_CountryCode.alias(\"CountryCodeA2\"),\n",
    "            diff_actr1_actr2_copy.Actor2Geo_Country_Name.alias(\"CountryNameA2\"),\n",
    "            diff_actr1_actr2_copy.EventBaseCode.alias(\"Event_Base_Code\"),\n",
    "            diff_actr1_actr2_copy.TotalGoldsteinScale.alias(\"total_goldsteinscale\"),\n",
    "            diff_actr1_actr2_copy.no_of_events.alias(\"total_number_of_events\"),\n",
    "            diff_actr1_actr2_copy.TotalNumMentions.alias(\"total_num_mentions\"),\n",
    "            diff_actr1_actr2_copy.TotalNumSources.alias(\"total_num_sources\"),\n",
    "            diff_actr1_actr2_copy.TotalNumArticles.alias(\"total_num_articles\"),\n",
    "            diff_actr1_actr2_copy.TotalAvgTone.alias(\"total_avg_tone\")\n",
    "                    )\n",
    "    join_df = diff_actr1_actr2_copy.join(diff_actr1_actr2 ,(diff_actr1_actr2_copy.CountryCodeA1==diff_actr1_actr2.Actor2Geo_CountryCode) &\n",
    "                                               (diff_actr1_actr2_copy.CountryCodeA2==diff_actr1_actr2.Actor1Geo_CountryCode),\"outer\")\n",
    "    #Dropping rows with null values\n",
    "    join_df = join_df.na.drop(\"all\",subset=[\"Actor1Geo_CountryCode\",\"Actor2Geo_CountryCode\"])\n",
    "    \n",
    "    #To get strings showing relation btwn two countries\n",
    "    concat_asc_codes_udf = udf(concat_asc_codes, StringType())\n",
    "    join_df = join_df.withColumn('Country_Codes_String', concat_asc_codes_udf(join_df.Actor1Geo_CountryCode, join_df.Actor2Geo_CountryCode))\n",
    "\n",
    "    join_df = join_df.select(\n",
    "            join_df.Actor1Geo_CountryCode,\n",
    "            join_df.Actor1Geo_Country_Name,\n",
    "            join_df.Actor2Geo_CountryCode,\n",
    "            join_df.Actor2Geo_Country_Name,\n",
    "            join_df.EventBaseCode,\n",
    "            join_df.Event_Base_Code,\n",
    "            join_df.no_of_events,\n",
    "            join_df.total_number_of_events,\n",
    "            join_df.Country_Codes_String,\n",
    "            sum(join_df[cl] for cl in [\"total_number_of_events\",\n",
    "                   \"no_of_events\"]).alias(\"sum_events\"),\n",
    "            join_df.total_goldsteinscale,\n",
    "            join_df.total_num_mentions,\n",
    "            join_df.total_num_sources,\n",
    "            join_df.total_num_articles,\n",
    "            join_df.total_avg_tone)\n",
    "    \n",
    "    #Dropping duplicates based on relation btwn two countries string\n",
    "    join_df = join_df.dropDuplicates(['Country_Codes_String']).sort(join_df.sum_events.desc())\n",
    "    \n",
    "    #Mapping event codes with event names\n",
    "    join_df = join_df.join(map_names_event,(join_df.EventBaseCode == map_names_event.Event_Code),'leftouter').select(\n",
    "                                                          join_df.Country_Codes_String,\n",
    "                                                          join_df.EventBaseCode,\n",
    "                                                          join_df.Event_Base_Code,\n",
    "                                                          map_names_event.Type_of_Event.alias('Type1'),\n",
    "                                                          join_df.Actor1Geo_Country_Name,\n",
    "                                                          join_df.Actor2Geo_Country_Name,\n",
    "                                                          join_df.no_of_events,\n",
    "                                                          join_df.total_number_of_events,\n",
    "                                                          join_df.sum_events,\n",
    "                                                          join_df.total_goldsteinscale,\n",
    "                                                          join_df.total_num_mentions,\n",
    "                                                          join_df.total_num_sources,\n",
    "                                                          join_df.total_num_articles,\n",
    "                                                          join_df.total_avg_tone\n",
    "                                                          )\n",
    "    join_df = join_df.join(map_names_event,(join_df.Event_Base_Code == map_names_event.Event_Code),'leftouter').select(\n",
    "                                                          join_df.Country_Codes_String,\n",
    "                                                          join_df.Actor1Geo_Country_Name,\n",
    "                                                          join_df.Actor2Geo_Country_Name,\n",
    "                                                          join_df.EventBaseCode,\n",
    "                                                          join_df.Event_Base_Code,\n",
    "                                                          join_df.Type1,\n",
    "                                                          map_names_event.Type_of_Event.alias('Type2'),\n",
    "                                                          join_df.no_of_events,\n",
    "                                                          join_df.total_number_of_events,\n",
    "                                                          join_df.sum_events,\n",
    "                                                          join_df.total_goldsteinscale,\n",
    "                                                          join_df.total_num_mentions,\n",
    "                                                          join_df.total_num_sources,\n",
    "                                                          join_df.total_num_articles,\n",
    "                                                          join_df.total_avg_tone\n",
    "                                                         )\n",
    "    join_df = join_df.sort(join_df.sum_events.desc())\n",
    "    return join_df"
   ]
  },
  {
   "cell_type": "code",
   "execution_count": 44,
   "metadata": {},
   "outputs": [],
   "source": [
    "def get_state_name(city_state_country,category,country_name):\n",
    "    tokens = city_state_country.split(',')\n",
    "    if country_name == 'US':\n",
    "        if category == 2:\n",
    "            return tokens[0]\n",
    "        elif category == 3:\n",
    "            return tokens[1]\n",
    "    else :\n",
    "        if (category == 4) | (category == 5):\n",
    "            return tokens[1]\n",
    "\n",
    "def do_state_analysis(df,country_name):\n",
    "    df_events_with_state = df.select('*').where(df.ActionGeo_CountryCode == country_name)\n",
    "    df_events_with_state = df_events_with_state.na.drop(\"all\",subset=[\"ActionGeo_FullName\"])\n",
    "    get_state_name_udf = udf(get_state_name, StringType())\n",
    "    df_events_with_state = df_events_with_state.withColumn('Action_State', get_state_name_udf(df_events_with_state.ActionGeo_FullName,\n",
    "                                                                                             df_events_with_state.ActionGeo_Type,\n",
    "                                                                                             df.ActionGeo_CountryCode))\n",
    "    df_state_goldstein_events = df_events_with_state.groupBy(df_events_with_state.Action_State,df_events_with_state.EventRootCode).agg(\n",
    "                                                fun.sum(df_events_with_state.GoldsteinScale).alias(\"Total_GoldsteinScale\"))\n",
    "    df_state_goldstein_events = df_state_goldstein_events.na.drop(\"all\",subset=[\"Total_GoldsteinScale\"])\n",
    "    df_state_goldstein_events = df_state_goldstein_events.sort(df_state_goldstein_events.Total_GoldsteinScale.asc())\n",
    "    return df_state_goldstein_events"
   ]
  },
  {
   "cell_type": "markdown",
   "metadata": {},
   "source": [
    "# 2015"
   ]
  },
  {
   "cell_type": "markdown",
   "metadata": {},
   "source": [
    "# AID Analysis"
   ]
  },
  {
   "cell_type": "code",
   "execution_count": 20,
   "metadata": {
    "collapsed": true
   },
   "outputs": [],
   "source": [
    "df_2015 = spark.read.format('CSV').option('sep', '\\t').schema(schema).load('inputs/gdelt/2015*')"
   ]
  },
  {
   "cell_type": "code",
   "execution_count": 107,
   "metadata": {
    "collapsed": true
   },
   "outputs": [],
   "source": [
    "df_2015_aid_results = do_aid_analysis(df_2015,'07',df_aids)"
   ]
  },
  {
   "cell_type": "code",
   "execution_count": 108,
   "metadata": {
    "collapsed": true
   },
   "outputs": [],
   "source": [
    "df_2015_aid_results.limit(100).write.csv('spark-outputs/2015-AID-ANALYSIS',header='true')"
   ]
  },
  {
   "cell_type": "markdown",
   "metadata": {},
   "source": [
    "# DEPORTATION Analysis "
   ]
  },
  {
   "cell_type": "code",
   "execution_count": 122,
   "metadata": {
    "collapsed": true
   },
   "outputs": [],
   "source": [
    "df_2015_deport_results = do_aid_analysis(df_2015,'17',df_deport)"
   ]
  },
  {
   "cell_type": "code",
   "execution_count": 123,
   "metadata": {
    "collapsed": true
   },
   "outputs": [],
   "source": [
    "df_2015_deport_results = df_2015_deport_results.where(df_2015_deport_results.EventBaseCode == '174')"
   ]
  },
  {
   "cell_type": "code",
   "execution_count": 125,
   "metadata": {
    "collapsed": true
   },
   "outputs": [],
   "source": [
    "df_2015_deport_results.limit(100).write.csv('spark-outputs/2015-DEPORT-ANALYSIS',header='true')"
   ]
  },
  {
   "cell_type": "markdown",
   "metadata": {},
   "source": [
    "# Top Stories of United States"
   ]
  },
  {
   "cell_type": "code",
   "execution_count": 136,
   "metadata": {
    "collapsed": true
   },
   "outputs": [],
   "source": [
    "top_events_2015_us = df_2015.where((df_2015.Actor1Geo_CountryCode == 'US') |\n",
    "                          (df_2015.Actor2Geo_CountryCode == 'US')).sort(df_2015.NumMentions.desc())\n",
    "top_events_2015_us.select('*').limit(50).write.csv('spark-outputs/2015-TOP-STORIES-US',header='true')"
   ]
  },
  {
   "cell_type": "markdown",
   "metadata": {},
   "source": [
    "# Mass Destruction vs Stability of Countries"
   ]
  },
  {
   "cell_type": "code",
   "execution_count": 182,
   "metadata": {
    "collapsed": true
   },
   "outputs": [],
   "source": [
    "mass_destrn_events = df_2015.where(df_2015.EventRootCode == '20').groupBy(df_2015.ActionGeo_CountryCode).agg(\n",
    "                        fun.sum(df_2015.GoldsteinScale).alias(\"Total_GoldsteinScale\"),\n",
    "                        fun.sum(df_2015.AvgTone).alias(\"Total_AvgTone\"),\n",
    "                        fun.sum(df_2015.NumMentions).alias(\"Total_NumMentions\"))\n",
    "mass_destrn_events = mass_destrn_events.sort(mass_destrn_events.Total_GoldsteinScale.asc())"
   ]
  },
  {
   "cell_type": "code",
   "execution_count": 183,
   "metadata": {
    "collapsed": true
   },
   "outputs": [],
   "source": [
    "mass_destrn_events = mass_destrn_events.na.drop(\"all\",subset=[\"ActionGeo_CountryCode\"])"
   ]
  },
  {
   "cell_type": "code",
   "execution_count": 184,
   "metadata": {
    "collapsed": true
   },
   "outputs": [],
   "source": [
    "mass_destrn_events = mass_destrn_events.join(df_country_codes,mass_destrn_events.ActionGeo_CountryCode == df_country_codes.Country_Code)"
   ]
  },
  {
   "cell_type": "code",
   "execution_count": 186,
   "metadata": {
    "collapsed": true
   },
   "outputs": [],
   "source": [
    "mass_destrn_events.limit(50).write.csv('spark-outputs/2015-MASS-DESTRUCTION-VS-STABILITY',header='true')"
   ]
  },
  {
   "cell_type": "markdown",
   "metadata": {},
   "source": [
    "# Pair of Countries involved most in Mass Destruction "
   ]
  },
  {
   "cell_type": "code",
   "execution_count": 244,
   "metadata": {
    "collapsed": true
   },
   "outputs": [],
   "source": [
    "df_2015_massdestrn_results = do_aid_analysis(df_2015,'20',df_massdestrn)"
   ]
  },
  {
   "cell_type": "code",
   "execution_count": 245,
   "metadata": {
    "collapsed": true
   },
   "outputs": [],
   "source": [
    "df_2015_massdestrn_results = df_2015_massdestrn_results.sort(df_2015_massdestrn_results.total_goldsteinscale.asc())"
   ]
  },
  {
   "cell_type": "code",
   "execution_count": 246,
   "metadata": {
    "collapsed": true
   },
   "outputs": [],
   "source": [
    "df_2015_massdestrn_results = df_2015_massdestrn_results.na.drop(\"all\",subset=[\"total_goldsteinscale\"])"
   ]
  },
  {
   "cell_type": "code",
   "execution_count": 247,
   "metadata": {
    "collapsed": true
   },
   "outputs": [],
   "source": [
    "df_2015_massdestrn_results.limit(100).write.csv('spark-outputs/2015-MASS-DESTRN-ANALYSIS',header='true')"
   ]
  },
  {
   "cell_type": "markdown",
   "metadata": {},
   "source": [
    "# Which State is effecting stability of US more?"
   ]
  },
  {
   "cell_type": "code",
   "execution_count": 25,
   "metadata": {},
   "outputs": [],
   "source": [
    "df_2015_state_stability_country_results = do_state_analysis(df_2015,'US')"
   ]
  },
  {
   "cell_type": "code",
   "execution_count": 26,
   "metadata": {
    "collapsed": true
   },
   "outputs": [],
   "source": [
    "df_2015_state_stability_country_results.limit(100).write.csv('spark-outputs/2015-STATE-EFFECT-COUNTRY-STABILITY-ANALYSIS',header='true')"
   ]
  },
  {
   "cell_type": "markdown",
   "metadata": {},
   "source": [
    "# Top Stories of India"
   ]
  },
  {
   "cell_type": "code",
   "execution_count": 31,
   "metadata": {
    "collapsed": true
   },
   "outputs": [],
   "source": [
    "top_events_2015_in = df_2015.where((df_2015.ActionGeo_CountryCode == 'IN')).sort(df_2015.NumMentions.desc())\n",
    "top_events_2015_in.select('*').limit(50).write.csv('spark-outputs/2015-TOP-STORIES-IN',header='true')"
   ]
  },
  {
   "cell_type": "markdown",
   "metadata": {},
   "source": [
    "# Which State is effecting stability of India more?"
   ]
  },
  {
   "cell_type": "code",
   "execution_count": 45,
   "metadata": {
    "collapsed": true
   },
   "outputs": [],
   "source": [
    "df_2015_state_stability_country_results = do_state_analysis(df_2015,'IN')"
   ]
  },
  {
   "cell_type": "code",
   "execution_count": 47,
   "metadata": {},
   "outputs": [],
   "source": [
    "df_2015_state_stability_country_results.limit(100).write.csv('spark-outputs/2015-STATE-EFFECT-COUNTRY-STABILITY-INDIA',header='true')"
   ]
  },
  {
   "cell_type": "markdown",
   "metadata": {},
   "source": [
    "# 2016"
   ]
  },
  {
   "cell_type": "markdown",
   "metadata": {},
   "source": [
    "# AID Analysis"
   ]
  },
  {
   "cell_type": "code",
   "execution_count": 15,
   "metadata": {
    "collapsed": true
   },
   "outputs": [],
   "source": [
    "df_2016 = spark.read.format('CSV').option('sep', '\\t').schema(schema).load('inputs/gdelt/2016*')"
   ]
  },
  {
   "cell_type": "code",
   "execution_count": 132,
   "metadata": {
    "collapsed": true
   },
   "outputs": [],
   "source": [
    "df_2016_aid_results = do_aid_analysis(df_2016,'07',df_aids)"
   ]
  },
  {
   "cell_type": "code",
   "execution_count": 134,
   "metadata": {
    "collapsed": true
   },
   "outputs": [],
   "source": [
    "df_2016_aid_results.limit(100).write.csv('spark-outputs/2016-AID-ANALYSIS',header='true')"
   ]
  },
  {
   "cell_type": "markdown",
   "metadata": {},
   "source": [
    "# DEPORTATION Analysis"
   ]
  },
  {
   "cell_type": "code",
   "execution_count": 126,
   "metadata": {
    "collapsed": true
   },
   "outputs": [],
   "source": [
    "df_2016_deport_results = do_aid_analysis(df_2016,'17',df_deport)"
   ]
  },
  {
   "cell_type": "code",
   "execution_count": 127,
   "metadata": {
    "collapsed": true
   },
   "outputs": [],
   "source": [
    "df_2016_deport_results = df_2016_deport_results.where(df_2016_deport_results.EventBaseCode == '174')"
   ]
  },
  {
   "cell_type": "code",
   "execution_count": 128,
   "metadata": {
    "collapsed": true
   },
   "outputs": [],
   "source": [
    "df_2016_deport_results.limit(100).write.csv('spark-outputs/2016-DEPORT-ANALYSIS',header='true')"
   ]
  },
  {
   "cell_type": "markdown",
   "metadata": {},
   "source": [
    "# Top Stories of United States"
   ]
  },
  {
   "cell_type": "code",
   "execution_count": 137,
   "metadata": {
    "collapsed": true
   },
   "outputs": [],
   "source": [
    "top_events_2016_us = df_2016.where((df_2016.Actor1Geo_CountryCode == 'US') |\n",
    "                          (df_2016.Actor2Geo_CountryCode == 'US')).sort(df_2016.NumMentions.desc())\n",
    "top_events_2016_us.select('*').limit(50).write.csv('spark-outputs/2016-TOP-STORIES-US',header='true')"
   ]
  },
  {
   "cell_type": "markdown",
   "metadata": {},
   "source": [
    "# Mass Destruction vs Stability of Countries"
   ]
  },
  {
   "cell_type": "code",
   "execution_count": 187,
   "metadata": {
    "collapsed": true
   },
   "outputs": [],
   "source": [
    "mass_destrn_events_2016 = df_2016.where(df_2016.EventRootCode == '20').groupBy(df_2016.ActionGeo_CountryCode).agg(\n",
    "                        fun.sum(df_2016.GoldsteinScale).alias(\"Total_GoldsteinScale\"),\n",
    "                        fun.sum(df_2016.AvgTone).alias(\"Total_AvgTone\"),\n",
    "                        fun.sum(df_2016.NumMentions).alias(\"Total_NumMentions\"))\n",
    "mass_destrn_events_2016 = mass_destrn_events_2016.sort(mass_destrn_events_2016.Total_GoldsteinScale.asc())"
   ]
  },
  {
   "cell_type": "code",
   "execution_count": 188,
   "metadata": {
    "collapsed": true
   },
   "outputs": [],
   "source": [
    "mass_destrn_events_2016 = mass_destrn_events_2016.na.drop(\"all\",subset=[\"ActionGeo_CountryCode\"])"
   ]
  },
  {
   "cell_type": "code",
   "execution_count": 189,
   "metadata": {
    "collapsed": true
   },
   "outputs": [],
   "source": [
    "mass_destrn_events_2016 = mass_destrn_events_2016.join(df_country_codes,mass_destrn_events_2016.ActionGeo_CountryCode == df_country_codes.Country_Code)"
   ]
  },
  {
   "cell_type": "code",
   "execution_count": 190,
   "metadata": {
    "collapsed": true
   },
   "outputs": [],
   "source": [
    "mass_destrn_events_2016.limit(50).write.csv('spark-outputs/2016-MASS-DESTRUCTION-VS-STABILITY',header='true')"
   ]
  },
  {
   "cell_type": "markdown",
   "metadata": {},
   "source": [
    "# Pair of Countries involved most in Mass Destruction"
   ]
  },
  {
   "cell_type": "code",
   "execution_count": 249,
   "metadata": {
    "collapsed": true
   },
   "outputs": [],
   "source": [
    "df_2016_massdestrn_results = do_aid_analysis(df_2016,'20',df_massdestrn)"
   ]
  },
  {
   "cell_type": "code",
   "execution_count": 250,
   "metadata": {
    "collapsed": true
   },
   "outputs": [],
   "source": [
    "df_2016_massdestrn_results = df_2016_massdestrn_results.sort(df_2016_massdestrn_results.total_goldsteinscale.asc())"
   ]
  },
  {
   "cell_type": "code",
   "execution_count": 251,
   "metadata": {
    "collapsed": true
   },
   "outputs": [],
   "source": [
    "df_2016_massdestrn_results = df_2016_massdestrn_results.na.drop(\"all\",subset=[\"total_goldsteinscale\"])"
   ]
  },
  {
   "cell_type": "code",
   "execution_count": 252,
   "metadata": {
    "collapsed": true
   },
   "outputs": [],
   "source": [
    "df_2016_massdestrn_results.limit(100).write.csv('spark-outputs/2016-MASS-DESTRN-ANALYSIS',header='true')"
   ]
  },
  {
   "cell_type": "markdown",
   "metadata": {},
   "source": [
    "# Which state is effecting stability of US more?"
   ]
  },
  {
   "cell_type": "code",
   "execution_count": 27,
   "metadata": {
    "collapsed": true
   },
   "outputs": [],
   "source": [
    "df_2016_state_stability_country_results = do_state_analysis(df_2016,'US')"
   ]
  },
  {
   "cell_type": "code",
   "execution_count": 28,
   "metadata": {
    "collapsed": true
   },
   "outputs": [],
   "source": [
    "df_2016_state_stability_country_results.limit(100).write.csv('spark-outputs/2016-STATE-EFFECT-COUNTRY-STABILITY-ANALYSIS',header='true')"
   ]
  },
  {
   "cell_type": "markdown",
   "metadata": {},
   "source": [
    "# Top Stories of India"
   ]
  },
  {
   "cell_type": "code",
   "execution_count": 48,
   "metadata": {
    "collapsed": true
   },
   "outputs": [],
   "source": [
    "top_events_2016_in = df_2016.where((df_2016.ActionGeo_CountryCode == 'IN')).sort(df_2016.NumMentions.desc())\n",
    "top_events_2016_in.select('*').limit(50).write.csv('spark-outputs/2016-TOP-STORIES-IN',header='true')"
   ]
  },
  {
   "cell_type": "markdown",
   "metadata": {},
   "source": [
    "# Which State is effecting stability of India more?"
   ]
  },
  {
   "cell_type": "code",
   "execution_count": 49,
   "metadata": {
    "collapsed": true
   },
   "outputs": [],
   "source": [
    "df_2016_state_stability_country_results_in = do_state_analysis(df_2016,'IN')"
   ]
  },
  {
   "cell_type": "code",
   "execution_count": 50,
   "metadata": {
    "collapsed": true
   },
   "outputs": [],
   "source": [
    "df_2016_state_stability_country_results_in.limit(100).write.csv('spark-outputs/2016-STATE-EFFECT-COUNTRY-STABILITY-INDIA',header='true')"
   ]
  },
  {
   "cell_type": "markdown",
   "metadata": {},
   "source": [
    "# Scrapbook"
   ]
  },
  {
   "cell_type": "code",
   "execution_count": 179,
   "metadata": {},
   "outputs": [
    {
     "data": {
      "text/plain": [
       "[Row(Country_Name='AF', Nato_Country_Code='Afghanistan'),\n",
       " Row(Country_Name='AX', Nato_Country_Code='Akrotiri'),\n",
       " Row(Country_Name='AL', Nato_Country_Code='Albania'),\n",
       " Row(Country_Name='AG', Nato_Country_Code='Algeria'),\n",
       " Row(Country_Name='AQ', Nato_Country_Code='American Samoa'),\n",
       " Row(Country_Name='AN', Nato_Country_Code='Andorra'),\n",
       " Row(Country_Name='AO', Nato_Country_Code='Angola')]"
      ]
     },
     "execution_count": 179,
     "metadata": {},
     "output_type": "execute_result"
    }
   ],
   "source": [
    "df_country_codes.take(7)"
   ]
  },
  {
   "cell_type": "code",
   "execution_count": 55,
   "metadata": {},
   "outputs": [
    {
     "data": {
      "text/plain": [
       "[Row(GLOBALEVENTID=597122373, SQLDATE=20151110, MonthYear=201511, Year=2015, FractionDate=2015.8492431640625, Actor1Code=None, Actor1Name=None, Actor1CountryCode=None, Actor1KnownGroupCode=None, Actor1EthnicCode=None, Actor1Religion1Code=None, Actor1Religion2Code=None, Actor1Type1Code=None, Actor1Type2Code=None, Actor1Type3Code=None, Actor2Code='BUS', Actor2Name='BOSS', Actor2CountryCode=None, Actor2KnownGroupCode=None, Actor2EthnicCode=None, Actor2Religion1Code=None, Actor2Religion2Code=None, Actor2Type1Code='BUS', Actor2Type2Code=None, Actor2Type3Code=None, IsRootEvent=1, EventCode='042', EventBaseCode='042', EventRootCode='04', QuadClass=1, GoldsteinScale=1.899999976158142, NumMentions=6, NumSources=1, NumArticles=6, AvgTone=0.8064516186714172, Actor1Geo_Type=0, Actor1Geo_FullName=None, Actor1Geo_CountryCode=None, Actor1Geo_ADM1Code=None, Actor1Geo_Lat=None, Actor1Geo_Long=None, Actor1Geo_FeatureID=None, Actor2Geo_Type=4, Actor2Geo_FullName='Sunshine Coast, Queensland, Australia', Actor2Geo_CountryCode='AS', Actor2Geo_ADM1Code='AS04', Actor2Geo_Lat=-26.5, Actor2Geo_Long=153.0, Actor2Geo_FeatureID='-1602923', ActionGeo_Type=4, ActionGeo_FullName='Sunshine Coast, Queensland, Australia', ActionGeo_CountryCode='AS', ActionGeo_ADM1Code='AS04', ActionGeo_Lat=-26.5, ActionGeo_Long=153.0, ActionGeo_FeatureID='-1602923', DATEADDED=20161109, SOURCEURL='http://www.sunshinecoastdaily.com.au/news/karl-stefanovic-forced-tv-after-marriage-split/3109758/')]"
      ]
     },
     "execution_count": 55,
     "metadata": {},
     "output_type": "execute_result"
    }
   ],
   "source": [
    "df.take(1)"
   ]
  },
  {
   "cell_type": "code",
   "execution_count": 56,
   "metadata": {},
   "outputs": [
    {
     "data": {
      "text/plain": [
       "73270827"
      ]
     },
     "execution_count": 56,
     "metadata": {},
     "output_type": "execute_result"
    }
   ],
   "source": [
    "df.count()"
   ]
  },
  {
   "cell_type": "code",
   "execution_count": 58,
   "metadata": {},
   "outputs": [
    {
     "data": {
      "text/plain": [
       "[Row(GLOBALEVENTID=478037761, SQLDATE=20051025, MonthYear=200510, Year=2005, FractionDate=2005.8082275390625, Actor1Code='CVL', Actor1Name='POPULATION', Actor1CountryCode=None, Actor1KnownGroupCode=None, Actor1EthnicCode=None, Actor1Religion1Code=None, Actor1Religion2Code=None, Actor1Type1Code='CVL', Actor1Type2Code=None, Actor1Type3Code=None, Actor2Code=None, Actor2Name=None, Actor2CountryCode=None, Actor2KnownGroupCode=None, Actor2EthnicCode=None, Actor2Religion1Code=None, Actor2Religion2Code=None, Actor2Type1Code=None, Actor2Type2Code=None, Actor2Type3Code=None, IsRootEvent=0, EventCode='110', EventBaseCode='110', EventRootCode='11', QuadClass=3, GoldsteinScale=-2.0, NumMentions=25, NumSources=4, NumArticles=25, AvgTone=-2.1553008556365967, Actor1Geo_Type=4, Actor1Geo_FullName='Tehran, Tehran, Iran', Actor1Geo_CountryCode='IR', Actor1Geo_ADM1Code='IR26', Actor1Geo_Lat=35.75, Actor1Geo_Long=51.514801025390625, Actor1Geo_FeatureID='10074674', Actor2Geo_Type=0, Actor2Geo_FullName=None, Actor2Geo_CountryCode=None, Actor2Geo_ADM1Code=None, Actor2Geo_Lat=None, Actor2Geo_Long=None, Actor2Geo_FeatureID=None, ActionGeo_Type=4, ActionGeo_FullName='Tehran, Tehran, Iran', ActionGeo_CountryCode='IR', ActionGeo_ADM1Code='IR26', ActionGeo_Lat=35.75, ActionGeo_Long=51.514801025390625, ActionGeo_FeatureID='10074674', DATEADDED=20151023, SOURCEURL='https://www.rawstory.com/2015/10/iran-could-be-the-next-country-to-legalize-marijuana-and-opium/')]"
      ]
     },
     "execution_count": 58,
     "metadata": {},
     "output_type": "execute_result"
    }
   ],
   "source": [
    "df_2015.take(1)"
   ]
  },
  {
   "cell_type": "code",
   "execution_count": 59,
   "metadata": {},
   "outputs": [
    {
     "data": {
      "text/plain": [
       "66370819"
      ]
     },
     "execution_count": 59,
     "metadata": {},
     "output_type": "execute_result"
    }
   ],
   "source": [
    "df_2015.count()"
   ]
  },
  {
   "cell_type": "code",
   "execution_count": 64,
   "metadata": {},
   "outputs": [
    {
     "data": {
      "text/plain": [
       "['GLOBALEVENTID',\n",
       " 'SQLDATE',\n",
       " 'MonthYear',\n",
       " 'Year',\n",
       " 'FractionDate',\n",
       " 'Actor1Code',\n",
       " 'Actor1Name',\n",
       " 'Actor1CountryCode',\n",
       " 'Actor1KnownGroupCode',\n",
       " 'Actor1EthnicCode',\n",
       " 'Actor1Religion1Code',\n",
       " 'Actor1Religion2Code',\n",
       " 'Actor1Type1Code',\n",
       " 'Actor1Type2Code',\n",
       " 'Actor1Type3Code',\n",
       " 'Actor2Code',\n",
       " 'Actor2Name',\n",
       " 'Actor2CountryCode',\n",
       " 'Actor2KnownGroupCode',\n",
       " 'Actor2EthnicCode',\n",
       " 'Actor2Religion1Code',\n",
       " 'Actor2Religion2Code',\n",
       " 'Actor2Type1Code',\n",
       " 'Actor2Type2Code',\n",
       " 'Actor2Type3Code',\n",
       " 'IsRootEvent',\n",
       " 'EventCode',\n",
       " 'EventBaseCode',\n",
       " 'EventRootCode',\n",
       " 'QuadClass',\n",
       " 'GoldsteinScale',\n",
       " 'NumMentions',\n",
       " 'NumSources',\n",
       " 'NumArticles',\n",
       " 'AvgTone',\n",
       " 'Actor1Geo_Type',\n",
       " 'Actor1Geo_FullName',\n",
       " 'Actor1Geo_CountryCode',\n",
       " 'Actor1Geo_ADM1Code',\n",
       " 'Actor1Geo_Lat',\n",
       " 'Actor1Geo_Long',\n",
       " 'Actor1Geo_FeatureID',\n",
       " 'Actor2Geo_Type',\n",
       " 'Actor2Geo_FullName',\n",
       " 'Actor2Geo_CountryCode',\n",
       " 'Actor2Geo_ADM1Code',\n",
       " 'Actor2Geo_Lat',\n",
       " 'Actor2Geo_Long',\n",
       " 'Actor2Geo_FeatureID',\n",
       " 'ActionGeo_Type',\n",
       " 'ActionGeo_FullName',\n",
       " 'ActionGeo_CountryCode',\n",
       " 'ActionGeo_ADM1Code',\n",
       " 'ActionGeo_Lat',\n",
       " 'ActionGeo_Long',\n",
       " 'ActionGeo_FeatureID',\n",
       " 'DATEADDED',\n",
       " 'SOURCEURL']"
      ]
     },
     "execution_count": 64,
     "metadata": {},
     "output_type": "execute_result"
    }
   ],
   "source": [
    "df_2015.columns"
   ]
  },
  {
   "cell_type": "markdown",
   "metadata": {},
   "source": [
    "# Mass Destruction - Israel Analysis"
   ]
  },
  {
   "cell_type": "code",
   "execution_count": 165,
   "metadata": {},
   "outputs": [
    {
     "data": {
      "text/plain": [
       "[Row(GLOBALEVENTID=482014062, SQLDATE=20151105, MonthYear=201511, Year=2015, FractionDate=2015.8355712890625, Actor1Code='ISR', Actor1Name='ISRAEL', Actor1CountryCode='ISR', Actor1KnownGroupCode=None, Actor1EthnicCode=None, Actor1Religion1Code=None, Actor1Religion2Code=None, Actor1Type1Code=None, Actor1Type2Code=None, Actor1Type3Code=None, Actor2Code=None, Actor2Name=None, Actor2CountryCode=None, Actor2KnownGroupCode=None, Actor2EthnicCode=None, Actor2Religion1Code=None, Actor2Religion2Code=None, Actor2Type1Code=None, Actor2Type2Code=None, Actor2Type3Code=None, IsRootEvent=0, EventCode='203', EventBaseCode='203', EventRootCode='20', QuadClass=4, GoldsteinScale=-10.0, NumMentions=15, NumSources=2, NumArticles=15, AvgTone=-3.2273805141448975, Actor1Geo_Type=4, Actor1Geo_FullName='Jerusalem, Israel (general), Israel', Actor1Geo_CountryCode='IS', Actor1Geo_ADM1Code='IS00', Actor1Geo_Lat=31.766700744628906, Actor1Geo_Long=35.233299255371094, Actor1Geo_FeatureID='-797092', Actor2Geo_Type=0, Actor2Geo_FullName=None, Actor2Geo_CountryCode=None, Actor2Geo_ADM1Code=None, Actor2Geo_Lat=None, Actor2Geo_Long=None, Actor2Geo_FeatureID=None, ActionGeo_Type=4, ActionGeo_FullName='Jerusalem, Israel (general), Israel', ActionGeo_CountryCode='IS', ActionGeo_ADM1Code='IS00', ActionGeo_Lat=31.766700744628906, ActionGeo_Long=35.233299255371094, ActionGeo_FeatureID='-797092', DATEADDED=20151105, SOURCEURL='http://www.stljewishlight.com/news/local/article_3a49552a-831a-11e5-b55d-1f2d63a2ed05.html'),\n",
       " Row(GLOBALEVENTID=482036371, SQLDATE=20151105, MonthYear=201511, Year=2015, FractionDate=2015.8355712890625, Actor1Code='EUR', Actor1Name='EUROPEAN', Actor1CountryCode='EUR', Actor1KnownGroupCode=None, Actor1EthnicCode=None, Actor1Religion1Code=None, Actor1Religion2Code=None, Actor1Type1Code=None, Actor1Type2Code=None, Actor1Type3Code=None, Actor2Code='UAF', Actor2Name='TERRORIST', Actor2CountryCode=None, Actor2KnownGroupCode=None, Actor2EthnicCode=None, Actor2Religion1Code=None, Actor2Religion2Code=None, Actor2Type1Code='UAF', Actor2Type2Code=None, Actor2Type3Code=None, IsRootEvent=0, EventCode='202', EventBaseCode='202', EventRootCode='20', QuadClass=4, GoldsteinScale=-10.0, NumMentions=10, NumSources=1, NumArticles=10, AvgTone=-7.995283126831055, Actor1Geo_Type=4, Actor1Geo_FullName='Gaza, Israel (general), Israel', Actor1Geo_CountryCode='IS', Actor1Geo_ADM1Code='IS00', Actor1Geo_Lat=31.41670036315918, Actor1Geo_Long=34.33330154418945, Actor1Geo_FeatureID='-797156', Actor2Geo_Type=4, Actor2Geo_FullName='Gaza, Israel (general), Israel', Actor2Geo_CountryCode='IS', Actor2Geo_ADM1Code='IS00', Actor2Geo_Lat=31.41670036315918, Actor2Geo_Long=34.33330154418945, Actor2Geo_FeatureID='-797156', ActionGeo_Type=4, ActionGeo_FullName='Gaza, Israel (general), Israel', ActionGeo_CountryCode='IS', ActionGeo_ADM1Code='IS00', ActionGeo_Lat=31.41670036315918, ActionGeo_Long=34.33330154418945, ActionGeo_FeatureID='-797156', DATEADDED=20151105, SOURCEURL='http://www.washingtonsblog.com/2014/07/wants-attention-hamas-rockets.html'),\n",
       " Row(GLOBALEVENTID=482036710, SQLDATE=20151105, MonthYear=201511, Year=2015, FractionDate=2015.8355712890625, Actor1Code='ISR', Actor1Name='ISRAEL', Actor1CountryCode='ISR', Actor1KnownGroupCode=None, Actor1EthnicCode=None, Actor1Religion1Code=None, Actor1Religion2Code=None, Actor1Type1Code=None, Actor1Type2Code=None, Actor1Type3Code=None, Actor2Code='CVL', Actor2Name='CIVILIAN', Actor2CountryCode=None, Actor2KnownGroupCode=None, Actor2EthnicCode=None, Actor2Religion1Code=None, Actor2Religion2Code=None, Actor2Type1Code='CVL', Actor2Type2Code=None, Actor2Type3Code=None, IsRootEvent=0, EventCode='202', EventBaseCode='202', EventRootCode='20', QuadClass=4, GoldsteinScale=-10.0, NumMentions=2, NumSources=1, NumArticles=2, AvgTone=-7.995283126831055, Actor1Geo_Type=4, Actor1Geo_FullName='Gaza, Israel (general), Israel', Actor1Geo_CountryCode='IS', Actor1Geo_ADM1Code='IS00', Actor1Geo_Lat=31.41670036315918, Actor1Geo_Long=34.33330154418945, Actor1Geo_FeatureID='-797156', Actor2Geo_Type=4, Actor2Geo_FullName='Gaza, Israel (general), Israel', Actor2Geo_CountryCode='IS', Actor2Geo_ADM1Code='IS00', Actor2Geo_Lat=31.41670036315918, Actor2Geo_Long=34.33330154418945, Actor2Geo_FeatureID='-797156', ActionGeo_Type=4, ActionGeo_FullName='Gaza, Israel (general), Israel', ActionGeo_CountryCode='IS', ActionGeo_ADM1Code='IS00', ActionGeo_Lat=31.41670036315918, ActionGeo_Long=34.33330154418945, ActionGeo_FeatureID='-797156', DATEADDED=20151105, SOURCEURL='http://www.washingtonsblog.com/2014/07/wants-attention-hamas-rockets.html'),\n",
       " Row(GLOBALEVENTID=482036720, SQLDATE=20151105, MonthYear=201511, Year=2015, FractionDate=2015.8355712890625, Actor1Code='ISR', Actor1Name='ISRAEL', Actor1CountryCode='ISR', Actor1KnownGroupCode=None, Actor1EthnicCode=None, Actor1Religion1Code=None, Actor1Religion2Code=None, Actor1Type1Code=None, Actor1Type2Code=None, Actor1Type3Code=None, Actor2Code='PSE', Actor2Name='GAZA', Actor2CountryCode='PSE', Actor2KnownGroupCode=None, Actor2EthnicCode=None, Actor2Religion1Code=None, Actor2Religion2Code=None, Actor2Type1Code=None, Actor2Type2Code=None, Actor2Type3Code=None, IsRootEvent=0, EventCode='202', EventBaseCode='202', EventRootCode='20', QuadClass=4, GoldsteinScale=-10.0, NumMentions=2, NumSources=1, NumArticles=2, AvgTone=-7.995283126831055, Actor1Geo_Type=4, Actor1Geo_FullName='Gaza, Israel (general), Israel', Actor1Geo_CountryCode='IS', Actor1Geo_ADM1Code='IS00', Actor1Geo_Lat=31.41670036315918, Actor1Geo_Long=34.33330154418945, Actor1Geo_FeatureID='-797156', Actor2Geo_Type=4, Actor2Geo_FullName='Gaza, Israel (general), Israel', Actor2Geo_CountryCode='IS', Actor2Geo_ADM1Code='IS00', Actor2Geo_Lat=31.41670036315918, Actor2Geo_Long=34.33330154418945, Actor2Geo_FeatureID='-797156', ActionGeo_Type=4, ActionGeo_FullName='Gaza, Israel (general), Israel', ActionGeo_CountryCode='IS', ActionGeo_ADM1Code='IS00', ActionGeo_Lat=31.41670036315918, ActionGeo_Long=34.33330154418945, ActionGeo_FeatureID='-797156', DATEADDED=20151105, SOURCEURL='http://www.washingtonsblog.com/2014/07/wants-attention-hamas-rockets.html'),\n",
       " Row(GLOBALEVENTID=482059722, SQLDATE=20151105, MonthYear=201511, Year=2015, FractionDate=2015.8355712890625, Actor1Code='MIL', Actor1Name='MILITARY', Actor1CountryCode=None, Actor1KnownGroupCode=None, Actor1EthnicCode=None, Actor1Religion1Code=None, Actor1Religion2Code=None, Actor1Type1Code='MIL', Actor1Type2Code=None, Actor1Type3Code=None, Actor2Code='ISR', Actor2Name='ISRAEL', Actor2CountryCode='ISR', Actor2KnownGroupCode=None, Actor2EthnicCode=None, Actor2Religion1Code=None, Actor2Religion2Code=None, Actor2Type1Code=None, Actor2Type2Code=None, Actor2Type3Code=None, IsRootEvent=0, EventCode='202', EventBaseCode='202', EventRootCode='20', QuadClass=4, GoldsteinScale=-10.0, NumMentions=4, NumSources=2, NumArticles=4, AvgTone=-4.332284450531006, Actor1Geo_Type=4, Actor1Geo_FullName='Jenin, West Bank (general), West Bank', Actor1Geo_CountryCode='WE', Actor1Geo_ADM1Code='WE00', Actor1Geo_Lat=32.45940017700195, Actor1Geo_Long=35.300899505615234, Actor1Geo_FeatureID='-794674', Actor2Geo_Type=4, Actor2Geo_FullName='Gaza, Israel (general), Israel', Actor2Geo_CountryCode='IS', Actor2Geo_ADM1Code='IS00', Actor2Geo_Lat=31.41670036315918, Actor2Geo_Long=34.33330154418945, Actor2Geo_FeatureID='-797156', ActionGeo_Type=4, ActionGeo_FullName='Gaza, Israel (general), Israel', ActionGeo_CountryCode='IS', ActionGeo_ADM1Code='IS00', ActionGeo_Lat=31.41670036315918, ActionGeo_Long=34.33330154418945, ActionGeo_FeatureID='-797156', DATEADDED=20151105, SOURCEURL='http://www.bignewsnetwork.com/news/238263349/j-k-rowling-accused-of-being-disconnected-from-reality')]"
      ]
     },
     "execution_count": 165,
     "metadata": {},
     "output_type": "execute_result"
    }
   ],
   "source": [
    "mass_destrn_events = df_2015.where((df_2015.EventRootCode == '20') & (df_2015.ActionGeo_CountryCode == 'IS')).select('*')\n",
    "mass_destrn_events = mass_destrn_events.sort(mass_destrn_events.GoldsteinScale.asc())\n",
    "mass_destrn_events.take(5)"
   ]
  },
  {
   "cell_type": "code",
   "execution_count": 68,
   "metadata": {},
   "outputs": [
    {
     "name": "stdout",
     "output_type": "stream",
     "text": [
      "+----------+----------+-----------+----------+----------+--------------------+\n",
      "|Actor1Name|Actor2Name|NumMentions|NumSources|   AvgTone|           SOURCEURL|\n",
      "+----------+----------+-----------+----------+----------+--------------------+\n",
      "|      null|    KERALA|       2730|       248|  -4.55655|http://www.njhera...|\n",
      "|   KOLKATA|  NEPALESE|       2473|       220|-3.4093997|http://www.washin...|\n",
      "| NEW DELHI| NATIONALS|       2316|       499|-3.7399256|http://www.nwitim...|\n",
      "|    KERALA|    KIRKUK|       2316|         2| -4.648082|http://www.arabhe...|\n",
      "|    POLICE|     DELHI|       2265|       201|-11.135494|http://news.yahoo...|\n",
      "+----------+----------+-----------+----------+----------+--------------------+\n",
      "only showing top 5 rows\n",
      "\n"
     ]
    }
   ],
   "source": [
    "top_events_2015_india = df_2015.where((df_2015.Actor1CountryCode == 'IND') |\n",
    "                          (df_2015.Actor2CountryCode == 'IND')).sort(df_2015.NumMentions.desc())\n",
    "top_events_2015_india.select(top_events_2015_india.Actor1Name,\n",
    "                             top_events_2015_india.Actor2Name,\n",
    "                             top_events_2015_india.NumMentions,\n",
    "                             top_events_2015_india.NumSources,\n",
    "                             top_events_2015_india.AvgTone,\n",
    "                             top_events_2015_india.SOURCEURL).show(n=5)"
   ]
  },
  {
   "cell_type": "code",
   "execution_count": 69,
   "metadata": {},
   "outputs": [
    {
     "name": "stdout",
     "output_type": "stream",
     "text": [
      "+--------------------+--------------------+-----------+----------+----------+--------------------+\n",
      "|          Actor1Name|          Actor2Name|NumMentions|NumSources|   AvgTone|           SOURCEURL|\n",
      "+--------------------+--------------------+-----------+----------+----------+--------------------+\n",
      "|      MANMOHAN SINGH|MINIST FOR HOME A...|       4710|         3| -2.630281|http://aninews.in...|\n",
      "|            SRINAGAR|          COMMANDANT|       4652|         1|-1.9250137|http://aninews.in...|\n",
      "|MINIST FOR HOME A...|      MANMOHAN SINGH|       4148|         3| -2.654616|http://aninews.in...|\n",
      "|           NEW DELHI|         HOME MINIST|       3070|         5|-2.1281862|http://aninews.in...|\n",
      "|           NEW DELHI|            CONGRESS|       2896|         1|-1.9349867|http://aninews.in...|\n",
      "+--------------------+--------------------+-----------+----------+----------+--------------------+\n",
      "only showing top 5 rows\n",
      "\n"
     ]
    }
   ],
   "source": [
    "top_events_2016_india = df.where((df.Actor1CountryCode == 'IND') |\n",
    "              (df.Actor2CountryCode == 'IND')).select(*df.columns).sort(df.NumMentions.desc())\n",
    "top_events_2016_india.select(top_events_2016_india.Actor1Name,\n",
    "                             top_events_2016_india.Actor2Name,\n",
    "                             top_events_2016_india.NumMentions,\n",
    "                             top_events_2016_india.NumSources,\n",
    "                             top_events_2016_india.AvgTone,\n",
    "                             top_events_2016_india.SOURCEURL).show(n=5)"
   ]
  },
  {
   "cell_type": "code",
   "execution_count": 75,
   "metadata": {
    "collapsed": true
   },
   "outputs": [],
   "source": [
    "top_events_2015_india.select(top_events_2015_india.Actor1Name,\n",
    "                             top_events_2015_india.Actor2Name,\n",
    "                             top_events_2015_india.NumMentions,\n",
    "                             top_events_2015_india.NumSources,\n",
    "                             top_events_2015_india.AvgTone,\n",
    "                             top_events_2015_india.SOURCEURL).limit(5).write.csv('top_events_2015_india.csv')"
   ]
  },
  {
   "cell_type": "code",
   "execution_count": 76,
   "metadata": {
    "collapsed": true
   },
   "outputs": [],
   "source": [
    "top_events_2016_india.select(top_events_2016_india.Actor1Name,\n",
    "                             top_events_2016_india.Actor2Name,\n",
    "                             top_events_2016_india.NumMentions,\n",
    "                             top_events_2016_india.NumSources,\n",
    "                             top_events_2016_india.AvgTone,\n",
    "                             top_events_2016_india.SOURCEURL).limit(5).write.csv('top_events_2016_india.csv')"
   ]
  },
  {
   "cell_type": "code",
   "execution_count": 78,
   "metadata": {
    "collapsed": true
   },
   "outputs": [],
   "source": [
    "top_events_2015_india.sample(False,0.1).select('*').limit(100).write.csv('top_events_2015_sample.csv')"
   ]
  },
  {
   "cell_type": "code",
   "execution_count": 83,
   "metadata": {
    "collapsed": true
   },
   "outputs": [],
   "source": [
    "df_2015.sample(False,0.05).select('*').where(df_2015.EventRootCode == '07').limit(100).write.csv('2015_AID')"
   ]
  },
  {
   "cell_type": "code",
   "execution_count": 103,
   "metadata": {
    "collapsed": true
   },
   "outputs": [],
   "source": [
    "import pyspark.sql.functions as fun\n",
    "df_2015.sample(False,0.05).select('*').where(df_2015.EventRootCode == '07').groupBy(df_2015.Actor2Geo_CountryCode).agg(fun.count(df_2015.Actor2Geo_CountryCode).alias('no_of_times_aid_received')).join(df_country_codes,\n",
    "                        df_2015.Actor2Geo_CountryCode == df_country_codes.Nato_Country_Code).limit(100).write.csv('2015_AID_RECEIVED_COUNTRIES')"
   ]
  },
  {
   "cell_type": "code",
   "execution_count": 116,
   "metadata": {},
   "outputs": [
    {
     "data": {
      "text/plain": [
       "[Row(GLOBALEVENTID=478039312, SQLDATE=20151023, MonthYear=201510, Year=2015, FractionDate=2015.802734375, Actor1Code='CUB', Actor1Name='CUBA', Actor1CountryCode='CUB', Actor1KnownGroupCode=None, Actor1EthnicCode=None, Actor1Religion1Code=None, Actor1Religion2Code=None, Actor1Type1Code=None, Actor1Type2Code=None, Actor1Type3Code=None, Actor2Code=None, Actor2Name=None, Actor2CountryCode=None, Actor2KnownGroupCode=None, Actor2EthnicCode=None, Actor2Religion1Code=None, Actor2Religion2Code=None, Actor2Type1Code=None, Actor2Type2Code=None, Actor2Type3Code=None, IsRootEvent=1, EventCode='174', EventBaseCode='174', EventRootCode='17', QuadClass=4, GoldsteinScale=-5.0, NumMentions=372, NumSources=58, NumArticles=372, AvgTone=-2.130551815032959, Actor1Geo_Type=1, Actor1Geo_FullName='Cuba', Actor1Geo_CountryCode='CU', Actor1Geo_ADM1Code='CU', Actor1Geo_Lat=21.5, Actor1Geo_Long=-80.0, Actor1Geo_FeatureID='CU', Actor2Geo_Type=0, Actor2Geo_FullName=None, Actor2Geo_CountryCode=None, Actor2Geo_ADM1Code=None, Actor2Geo_Lat=None, Actor2Geo_Long=None, Actor2Geo_FeatureID=None, ActionGeo_Type=1, ActionGeo_FullName='Cuba', ActionGeo_CountryCode='CU', ActionGeo_ADM1Code='CU', ActionGeo_Lat=21.5, ActionGeo_Long=-80.0, ActionGeo_FeatureID='CU', DATEADDED=20151023, SOURCEURL='http://www.fairfieldcitizenonline.com/news/article/Port-Authority-boss-asks-United-to-reconsider-6585221.php'),\n",
       " Row(GLOBALEVENTID=478041233, SQLDATE=20151023, MonthYear=201510, Year=2015, FractionDate=2015.802734375, Actor1Code='MIL', Actor1Name='MILITARY', Actor1CountryCode=None, Actor1KnownGroupCode=None, Actor1EthnicCode=None, Actor1Religion1Code=None, Actor1Religion2Code=None, Actor1Type1Code='MIL', Actor1Type2Code=None, Actor1Type3Code=None, Actor2Code='AFG', Actor2Name='AFGHANISTAN', Actor2CountryCode='AFG', Actor2KnownGroupCode=None, Actor2EthnicCode=None, Actor2Religion1Code=None, Actor2Religion2Code=None, Actor2Type1Code=None, Actor2Type2Code=None, Actor2Type3Code=None, IsRootEvent=0, EventCode='174', EventBaseCode='174', EventRootCode='17', QuadClass=4, GoldsteinScale=-5.0, NumMentions=1, NumSources=1, NumArticles=1, AvgTone=-2.0212767124176025, Actor1Geo_Type=1, Actor1Geo_FullName='Israel', Actor1Geo_CountryCode='IS', Actor1Geo_ADM1Code='IS', Actor1Geo_Lat=31.5, Actor1Geo_Long=34.75, Actor1Geo_FeatureID='IS', Actor2Geo_Type=3, Actor2Geo_FullName='Boston, Massachusetts, United States', Actor2Geo_CountryCode='US', Actor2Geo_ADM1Code='USMA', Actor2Geo_Lat=42.3583984375, Actor2Geo_Long=-71.05979919433594, Actor2Geo_FeatureID='617565', ActionGeo_Type=1, ActionGeo_FullName='Israel', ActionGeo_CountryCode='IS', ActionGeo_ADM1Code='IS', ActionGeo_Lat=31.5, ActionGeo_Long=34.75, ActionGeo_FeatureID='IS', DATEADDED=20151023, SOURCEURL='http://www.timesofisrael.com/barneys-frank-military-talk-propels-a-herculean-crusade/'),\n",
       " Row(GLOBALEVENTID=478041234, SQLDATE=20151023, MonthYear=201510, Year=2015, FractionDate=2015.802734375, Actor1Code='MIL', Actor1Name='MILITARY', Actor1CountryCode=None, Actor1KnownGroupCode=None, Actor1EthnicCode=None, Actor1Religion1Code=None, Actor1Religion2Code=None, Actor1Type1Code='MIL', Actor1Type2Code=None, Actor1Type3Code=None, Actor2Code='AFG', Actor2Name='AFGHANISTAN', Actor2CountryCode='AFG', Actor2KnownGroupCode=None, Actor2EthnicCode=None, Actor2Religion1Code=None, Actor2Religion2Code=None, Actor2Type1Code=None, Actor2Type2Code=None, Actor2Type3Code=None, IsRootEvent=0, EventCode='174', EventBaseCode='174', EventRootCode='17', QuadClass=4, GoldsteinScale=-5.0, NumMentions=1, NumSources=1, NumArticles=1, AvgTone=-2.0212767124176025, Actor1Geo_Type=1, Actor1Geo_FullName='Iraq', Actor1Geo_CountryCode='IZ', Actor1Geo_ADM1Code='IZ', Actor1Geo_Lat=33.0, Actor1Geo_Long=44.0, Actor1Geo_FeatureID='IZ', Actor2Geo_Type=1, Actor2Geo_FullName='Afghanistan', Actor2Geo_CountryCode='AF', Actor2Geo_ADM1Code='AF', Actor2Geo_Lat=33.0, Actor2Geo_Long=65.0, Actor2Geo_FeatureID='AF', ActionGeo_Type=3, ActionGeo_FullName='Boston, Massachusetts, United States', ActionGeo_CountryCode='US', ActionGeo_ADM1Code='USMA', ActionGeo_Lat=42.3583984375, ActionGeo_Long=-71.05979919433594, ActionGeo_FeatureID='617565', DATEADDED=20151023, SOURCEURL='http://www.timesofisrael.com/barneys-frank-military-talk-propels-a-herculean-crusade/'),\n",
       " Row(GLOBALEVENTID=478041235, SQLDATE=20151023, MonthYear=201510, Year=2015, FractionDate=2015.802734375, Actor1Code='MIL', Actor1Name='MILITARY', Actor1CountryCode=None, Actor1KnownGroupCode=None, Actor1EthnicCode=None, Actor1Religion1Code=None, Actor1Religion2Code=None, Actor1Type1Code='MIL', Actor1Type2Code=None, Actor1Type3Code=None, Actor2Code='AFG', Actor2Name='AFGHANISTAN', Actor2CountryCode='AFG', Actor2KnownGroupCode=None, Actor2EthnicCode=None, Actor2Religion1Code=None, Actor2Religion2Code=None, Actor2Type1Code=None, Actor2Type2Code=None, Actor2Type3Code=None, IsRootEvent=0, EventCode='174', EventBaseCode='174', EventRootCode='17', QuadClass=4, GoldsteinScale=-5.0, NumMentions=4, NumSources=1, NumArticles=4, AvgTone=-2.0212767124176025, Actor1Geo_Type=1, Actor1Geo_FullName='Iraq', Actor1Geo_CountryCode='IZ', Actor1Geo_ADM1Code='IZ', Actor1Geo_Lat=33.0, Actor1Geo_Long=44.0, Actor1Geo_FeatureID='IZ', Actor2Geo_Type=1, Actor2Geo_FullName='Afghanistan', Actor2Geo_CountryCode='AF', Actor2Geo_ADM1Code='AF', Actor2Geo_Lat=33.0, Actor2Geo_Long=65.0, Actor2Geo_FeatureID='AF', ActionGeo_Type=1, ActionGeo_FullName='Iraq', ActionGeo_CountryCode='IZ', ActionGeo_ADM1Code='IZ', ActionGeo_Lat=33.0, ActionGeo_Long=44.0, ActionGeo_FeatureID='IZ', DATEADDED=20151023, SOURCEURL='http://www.timesofisrael.com/barneys-frank-military-talk-propels-a-herculean-crusade/'),\n",
       " Row(GLOBALEVENTID=478041236, SQLDATE=20151023, MonthYear=201510, Year=2015, FractionDate=2015.802734375, Actor1Code='MIL', Actor1Name='MILITARY', Actor1CountryCode=None, Actor1KnownGroupCode=None, Actor1EthnicCode=None, Actor1Religion1Code=None, Actor1Religion2Code=None, Actor1Type1Code='MIL', Actor1Type2Code=None, Actor1Type3Code=None, Actor2Code='AFG', Actor2Name='AFGHANISTAN', Actor2CountryCode='AFG', Actor2KnownGroupCode=None, Actor2EthnicCode=None, Actor2Religion1Code=None, Actor2Religion2Code=None, Actor2Type1Code=None, Actor2Type2Code=None, Actor2Type3Code=None, IsRootEvent=0, EventCode='174', EventBaseCode='174', EventRootCode='17', QuadClass=4, GoldsteinScale=-5.0, NumMentions=2, NumSources=1, NumArticles=2, AvgTone=-2.0212767124176025, Actor1Geo_Type=1, Actor1Geo_FullName='Iraq', Actor1Geo_CountryCode='IZ', Actor1Geo_ADM1Code='IZ', Actor1Geo_Lat=33.0, Actor1Geo_Long=44.0, Actor1Geo_FeatureID='IZ', Actor2Geo_Type=1, Actor2Geo_FullName='Iraq', Actor2Geo_CountryCode='IZ', Actor2Geo_ADM1Code='IZ', Actor2Geo_Lat=33.0, Actor2Geo_Long=44.0, Actor2Geo_FeatureID='IZ', ActionGeo_Type=1, ActionGeo_FullName='Iraq', ActionGeo_CountryCode='IZ', ActionGeo_ADM1Code='IZ', ActionGeo_Lat=33.0, ActionGeo_Long=44.0, ActionGeo_FeatureID='IZ', DATEADDED=20151023, SOURCEURL='http://www.timesofisrael.com/barneys-frank-military-talk-propels-a-herculean-crusade/')]"
      ]
     },
     "execution_count": 116,
     "metadata": {},
     "output_type": "execute_result"
    }
   ],
   "source": [
    "df_2015.select('*').where(df_2015.EventCode == '174').take(5)"
   ]
  },
  {
   "cell_type": "code",
   "execution_count": 104,
   "metadata": {
    "collapsed": true
   },
   "outputs": [],
   "source": [
    "df_2015.select('*').where(df_2015.EventRootCode == '07').groupBy(df_2015.Actor2Geo_CountryCode).agg(fun.count(df_2015.Actor2Geo_CountryCode).alias('no_of_times_aid_received')).join(df_country_codes,\n",
    "                        df_2015.Actor2Geo_CountryCode == df_country_codes.Nato_Country_Code).limit(100).write.csv('2015_AID_RECEIVED_COUNTRIES_FULL_DATA')"
   ]
  },
  {
   "cell_type": "code",
   "execution_count": 105,
   "metadata": {
    "collapsed": true
   },
   "outputs": [],
   "source": [
    "df_2015.select('*').where(df_2015.EventRootCode == '07').groupBy(df_2015.Actor1Geo_CountryCode).agg(fun.count(df_2015.Actor1Geo_CountryCode).alias('no_of_times_aid_received')).join(df_country_codes,\n",
    "                        df_2015.Actor1Geo_CountryCode == df_country_codes.Nato_Country_Code).limit(100).write.csv('2015_AID_RECEIVED_COUNTRIES_FULL_DATA_ACTOR1')"
   ]
  },
  {
   "cell_type": "code",
   "execution_count": 152,
   "metadata": {},
   "outputs": [
    {
     "data": {
      "text/plain": [
       "[Row(GLOBALEVENTID=478060576, SQLDATE=20151023, MonthYear=201510, Year=2015, FractionDate=2015.802734375, Actor1Code='IRN', Actor1Name='KURDISTAN', Actor1CountryCode='IRN', Actor1KnownGroupCode=None, Actor1EthnicCode=None, Actor1Religion1Code=None, Actor1Religion2Code=None, Actor1Type1Code=None, Actor1Type2Code=None, Actor1Type3Code=None, Actor2Code='GOV', Actor2Name='GOVERNMENT', Actor2CountryCode=None, Actor2KnownGroupCode=None, Actor2EthnicCode=None, Actor2Religion1Code=None, Actor2Religion2Code=None, Actor2Type1Code='GOV', Actor2Type2Code=None, Actor2Type3Code=None, IsRootEvent=0, EventCode='203', EventBaseCode='203', EventRootCode='20', QuadClass=4, GoldsteinScale=-10.0, NumMentions=1, NumSources=1, NumArticles=1, AvgTone=-5.751072883605957, Actor1Geo_Type=4, Actor1Geo_FullName='Kurdistan, Khuzestan, Iran', Actor1Geo_CountryCode='IR', Actor1Geo_ADM1Code='IR15', Actor1Geo_Lat=30.669300079345703, Actor1Geo_Long=50.205501556396484, Actor1Geo_FeatureID='-3072067', Actor2Geo_Type=4, Actor2Geo_FullName='Kurdistan, Khuzestan, Iran', Actor2Geo_CountryCode='IR', Actor2Geo_ADM1Code='IR15', Actor2Geo_Lat=30.669300079345703, Actor2Geo_Long=50.205501556396484, Actor2Geo_FeatureID='-3072067', ActionGeo_Type=4, ActionGeo_FullName=\"Makhmur, Liwa' Irbil, Iraq\", ActionGeo_CountryCode='IZ', ActionGeo_ADM1Code='IZ11', ActionGeo_Lat=35.77619934082031, ActionGeo_Long=43.5797004699707, ActionGeo_FeatureID='-3108123', DATEADDED=20151023, SOURCEURL='http://www.middleeasteye.net/columns/victims-oppressed-509307126'),\n",
       " Row(GLOBALEVENTID=478060581, SQLDATE=20151023, MonthYear=201510, Year=2015, FractionDate=2015.802734375, Actor1Code='IRN', Actor1Name='KURDISTAN', Actor1CountryCode='IRN', Actor1KnownGroupCode=None, Actor1EthnicCode=None, Actor1Religion1Code=None, Actor1Religion2Code=None, Actor1Type1Code=None, Actor1Type2Code=None, Actor1Type3Code=None, Actor2Code='IRQ', Actor2Name='IRAQ', Actor2CountryCode='IRQ', Actor2KnownGroupCode=None, Actor2EthnicCode=None, Actor2Religion1Code=None, Actor2Religion2Code=None, Actor2Type1Code=None, Actor2Type2Code=None, Actor2Type3Code=None, IsRootEvent=0, EventCode='203', EventBaseCode='203', EventRootCode='20', QuadClass=4, GoldsteinScale=-10.0, NumMentions=7, NumSources=1, NumArticles=7, AvgTone=-5.751072883605957, Actor1Geo_Type=4, Actor1Geo_FullName='Kurdistan, Khuzestan, Iran', Actor1Geo_CountryCode='IR', Actor1Geo_ADM1Code='IR15', Actor1Geo_Lat=30.669300079345703, Actor1Geo_Long=50.205501556396484, Actor1Geo_FeatureID='-3072067', Actor2Geo_Type=4, Actor2Geo_FullName=\"Makhmur, Liwa' Irbil, Iraq\", Actor2Geo_CountryCode='IZ', Actor2Geo_ADM1Code='IZ11', Actor2Geo_Lat=35.77619934082031, Actor2Geo_Long=43.5797004699707, Actor2Geo_FeatureID='-3108123', ActionGeo_Type=4, ActionGeo_FullName=\"Makhmur, Liwa' Irbil, Iraq\", ActionGeo_CountryCode='IZ', ActionGeo_ADM1Code='IZ11', ActionGeo_Lat=35.77619934082031, ActionGeo_Long=43.5797004699707, ActionGeo_FeatureID='-3108123', DATEADDED=20151023, SOURCEURL='http://www.middleeasteye.net/columns/victims-oppressed-509307126'),\n",
       " Row(GLOBALEVENTID=478070429, SQLDATE=20151023, MonthYear=201510, Year=2015, FractionDate=2015.802734375, Actor1Code='EUR', Actor1Name='EUROPE', Actor1CountryCode='EUR', Actor1KnownGroupCode=None, Actor1EthnicCode=None, Actor1Religion1Code=None, Actor1Religion2Code=None, Actor1Type1Code=None, Actor1Type2Code=None, Actor1Type3Code=None, Actor2Code='BUS', Actor2Name='INDUSTRY', Actor2CountryCode=None, Actor2KnownGroupCode=None, Actor2EthnicCode=None, Actor2Religion1Code=None, Actor2Religion2Code=None, Actor2Type1Code='BUS', Actor2Type2Code=None, Actor2Type3Code=None, IsRootEvent=1, EventCode='202', EventBaseCode='202', EventRootCode='20', QuadClass=4, GoldsteinScale=-10.0, NumMentions=5, NumSources=1, NumArticles=5, AvgTone=-4.038461685180664, Actor1Geo_Type=4, Actor1Geo_FullName='Rotherham, Rotherham, United Kingdom', Actor1Geo_CountryCode='UK', Actor1Geo_ADM1Code='UKL3', Actor1Geo_Lat=53.43330001831055, Actor1Geo_Long=-1.350000023841858, Actor1Geo_FeatureID='-2606551', Actor2Geo_Type=4, Actor2Geo_FullName='Rotherham, Rotherham, United Kingdom', Actor2Geo_CountryCode='UK', Actor2Geo_ADM1Code='UKL3', Actor2Geo_Lat=53.43330001831055, Actor2Geo_Long=-1.350000023841858, Actor2Geo_FeatureID='-2606551', ActionGeo_Type=4, ActionGeo_FullName='Rotherham, Rotherham, United Kingdom', ActionGeo_CountryCode='UK', ActionGeo_ADM1Code='UKL3', ActionGeo_Lat=53.43330001831055, ActionGeo_Long=-1.350000023841858, ActionGeo_FeatureID='-2606551', DATEADDED=20151023, SOURCEURL='http://tvnewsroom.org/newslines/business/united-kingdom-steel-maker-to-lay-off-1200-amid-cheap-chinese-imports-665/'),\n",
       " Row(GLOBALEVENTID=478082947, SQLDATE=20151023, MonthYear=201510, Year=2015, FractionDate=2015.802734375, Actor1Code='SYR', Actor1Name='SYRIA', Actor1CountryCode='SYR', Actor1KnownGroupCode=None, Actor1EthnicCode=None, Actor1Religion1Code=None, Actor1Religion2Code=None, Actor1Type1Code=None, Actor1Type2Code=None, Actor1Type3Code=None, Actor2Code='TUR', Actor2Name='TURKEY', Actor2CountryCode='TUR', Actor2KnownGroupCode=None, Actor2EthnicCode=None, Actor2Religion1Code=None, Actor2Religion2Code=None, Actor2Type1Code=None, Actor2Type2Code=None, Actor2Type3Code=None, IsRootEvent=1, EventCode='201', EventBaseCode='201', EventRootCode='20', QuadClass=4, GoldsteinScale=-9.5, NumMentions=3, NumSources=3, NumArticles=3, AvgTone=-4.334873676300049, Actor1Geo_Type=5, Actor1Geo_FullName='Euphrates, Dayr az Zawr, Syria', Actor1Geo_CountryCode='SY', Actor1Geo_ADM1Code='SY07', Actor1Geo_Lat=35.0, Actor1Geo_Long=40.25, Actor1Geo_FeatureID='-2541121', Actor2Geo_Type=5, Actor2Geo_FullName='Euphrates, Dayr az Zawr, Syria', Actor2Geo_CountryCode='SY', Actor2Geo_ADM1Code='SY07', Actor2Geo_Lat=35.0, Actor2Geo_Long=40.25, Actor2Geo_FeatureID='-2541121', ActionGeo_Type=4, ActionGeo_FullName='Ankara, Ankara, Turkey', ActionGeo_CountryCode='TU', ActionGeo_ADM1Code='TU68', ActionGeo_Lat=39.92720031738281, ActionGeo_Long=32.86439895629883, ActionGeo_FeatureID='-735338', DATEADDED=20151023, SOURCEURL='http://www.stripes.com/news/middle-east/us-plans-to-capture-the-islamic-state-s-capital-go-awry-1.374585'),\n",
       " Row(GLOBALEVENTID=478101647, SQLDATE=20151023, MonthYear=201510, Year=2015, FractionDate=2015.802734375, Actor1Code='IND', Actor1Name='GUJARAT', Actor1CountryCode='IND', Actor1KnownGroupCode=None, Actor1EthnicCode=None, Actor1Religion1Code=None, Actor1Religion2Code=None, Actor1Type1Code=None, Actor1Type2Code=None, Actor1Type3Code=None, Actor2Code='MOS', Actor2Name='MUSLIM', Actor2CountryCode=None, Actor2KnownGroupCode=None, Actor2EthnicCode=None, Actor2Religion1Code='MOS', Actor2Religion2Code=None, Actor2Type1Code=None, Actor2Type2Code=None, Actor2Type3Code=None, IsRootEvent=1, EventCode='202', EventBaseCode='202', EventRootCode='20', QuadClass=4, GoldsteinScale=-10.0, NumMentions=10, NumSources=1, NumArticles=10, AvgTone=-10.224438667297363, Actor1Geo_Type=4, Actor1Geo_FullName='Shiv, Rajasthan, India', Actor1Geo_CountryCode='IN', Actor1Geo_ADM1Code='IN24', Actor1Geo_Lat=26.183300018310547, Actor1Geo_Long=71.25, Actor1Geo_FeatureID='-2111141', Actor2Geo_Type=4, Actor2Geo_FullName='Shiv, Rajasthan, India', Actor2Geo_CountryCode='IN', Actor2Geo_ADM1Code='IN24', Actor2Geo_Lat=26.183300018310547, Actor2Geo_Long=71.25, Actor2Geo_FeatureID='-2111141', ActionGeo_Type=4, ActionGeo_FullName='Shiv, Rajasthan, India', ActionGeo_CountryCode='IN', ActionGeo_ADM1Code='IN24', ActionGeo_Lat=26.183300018310547, ActionGeo_Long=71.25, ActionGeo_FeatureID='-2111141', DATEADDED=20151023, SOURCEURL='http://www.dawn.com/news/1214945/perils-of-religious-chauvinism')]"
      ]
     },
     "execution_count": 152,
     "metadata": {},
     "output_type": "execute_result"
    }
   ],
   "source": [
    "mass_destrn_events = df_2015.where(df_2015.EventRootCode == '20')\n",
    "mass_destrn_events.select('*').take(5)"
   ]
  }
 ],
 "metadata": {
  "kernelspec": {
   "display_name": "Python 3",
   "language": "python",
   "name": "python3"
  },
  "language_info": {
   "codemirror_mode": {
    "name": "ipython",
    "version": 3
   },
   "file_extension": ".py",
   "mimetype": "text/x-python",
   "name": "python",
   "nbconvert_exporter": "python",
   "pygments_lexer": "ipython3",
   "version": "3.6.3"
  }
 },
 "nbformat": 4,
 "nbformat_minor": 2
}
