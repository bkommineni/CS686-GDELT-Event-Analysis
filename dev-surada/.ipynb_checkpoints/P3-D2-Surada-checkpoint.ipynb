{
 "cells": [
  {
   "cell_type": "code",
   "execution_count": 1,
   "metadata": {},
   "outputs": [
    {
     "data": {
      "text/plain": [
       "[StructField(GLOBALEVENTID,LongType,true),\n",
       " StructField(SQLDATE,LongType,true),\n",
       " StructField(MonthYear,LongType,true),\n",
       " StructField(Year,LongType,true),\n",
       " StructField(FractionDate,FloatType,true),\n",
       " StructField(Actor1Code,StringType,true),\n",
       " StructField(Actor1Name,StringType,true),\n",
       " StructField(Actor1CountryCode,StringType,true),\n",
       " StructField(Actor1KnownGroupCode,StringType,true),\n",
       " StructField(Actor1EthnicCode,StringType,true),\n",
       " StructField(Actor1Religion1Code,StringType,true),\n",
       " StructField(Actor1Religion2Code,StringType,true),\n",
       " StructField(Actor1Type1Code,StringType,true),\n",
       " StructField(Actor1Type2Code,StringType,true),\n",
       " StructField(Actor1Type3Code,StringType,true),\n",
       " StructField(Actor2Code,StringType,true),\n",
       " StructField(Actor2Name,StringType,true),\n",
       " StructField(Actor2CountryCode,StringType,true),\n",
       " StructField(Actor2KnownGroupCode,StringType,true),\n",
       " StructField(Actor2EthnicCode,StringType,true),\n",
       " StructField(Actor2Religion1Code,StringType,true),\n",
       " StructField(Actor2Religion2Code,StringType,true),\n",
       " StructField(Actor2Type1Code,StringType,true),\n",
       " StructField(Actor2Type2Code,StringType,true),\n",
       " StructField(Actor2Type3Code,StringType,true),\n",
       " StructField(IsRootEvent,IntegerType,true),\n",
       " StructField(EventCode,StringType,true),\n",
       " StructField(EventBaseCode,StringType,true),\n",
       " StructField(EventRootCode,StringType,true),\n",
       " StructField(QuadClass,LongType,true),\n",
       " StructField(GoldsteinScale,FloatType,true),\n",
       " StructField(NumMentions,LongType,true),\n",
       " StructField(NumSources,LongType,true),\n",
       " StructField(NumArticles,LongType,true),\n",
       " StructField(AvgTone,FloatType,true),\n",
       " StructField(Actor1Geo_Type,LongType,true),\n",
       " StructField(Actor1Geo_FullName,StringType,true),\n",
       " StructField(Actor1Geo_CountryCode,StringType,true),\n",
       " StructField(Actor1Geo_ADM1Code,StringType,true),\n",
       " StructField(Actor1Geo_Lat,FloatType,true),\n",
       " StructField(Actor1Geo_Long,FloatType,true),\n",
       " StructField(Actor1Geo_FeatureID,LongType,true),\n",
       " StructField(Actor2Geo_Type,LongType,true),\n",
       " StructField(Actor2Geo_FullName,StringType,true),\n",
       " StructField(Actor2Geo_CountryCode,StringType,true),\n",
       " StructField(Actor2Geo_ADM1Code,StringType,true),\n",
       " StructField(Actor2Geo_Lat,FloatType,true),\n",
       " StructField(Actor2Geo_Long,FloatType,true),\n",
       " StructField(Actor2Geo_FeatureID,LongType,true),\n",
       " StructField(ActionGeo_Type,LongType,true),\n",
       " StructField(ActionGeo_FullName,StringType,true),\n",
       " StructField(ActionGeo_CountryCode,StringType,true),\n",
       " StructField(ActionGeo_ADM1Code,StringType,true),\n",
       " StructField(ActionGeo_Lat,FloatType,true),\n",
       " StructField(ActionGeo_Long,FloatType,true),\n",
       " StructField(ActionGeo_FeatureID,LongType,true),\n",
       " StructField(DATEADDED,LongType,true),\n",
       " StructField(SOURCEURL,StringType,true)]"
      ]
     },
     "execution_count": 1,
     "metadata": {},
     "output_type": "execute_result"
    }
   ],
   "source": [
    "from pyspark.sql.types import StructType, StructField, StringType, FloatType, LongType, IntegerType, BooleanType\n",
    "\n",
    "types = {\n",
    "    'Float': lambda: FloatType(),\n",
    "    'Integer': lambda: LongType(),\n",
    "    'Long': lambda: LongType(),\n",
    "    'Bool': lambda: IntegerType()\n",
    "}\n",
    "\n",
    "feats = []\n",
    "with open('../CSV.header.txt') as header_file:\n",
    "    for lineno, line in enumerate(header_file):\n",
    "        line = line.strip()\n",
    "        if ':' in line:\n",
    "            feat_name, type_name = line.split(':')\n",
    "            feats.append(StructField(feat_name, types[type_name](), True))\n",
    "        else:\n",
    "            feats.append(StructField(line, StringType(), True))\n",
    "            \n",
    "schema = StructType(feats)\n",
    "feats"
   ]
  },
  {
   "cell_type": "code",
   "execution_count": 2,
   "metadata": {},
   "outputs": [],
   "source": [
    "df = spark.read.csv('/home/ubuntu/data-p3-d2/2015-unzip/2015*.gz', sep = '\\t', schema=schema)"
   ]
  },
  {
   "cell_type": "code",
   "execution_count": 3,
   "metadata": {},
   "outputs": [],
   "source": [
    "df.createOrReplaceTempView(\"GDELT\")"
   ]
  },
  {
   "cell_type": "code",
   "execution_count": null,
   "metadata": {},
   "outputs": [],
   "source": [
    "th_events = spark.sql('SELECT * FROM GDELT WHERE ActionGeo_CountryCode=\"TH\"').collect()\n",
    "th_df = th_events.rdd.map(lambda p: \"EventRootCode: \" + p.eventcode).collect()\n",
    "th_df\n",
    "th_df.createOrReplaceTempView(\"TH_GDELT\")\n",
    "# rdd = sc.parallelize(new_list).map(lambda x: Row(feature1=x[0], feature2=x[1], pcc=x[2]))\n",
    "# df_pcc = sqlContext.createDataFrame(rdd)\n",
    "# df_pcc.createOrReplaceTempView(\"PCC\")"
   ]
  },
  {
   "cell_type": "markdown",
   "metadata": {},
   "source": [
    "<h2>Happiness and Sadness of Thai population In 2015</h2>\n",
    "<p>The attributes that are specific to this analysis are 'AvgTone' representing 'emotion/sentiment', 'EventRootCode' representing 'type of events' and ActionGeo_CountryCode=\"TH\" representing 'Thailand'</p>\n",
    "<body>\n",
    "    <center><h4>Sadness</h4></center>\n",
    "<table>\n",
    "<tr>\n",
    "    <th>\n",
    "        EventRootCode\n",
    "    </th>\n",
    "    <th>\n",
    "        Event\n",
    "    </th>\n",
    "    <th>\n",
    "        AvgTone\n",
    "    </th>\n",
    "</tr>\n",
    "<tr>\n",
    "    <td>\n",
    "        18\n",
    "    </td>\n",
    "    <td>\n",
    "        ASSAULT\n",
    "    </td>\n",
    "    <td> \n",
    "       -5.390966580175084 \n",
    "    </td>\n",
    "    </tr>\n",
    "    <tr>\n",
    "    <td>\n",
    "        17\n",
    "    </td>\n",
    "    <td>\n",
    "        COERCE\n",
    "    </td>\n",
    "    <td> \n",
    "       -4.980801102637645 \n",
    "    </td>\n",
    "    </tr>\n",
    "       <tr>\n",
    "    <td>\n",
    "        19\n",
    "    </td>\n",
    "    <td>\n",
    "        FIGHT\n",
    "    </td>\n",
    "    <td> \n",
    "       -4.61264282794244\n",
    "    </td>\n",
    "    </tr>\n",
    "         <tr>\n",
    "    <td>\n",
    "        14\n",
    "    </td>\n",
    "    <td>\n",
    "        PROTEST\n",
    "    </td>\n",
    "    <td> \n",
    "       -4.1006759595536755\n",
    "    </td>\n",
    "    </tr>\n",
    "          <tr>\n",
    "    <td>\n",
    "        20\n",
    "    </td>\n",
    "    <td>\n",
    "        ENGAGE IN UNCONVENTIONAL MASS VIOLENCE\n",
    "    </td>\n",
    "    <td> \n",
    "        -4.062580829729205\n",
    "    </td>\n",
    "    </tr>\n",
    "</table>\n",
    "        <center><h4>Happiness</h4></center>\n",
    "<table>\n",
    "<tr>\n",
    "    <th>\n",
    "        EventRootCode\n",
    "    </th>\n",
    "    <th>\n",
    "        Event\n",
    "    </th>\n",
    "    <th>\n",
    "        AvgTone\n",
    "    </th>\n",
    "</tr>\n",
    "<tr>\n",
    "    <td>\n",
    "        5\n",
    "    </td>\n",
    "    <td>\n",
    "        ENGAGE IN DIPLOMATIC COOPERATION\n",
    "    </td>\n",
    "    <td> \n",
    "       0.2415000501685426 \n",
    "    </td>\n",
    "    </tr>\n",
    "    <tr>\n",
    "    <td>\n",
    "        3\n",
    "    </td>\n",
    "    <td>\n",
    "        EXPRESS INTENT TO COOPERATE\n",
    "    </td>\n",
    "    <td> \n",
    "       -0.20847577040658494 \n",
    "    </td>\n",
    "    </tr>\n",
    "       <tr>\n",
    "    <td>\n",
    "        4\n",
    "    </td>\n",
    "    <td>\n",
    "        CONSULT\n",
    "    </td>\n",
    "    <td> \n",
    "       -1.024762808470614\n",
    "    </td>\n",
    "    </tr>\n",
    "         <tr>\n",
    "    <td>\n",
    "        6\n",
    "    </td>\n",
    "    <td>\n",
    "         ENGAGE IN MATERIAL COOPERATION\n",
    "    </td>\n",
    "    <td> \n",
    "       -1.350121166321724\n",
    "    </td>\n",
    "    </tr>\n",
    "          <tr>\n",
    "    <td>\n",
    "        7\n",
    "    </td>\n",
    "    <td>\n",
    "        PROVIDE AID\n",
    "    </td>\n",
    "    <td> \n",
    "        -1.4913063709509484\n",
    "    </td>\n",
    "    </tr>\n",
    "</table>\n",
    "</body>\n",
    "<p>As you can see, from average tone even events which make people happy still got negative value so, I decided to go deeper to find which event makes people feel happiest and which one makes people feel saddest.</p>"
   ]
  },
  {
   "cell_type": "code",
   "execution_count": 4,
   "metadata": {},
   "outputs": [
    {
     "name": "stdout",
     "output_type": "stream",
     "text": [
      "+-------------------+-------------+\n",
      "|        Avg_Avgtone|EventRootCode|\n",
      "+-------------------+-------------+\n",
      "| -5.390966580175084|           18|\n",
      "| -4.980801102637645|           17|\n",
      "|  -4.61264282794244|           19|\n",
      "|-4.1006759595536755|           14|\n",
      "| -4.062580829729205|           20|\n",
      "+-------------------+-------------+\n",
      "\n"
     ]
    }
   ],
   "source": [
    "th_avgtone=spark.sql('SELECT AVG(AvgTone) as Avg_Avgtone,EventRootCode from GDELT WHERE ActionGeo_CountryCode=\"TH\" group by EventRootCode order by Avg_Avgtone Limit 5').show()\n",
    "th_avgtone"
   ]
  },
  {
   "cell_type": "code",
   "execution_count": 5,
   "metadata": {},
   "outputs": [
    {
     "name": "stdout",
     "output_type": "stream",
     "text": [
      "+--------------------+-------------+\n",
      "|         Avg_Avgtone|EventRootCode|\n",
      "+--------------------+-------------+\n",
      "|  0.2415000501685426|           05|\n",
      "|-0.20847577040658494|           03|\n",
      "|  -1.024762808470614|           04|\n",
      "|  -1.350121166321724|           06|\n",
      "| -1.4913063709509484|           07|\n",
      "+--------------------+-------------+\n",
      "\n"
     ]
    }
   ],
   "source": [
    "th_avgtone=spark.sql('SELECT AVG(AvgTone) as Avg_Avgtone,EventRootCode from GDELT WHERE ActionGeo_CountryCode=\"TH\" group by EventRootCode order by Avg_Avgtone DESC Limit 5').show()\n",
    "th_avgtone"
   ]
  },
  {
   "cell_type": "markdown",
   "metadata": {},
   "source": [
    "<h2>The event which makes people happy the most is PROVIDE AID which AvgTone is 12.314225.</h2>"
   ]
  },
  {
   "cell_type": "code",
   "execution_count": null,
   "metadata": {},
   "outputs": [
    {
     "name": "stdout",
     "output_type": "stream",
     "text": [
      "+------------+-------------+\n",
      "|max(AvgTone)|EventRootCode|\n",
      "+------------+-------------+\n",
      "|   12.314225|           07|\n",
      "|   7.0422535|           15|\n",
      "|   15.957447|           11|\n",
      "|   13.768116|           01|\n",
      "|   10.638298|           16|\n",
      "|   10.869565|           18|\n",
      "|   12.396694|           17|\n",
      "|   22.077923|           09|\n",
      "|   18.023256|           05|\n",
      "|   10.185185|           19|\n",
      "|   13.380281|           08|\n",
      "|   13.577586|           03|\n",
      "|    11.61413|           02|\n",
      "|   12.765958|           06|\n",
      "|   3.6281178|           20|\n",
      "|   11.396104|           10|\n",
      "|    9.178744|           12|\n",
      "|   17.171717|           04|\n",
      "|    9.219858|           13|\n",
      "|        10.0|           14|\n",
      "+------------+-------------+\n",
      "\n"
     ]
    }
   ],
   "source": [
    "max_avgtone=spark.sql('SELECT max(AvgTone),EventRootCode from GDELT WHERE ActionGeo_CountryCode=\"TH\" group by EventRootCode').show()\n",
    "max_avgtone"
   ]
  },
  {
   "cell_type": "code",
   "execution_count": null,
   "metadata": {},
   "outputs": [],
   "source": [
    "min_avgtone=spark.sql('SELECT min(AvgTone),EventRootCode from GDELT WHERE ActionGeo_CountryCode=\"TH\" group by EventRootCode').show()\n",
    "min_avgtone"
   ]
  },
  {
   "cell_type": "code",
   "execution_count": null,
   "metadata": {},
   "outputs": [],
   "source": [
    "analysis = spark.sql('SELECT * from GDELT WHERE AvgTone = 12.314225')\n",
    "analysis"
   ]
  },
  {
   "cell_type": "code",
   "execution_count": null,
   "metadata": {},
   "outputs": [],
   "source": []
  },
  {
   "cell_type": "markdown",
   "metadata": {},
   "source": [
    "Analysis\n",
    "Measuring Economic Impact of Political Protest\n",
    "The attributes that are specific to this analysis are ‘EventRootCode = 14’\n",
    "representing ‘protest’ and ‘ActionGeo_CountryCode= TH’ representing the country ‘Thailand’"
   ]
  },
  {
   "cell_type": "code",
   "execution_count": 17,
   "metadata": {},
   "outputs": [
    {
     "name": "stdout",
     "output_type": "stream",
     "text": [
      "+---------+-------------+----------+-----------+--------------------+\n",
      "|MonthYear|   Actor1Name|Actor2Name|    AvgTone|           SOURCEURL|\n",
      "+---------+-------------+----------+-----------+--------------------+\n",
      "|   201509|         THAI|      THAI|       -4.8|http://www.techwo...|\n",
      "|   201510|   GREENPEACE|  THAILAND| -3.8413877|http://ecowatch.c...|\n",
      "|   201510|   GREENPEACE|  THAILAND| -3.8413877|http://ecowatch.c...|\n",
      "|   201510|   POPULATION|      null| -1.9114689|http://thediploma...|\n",
      "|   201411|        CHINA| PROTESTER|  -9.274471|http://www.newsfu...|\n",
      "|   201411|        CHINA| PROTESTER|  -9.274471|http://www.newsfu...|\n",
      "|   201411|     THAILAND| PROTESTER|  -9.274471|http://www.newsfu...|\n",
      "|   201511|         null|GOVERNMENT|  -3.740563|http://www.whaleo...|\n",
      "|   201511|    PROTESTER|      ARMY|  -3.740563|http://www.whaleo...|\n",
      "|   201511|       PHUKET|   RUSSIAN|  0.6482982|http://www.thaipr...|\n",
      "|   201511|MILITARY RULE|      null|-0.69124424|http://www.huffin...|\n",
      "|   201411|     THAILAND|     CHINA|  -9.949741|http://www.turkis...|\n",
      "|   201511|   RATCHABURI|      null|  3.0296469|http://www.pv-mag...|\n",
      "|   201511|     THAILAND|     CHINA| -5.9479556|http://www.strait...|\n",
      "|   201411|        CHINA| PROTESTER| -10.502283|http://www.aa.com...|\n",
      "|   201411|        CHINA| PROTESTER|  -8.639706|http://www.newsfu...|\n",
      "|   201411|        CHINA| PROTESTER|  -9.881424|http://www.newsfu...|\n",
      "|   201411|     THAILAND|     CHINA| -10.502283|http://www.aa.com...|\n",
      "|   201411|     THAILAND| PROTESTER|  -9.881424|http://www.aa.com...|\n",
      "|   201511|      BANGKOK|      null| -2.2167487|http://www.nation...|\n",
      "+---------+-------------+----------+-----------+--------------------+\n",
      "only showing top 20 rows\n",
      "\n"
     ]
    }
   ],
   "source": [
    "#‘EventRootCode = 14’ protest\n",
    "th_protest = spark.sql('SELECT MonthYear,Actor1Name,Actor2Name,AvgTone,SOURCEURL from GDELT WHERE EventRootCode =\"14\" and ActionGeo_CountryCode=\"TH\"').show()"
   ]
  },
  {
   "cell_type": "code",
   "execution_count": null,
   "metadata": {},
   "outputs": [],
   "source": [
    "# from pyspark import SparkContext\n",
    "# from pyspark.sql import Row\n",
    "\n",
    "# rdd = sc.parallelize(new_list).map(lambda x: Row(feature1=x[0], feature2=x[1], pcc=x[2]))\n",
    "# df_pcc = sqlContext.createDataFrame(rdd)\n",
    "# df_pcc.createOrReplaceTempView(\"PCC\")"
   ]
  }
 ],
 "metadata": {
  "kernelspec": {
   "display_name": "Python 3",
   "language": "python",
   "name": "python3"
  },
  "language_info": {
   "codemirror_mode": {
    "name": "ipython",
    "version": 3
   },
   "file_extension": ".py",
   "mimetype": "text/x-python",
   "name": "python",
   "nbconvert_exporter": "python",
   "pygments_lexer": "ipython3",
   "version": "3.5.2"
  }
 },
 "nbformat": 4,
 "nbformat_minor": 2
}
